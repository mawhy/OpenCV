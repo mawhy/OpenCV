{
  "nbformat": 4,
  "nbformat_minor": 0,
  "metadata": {
    "kernelspec": {
      "display_name": "Python 3",
      "language": "python",
      "name": "python3"
    },
    "language_info": {
      "codemirror_mode": {
        "name": "ipython",
        "version": 3
      },
      "file_extension": ".py",
      "mimetype": "text/x-python",
      "name": "python",
      "nbconvert_exporter": "python",
      "pygments_lexer": "ipython3",
      "version": "3.5.4"
    },
    "colab": {
      "name": "Style Transfer with torch pre-trained model for OpenCV",
      "provenance": [],
      "collapsed_sections": [],
      "toc_visible": true,
      "include_colab_link": true
    },
    "accelerator": "GPU"
  },
  "cells": [
    {
      "cell_type": "markdown",
      "metadata": {
        "id": "view-in-github",
        "colab_type": "text"
      },
      "source": [
        "<a href=\"https://colab.research.google.com/github/mawhy/OpenCV/blob/master/Style_Transfer_with_torch_pre_trained_model_for_OpenCV.ipynb\" target=\"_parent\"><img src=\"https://colab.research.google.com/assets/colab-badge.svg\" alt=\"Open In Colab\"/></a>"
      ]
    },
    {
      "cell_type": "markdown",
      "metadata": {
        "id": "I3uRwsPp0ele",
        "colab_type": "text"
      },
      "source": [
        "# Hands-on Image Processing with Python\n",
        "## Deep Learning - Object Detection, Segmentation, Transfer Learning and Neural Style Transfer"
      ]
    },
    {
      "cell_type": "code",
      "metadata": {
        "id": "Fb_dJUuiMwy-",
        "colab_type": "code",
        "colab": {}
      },
      "source": [
        "!git clone https://github.com/PacktPublishing/Hands-On-Image-Processing-with-Python.git\n",
        "%cp -av \"/content/Hands-On-Image-Processing-with-Python/images/\" \"/\"\n",
        "#%rm -rf \"/content/Hands-On-Image-Processing-with-Python\""
      ],
      "execution_count": 0,
      "outputs": []
    },
    {
      "cell_type": "markdown",
      "metadata": {
        "collapsed": true,
        "id": "gPZcaUJx0emF",
        "colab_type": "text"
      },
      "source": [
        "# Style Transfer with torch pre-trained model / python-OpenCV"
      ]
    },
    {
      "cell_type": "code",
      "metadata": {
        "id": "dzzIEQ8o_Zim",
        "colab_type": "code",
        "colab": {}
      },
      "source": [
        "!git clone https://github.com/jonaylor89/NeuralStyleTransfer.git"
      ],
      "execution_count": 0,
      "outputs": []
    },
    {
      "cell_type": "code",
      "metadata": {
        "id": "foVJruMn0emF",
        "colab_type": "code",
        "colab": {}
      },
      "source": [
        "import cv2\n",
        "import matplotlib.pyplot as pylab\n",
        "import imutils\n",
        "import time\n",
        "import numpy as np\n",
        "model = '/content/NeuralStyleTransfer/models/instance_norm/la_muse.t7'\n",
        "print(\"loading style transfer model...\")\n",
        "net = cv2.dnn.readNetFromTorch(model)\n",
        "image = cv2.imread('../images/monalisa.jpg') # the content image path\n",
        "image = imutils.resize(image, width=600)\n",
        "(h, w) = image.shape[:2]\n",
        "b, g, r = np.mean(image[...,0]), np.mean(image[...,1]), np.mean(image[...,2])\n",
        "# construct a blob from the image, set the input, and then perform a\n",
        "# forward pass of the network\n",
        "blob = cv2.dnn.blobFromImage(image, 1.0, (w, h), (b, g, r), swapRB=False, crop=False)\n",
        "net.setInput(blob)\n",
        "start = time.time()\n",
        "output = net.forward()\n",
        "end = time.time()\n",
        "# reshape the output tensor, add back in the mean subtraction, and\n",
        "# then swap the channel ordering\n",
        "output = output.reshape((3, output.shape[2], output.shape[3]))\n",
        "output[0] += b\n",
        "output[1] += g\n",
        "output[2] += r\n",
        "#output /= 255.0\n",
        "output = output.transpose(1, 2, 0)\n",
        "# show information on how long inference took\n",
        "print(\"neural style transfer took {:.4f} seconds\".format(end - start))\n",
        "# show the images\n",
        "print(output.shape)\n",
        "cv2.imwrite('styled.jpg', output)\n",
        "from PIL import Image\n",
        "import matplotlib.pylab as pylab\n",
        "output_image = Image.open(\"/content/styled.jpg\")\n",
        "pylab.imshow(output_image)\n",
        "pylab.axis('off')\n",
        "pylab.show()"
      ],
      "execution_count": 0,
      "outputs": []
    },
    {
      "cell_type": "code",
      "metadata": {
        "colab_type": "code",
        "id": "Mb6hcPGYNmKY",
        "colab": {}
      },
      "source": [
        "import cv2\n",
        "import matplotlib.pyplot as pylab\n",
        "import imutils\n",
        "import time\n",
        "import numpy as np\n",
        "model = '/content/NeuralStyleTransfer/models/instance_norm/candy.t7' # assumes the pre-trained torch file is in this path, \n",
        "# download it from here: https://github.com/DmitryUlyanov/online-neural-doodle/blob/master/pretrained/starry_night.t7\n",
        "print(\"loading style transfer model...\")\n",
        "net = cv2.dnn.readNetFromTorch(model)\n",
        "image = cv2.imread('../images/monalisa.jpg') # the content image path\n",
        "image = imutils.resize(image, width=600)\n",
        "(h, w) = image.shape[:2]\n",
        "b, g, r = np.mean(image[...,0]), np.mean(image[...,1]), np.mean(image[...,2])\n",
        "# construct a blob from the image, set the input, and then perform a\n",
        "# forward pass of the network\n",
        "blob = cv2.dnn.blobFromImage(image, 1.0, (w, h), (b, g, r), swapRB=False, crop=False)\n",
        "net.setInput(blob)\n",
        "start = time.time()\n",
        "output = net.forward()\n",
        "end = time.time()\n",
        "# reshape the output tensor, add back in the mean subtraction, and\n",
        "# then swap the channel ordering\n",
        "output = output.reshape((3, output.shape[2], output.shape[3]))\n",
        "output[0] += b\n",
        "output[1] += g\n",
        "output[2] += r\n",
        "#output /= 255.0\n",
        "output = output.transpose(1, 2, 0)\n",
        "# show information on how long inference took\n",
        "print(\"neural style transfer took {:.4f} seconds\".format(end - start))\n",
        "# show the images\n",
        "print(output.shape)\n",
        "cv2.imwrite('styled.jpg', output)\n",
        "from PIL import Image\n",
        "import matplotlib.pylab as pylab\n",
        "output_image = Image.open(\"/content/styled.jpg\")\n",
        "pylab.imshow(output_image)\n",
        "pylab.axis('off')\n",
        "pylab.show()"
      ],
      "execution_count": 0,
      "outputs": []
    }
  ]
}