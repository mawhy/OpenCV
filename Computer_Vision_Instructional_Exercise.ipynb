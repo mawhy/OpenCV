{
  "nbformat": 4,
  "nbformat_minor": 0,
  "metadata": {
    "colab": {
      "name": "Computer Vision - Instructional Exercise",
      "provenance": [],
      "collapsed_sections": [],
      "toc_visible": true,
      "include_colab_link": true
    },
    "kernelspec": {
      "name": "python3",
      "display_name": "Python 3"
    }
  },
  "cells": [
    {
      "cell_type": "markdown",
      "metadata": {
        "id": "view-in-github",
        "colab_type": "text"
      },
      "source": [
        "<a href=\"https://colab.research.google.com/github/mawhy/OpenCV/blob/master/Computer_Vision_Instructional_Exercise.ipynb\" target=\"_parent\"><img src=\"https://colab.research.google.com/assets/colab-badge.svg\" alt=\"Open In Colab\"/></a>"
      ]
    },
    {
      "cell_type": "markdown",
      "metadata": {
        "id": "GSmFPgSRo72S",
        "colab_type": "text"
      },
      "source": [
        "# Computer Vision\n",
        "\n",
        "## How to Computer Vision:\n",
        "\n",
        "With Machine Learning of course!\n",
        "\n",
        "![](https://imgs.xkcd.com/comics/machine_learning.png)\n",
        "\n",
        "Maybe Deep Learning?\n",
        "\n",
        "![](https://cdn-images-1.medium.com/max/720/1*fRctlHDweu2foq6bBmzCgA.png =100x)\n",
        "\n",
        "\n",
        "\n",
        "```\n",
        ">>> print(computer_vision == conv_nets)\n",
        "False\n",
        "```\n",
        "\n",
        "\n",
        "\n",
        "But, as we've seen, there's a whole branch of work that did this with traditional methods. Today, we will work through some things that are important to know about computer vision, especially with respect to Duckietown."
      ]
    },
    {
      "cell_type": "markdown",
      "metadata": {
        "id": "FDa42TUurxHU",
        "colab_type": "text"
      },
      "source": [
        "## Numpy Tutorial and Introduction\n",
        "\n",
        "Images can be represented as **matrices** (2D arrays) or 3D **tensors** (in order to get RGB channels). [OpenCV](https://opencv.org/), a popular Computer Vision package, is a great tool to work with images, and provides a lot really useful tools that you can use to edit, transform, and work with your images. Python's OpenCV is actually a **wrapper** on top of the C/C++ implementation of the library, which makes it really fast. In addition, everything in OpenCV can be converted to and from [Numpy](http://www.numpy.org/) arrays, a really nice way to work with multidimensional objects like matrices and tensors. Like OpenCV, all Python calls to the Numpy library actually get converted and executed into C, which makes it really fast as well.\n",
        "\n",
        "As we work through things like camera matrices, calibration, homography matrices, etc, it'll be important to know how to work with these libraries, and understand what you can (and can't do with them).\n"
      ]
    },
    {
      "cell_type": "code",
      "metadata": {
        "id": "5iE-OdEMoTWD",
        "colab_type": "code",
        "colab": {}
      },
      "source": [
        "!wget \"https://www.duckietown.org/wp-content/uploads/2018/05/duckietown_nice-1024x683.jpg\" -O dt.jpg\n",
        "    \n",
        "# np = common abbreviation for numpy\n",
        "import numpy as np\n",
        "\n",
        "# Constructing a numpy array from a list\n",
        "\n",
        "boring_list = [1, 2, 3]\n",
        "fun_array = np.array(boring_list) # Calling np.array(a_list) will cast your list into a numpy array!\n",
        "\n",
        "# Arrays can be added, and there are tons of convenient functions to make them\n",
        "ones = np.ones(3)\n",
        "result = fun_array + ones + np.zeros(3)\n",
        "\n",
        "print(result)\n",
        "\n",
        "# What about matrices?\n",
        "boring_mtx = [[1, 2], [3, 4]]\n",
        "ones = np.ones((2, 2)) # (2, 2) describes the shape that I want\n",
        "identity = np.eye(2) # an Identity matrix\n",
        "\n",
        "# Numpy will cast your lists into arrays if need be\n",
        "try:\n",
        "    result = boring_mtx + identity \n",
        "    print(result)\n",
        "except:\n",
        "    print(\"Can I do this?\")\n",
        "    \n",
        "# Random Sampling? No problem!\n",
        "rando_mtx = np.random.random((100, 100))\n",
        "\n",
        "# A lot of functions built in\n",
        "print(np.linalg.norm(rando_mtx))\n",
        "\n",
        "# But different behavior depending on the parameters you give it!\n",
        "print(np.linalg.norm(rando_mtx, axis=0))\n",
        "print(np.linalg.norm(rando_mtx, ord=2))\n",
        "\n",
        "# Matrix Operations work exactly how you think they would\n",
        "rando_mtx = np.eye(rando_mtx.shape[0]) * rando_mtx\n",
        "\n",
        "\n",
        "# Or not? One big (and subtle) feature: broadcasting\n",
        "rando_mtx += 1 # adding a scalar works, that's cool! \n",
        "\n",
        "mtx1 = np.random.random((8, 1, 7, 1))\n",
        "mtx2 = np.random.random((8, 2, 1, 9))\n",
        "\n",
        "# No error? \n",
        "res = mtx1 * mtx2 \n",
        "\n",
        "# Does the same? \n",
        "res2 = mtx1.dot(mtx2)\n",
        "\n",
        "print(np.array_equal(res, res2), res.shape, res2.shape)\n",
        "\n",
        "# Big takeaway: numpy docs are your friend! Look before you write!\n"
      ],
      "execution_count": 0,
      "outputs": []
    },
    {
      "cell_type": "markdown",
      "metadata": {
        "id": "5z1pSaJNxf1c",
        "colab_type": "text"
      },
      "source": [
        "## OpenCV\n"
      ]
    },
    {
      "cell_type": "code",
      "metadata": {
        "id": "HFf6ET0PyZA7",
        "colab_type": "code",
        "colab": {}
      },
      "source": [
        "%matplotlib inline\n",
        "from matplotlib import pyplot as plt\n",
        "import cv2\n",
        "\n",
        "# Load in Grayscale\n",
        "img = cv2.imread('./dt.jpg', 0)\n",
        "\n",
        "# The underlying representation is a numpy array!\n",
        "print(type(img))\n",
        "\n",
        "plt.imshow(img)\n",
        "plt.show()\n",
        "\n",
        "img = cv2.imread('./dt.jpg')\n",
        "\n",
        "plt.imshow(img)\n",
        "plt.show()\n",
        "\n",
        "# This would work normally, but it will crash the colab kernel, so don't.\n",
        "# cv2.imshow('Image', img)\n"
      ],
      "execution_count": 0,
      "outputs": []
    },
    {
      "cell_type": "markdown",
      "metadata": {
        "id": "YG8jTYMF0Ny8",
        "colab_type": "text"
      },
      "source": [
        "Notice anything different about the above image? You'll see that the colors are off - this is because OpenCV uses a BGR ordering of their image channels, whereas when you want to plot in something other than OpenCV, you'll need to convert it. In Colab, you cannot use the standard OpenCV 'imshow' function, so we use matplotlib."
      ]
    },
    {
      "cell_type": "code",
      "metadata": {
        "id": "yt5ww-mH0ASU",
        "colab_type": "code",
        "colab": {}
      },
      "source": [
        "imgrgb = cv2.cvtColor(img, cv2.COLOR_BGR2RGB)\n",
        "\n",
        "plt.imshow(imgrgb)\n",
        "plt.show()\n",
        "\n",
        "# Or, use fun numpy functions / indexing!\n",
        "imgrgb = img[:,:,::-1]\n",
        "plt.imshow(imgrgb)\n",
        "plt.show()\n"
      ],
      "execution_count": 0,
      "outputs": []
    },
    {
      "cell_type": "markdown",
      "metadata": {
        "id": "CfvjNeAQ2H31",
        "colab_type": "text"
      },
      "source": [
        "### Common Image Manipulations\n",
        "\n",
        "OpenCV is super useful for doing lots of image transformations, and we will experiment with some of the basic ones below. "
      ]
    },
    {
      "cell_type": "code",
      "metadata": {
        "id": "bTy4n5Lb2HUy",
        "colab_type": "code",
        "colab": {}
      },
      "source": [
        "# Expanding\n",
        "res = cv2.resize(imgrgb, None,fx=2, fy=2, interpolation = cv2.INTER_CUBIC)\n",
        "plt.imshow(res)\n",
        "plt.show()\n",
        "\n",
        "# Shrinking\n",
        "res = cv2.resize(imgrgb, None,fx=.1, fy=.1, interpolation = cv2.INTER_CUBIC)\n",
        "plt.imshow(res)\n",
        "plt.show()\n",
        "\n",
        "# What are some practical constraints that have to do with image resizing?"
      ],
      "execution_count": 0,
      "outputs": []
    },
    {
      "cell_type": "code",
      "metadata": {
        "id": "F1BcmGYM3uAB",
        "colab_type": "code",
        "colab": {}
      },
      "source": [
        "#@title Transformation Parameters { run: \"auto\" }\n",
        "\n",
        "theta_degrees = 0 #@param {type:\"slider\", min:0, max:360, step:10}\n",
        "shift_x = 100 #@param {type:\"slider\", min:-100, max:100, step:2}\n",
        "shift_y = 0 #@param {type:\"slider\", min:-100, max:100, step:2}\n",
        "\n",
        "# We can also play around with rotations by defining our M matrix, \n",
        "# which has the form:\n",
        "\"\"\"\n",
        "| cos(theta) -sin(theta) tx | \n",
        "| sin(theta)  cos(theta) ty |\n",
        "\"\"\"\n",
        "\n",
        "rows, cols, _ = imgrgb.shape\n",
        "\n",
        "radians = theta_degrees * np.pi / 180\n",
        "M = [\n",
        "        [np.cos(radians), -np.sin(radians), shift_x], \n",
        "        [np.sin(radians),  np.cos(radians), shift_y]\n",
        "    ]\n",
        "\n",
        "M = np.array(M)\n",
        "rows += int(shift_x)\n",
        "cols += int(shift_y)\n",
        "\n",
        "res = cv2.warpAffine(imgrgb, M, (cols,rows))\n",
        "\n",
        "plt.imshow(res)\n",
        "plt.show()\n",
        "\n",
        "\n"
      ],
      "execution_count": 0,
      "outputs": []
    },
    {
      "cell_type": "markdown",
      "metadata": {
        "id": "QhHaxmCY3mmY",
        "colab_type": "text"
      },
      "source": [
        "### (Slightly) Advanced Image Manipulation Techniques\n",
        "\n",
        "For certain tasks (i.e object detection), the image needs to be processed before it is fed into our module, for better results. Here, we go over some advanced image manipulation techniques.\n",
        "\n",
        "Things like blurring, smoothing, and thresholding can be useful for things where we can make strong assumptions. For example, when we know our lane markings will be white, we can threshold our image pixels to filter out the values that aren't close enough to \"white\", which is represented (in RGB / BGR) as (255, 255, 255)\n",
        "\n",
        "You can also do things like Background Subtraction, which will expose differences in between frames."
      ]
    },
    {
      "cell_type": "code",
      "metadata": {
        "id": "WtlNW7sC6xhT",
        "colab_type": "code",
        "colab": {}
      },
      "source": [
        "# make things easier!\n",
        "img = imgrgb\n",
        "\n",
        "# Thresholding is cool\n",
        "ret,thresh1 = cv2.threshold(img,127,255,cv2.THRESH_BINARY)\n",
        "ret,thresh2 = cv2.threshold(img,127,255,cv2.THRESH_BINARY_INV)\n",
        "ret,thresh3 = cv2.threshold(img,127,255,cv2.THRESH_TRUNC)\n",
        "ret,thresh4 = cv2.threshold(img,127,255,cv2.THRESH_TOZERO)\n",
        "ret,thresh5 = cv2.threshold(img,127,255,cv2.THRESH_TOZERO_INV)\n",
        "\n",
        "titles = ['Original Image','BINARY','BINARY_INV','TRUNC','TOZERO','TOZERO_INV']\n",
        "images = [img, thresh1, thresh2, thresh3, thresh4, thresh5]\n",
        "\n",
        "for i in range(6):\n",
        "    plt.subplot(2,3,i+1),plt.imshow(images[i],'gray')\n",
        "    plt.title(titles[i])\n",
        "    plt.xticks([]),plt.yticks([])\n",
        "\n",
        "plt.show()\n",
        "\n",
        "# Blurring - smoothes the image out\n",
        "blur = cv2.blur(img,(10, 10))\n",
        "gblur = cv2.GaussianBlur(imgrgb,(5,5),0)\n",
        "\n",
        "plt.imshow(img), plt.title('Original')\n",
        "plt.show()\n",
        "plt.imshow(blur), plt.title('Blurred')\n",
        "plt.show()\n",
        "plt.imshow(gblur),plt.title('Gaussian Blur')\n",
        "plt.show()\n"
      ],
      "execution_count": 0,
      "outputs": []
    }
  ]
}