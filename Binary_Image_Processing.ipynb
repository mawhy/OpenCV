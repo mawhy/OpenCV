{
  "nbformat": 4,
  "nbformat_minor": 0,
  "metadata": {
    "kernelspec": {
      "display_name": "Python 3",
      "language": "python",
      "name": "python3"
    },
    "language_info": {
      "codemirror_mode": {
        "name": "ipython",
        "version": 3
      },
      "file_extension": ".py",
      "mimetype": "text/x-python",
      "name": "python",
      "nbconvert_exporter": "python",
      "pygments_lexer": "ipython3",
      "version": "3.7.4"
    },
    "colab": {
      "name": "Binary Image Processing",
      "provenance": [],
      "collapsed_sections": [],
      "toc_visible": true,
      "include_colab_link": true
    }
  },
  "cells": [
    {
      "cell_type": "markdown",
      "metadata": {
        "id": "view-in-github",
        "colab_type": "text"
      },
      "source": [
        "<a href=\"https://colab.research.google.com/github/mawhy/OpenCV/blob/master/Binary_Image_Processing.ipynb\" target=\"_parent\"><img src=\"https://colab.research.google.com/assets/colab-badge.svg\" alt=\"Open In Colab\"/></a>"
      ]
    },
    {
      "cell_type": "markdown",
      "metadata": {
        "id": "sEOHLYo9Q-G8",
        "colab_type": "text"
      },
      "source": [
        "# Image Processing CookBook\n",
        "## Binary Image Processing\n"
      ]
    },
    {
      "cell_type": "code",
      "metadata": {
        "id": "A94aVHugAnkU",
        "colab_type": "code",
        "colab": {}
      },
      "source": [
        "!git clone https://github.com/PacktPublishing/Python-Image-Processing-Cookbook.git\n",
        "%cp -av \"/content/Python-Image-Processing-Cookbook/Chapter 04/images/\" \"/content/\"\n",
        "%cp -av \"/content/Python-Image-Processing-Cookbook/Chapter 04/models/\" \"/content/\"\n",
        "%rm -rf \"/content/Python-Image-Processing-Cookbook\""
      ],
      "execution_count": 0,
      "outputs": []
    },
    {
      "cell_type": "code",
      "metadata": {
        "id": "_AAm0iauAxcV",
        "colab_type": "code",
        "colab": {}
      },
      "source": [
        "!pip install mahotas"
      ],
      "execution_count": 0,
      "outputs": []
    },
    {
      "cell_type": "markdown",
      "metadata": {
        "id": "JEyg60VlQ-G9",
        "colab_type": "text"
      },
      "source": [
        "### Morphologicial Operators"
      ]
    },
    {
      "cell_type": "code",
      "metadata": {
        "id": "i4cp5wrgQ-G-",
        "colab_type": "code",
        "colab": {}
      },
      "source": [
        "%matplotlib inline\n",
        "\n",
        "from skimage.io import imread\n",
        "from skimage.color import rgb2gray\n",
        "from skimage.filters import threshold_otsu\n",
        "from scipy.ndimage.morphology import binary_erosion, binary_dilation, binary_fill_holes, morphological_gradient, distance_transform_edt\n",
        "import numpy as np\n",
        "import matplotlib.pylab as plt\n",
        "\n",
        "im = rgb2gray(imread('images/giraffe.png'))\n",
        "thres = threshold_otsu(im)\n",
        "im = (im > thres).astype(np.uint8)\n",
        "\n",
        "eroded = binary_erosion(im, structure=np.ones((2,2)), iterations=20)[20:,20:]\n",
        "eroded = 1 - eroded\n",
        "dilated = binary_dilation(eroded, structure=np.ones((11,11)))\n",
        "edges = 1 - morphological_gradient(im, size=3) #dilated5.astype(np.int) - eroded5.astype(np.int)\n",
        "boundary = np.clip(dilated.astype(np.int) - eroded.astype(np.int), 0, 1)\n",
        "dt = distance_transform_edt(np.logical_not(boundary))\n",
        "\n",
        "plt.figure(figsize=(20,25))\n",
        "plt.gray()\n",
        "plt.subplots_adjust(left=0, right=1, bottom=0, top=0.95, wspace=0.05, hspace=0.05)\n",
        "plt.subplot(221), plt.imshow(im), plt.axis('off'), plt.title('thresholded original image (otsu)', size=20)\n",
        "plt.subplot(222), plt.imshow(eroded), plt.axis('off'), plt.title('inverse eroded binary image (2x2 square)', size=20)\n",
        "plt.subplot(223), plt.imshow(dt, cmap='jet'), plt.axis('off'), plt.title('Euclidean distance transform', size=20), plt.colorbar()\n",
        "plt.subplot(224), plt.imshow(edges), plt.axis('off'), plt.title('Morphological edges (size 3)', size=20)\n",
        "plt.show()"
      ],
      "execution_count": 0,
      "outputs": []
    },
    {
      "cell_type": "code",
      "metadata": {
        "id": "fIYICXjkQ-HC",
        "colab_type": "code",
        "colab": {}
      },
      "source": [
        "from skimage import morphology as morph\n",
        "from skimage.io import imread\n",
        "from skimage.color import rgb2gray\n",
        "from skimage.filters import threshold_otsu\n",
        "\n",
        "im = rgb2gray(imread('images/circles.png'))\n",
        "im = (im > 0).astype(np.uint8)\n",
        "\n",
        "disk2 = morph.disk(radius=2)\n",
        "disk8 = morph.disk(radius=8)\n",
        "\n",
        "eroded2 = morph.binary_erosion(im, selem=disk2)\n",
        "eroded8 = morph.binary_erosion(im, selem=disk8)\n",
        "labeled = morph.label(eroded8, connectivity=1)\n",
        "dilated2 = morph.binary_dilation(im, selem=disk2)\n",
        "edges = dilated2.astype(np.int) - eroded2.astype(np.int)\n",
        "\n",
        "skeleton = morph.skeletonize(im)\n",
        "\n",
        "plt.figure(figsize=(15,15))\n",
        "plt.subplot(221), plt.imshow(im), plt.axis('off'), plt.title('original binary image', size=15)\n",
        "plt.subplot(222), plt.imshow(labeled, cmap='jet'), plt.axis('off'), plt.title('eroded with connected components (radius 8)', size=15)\n",
        "plt.subplot(223), plt.imshow(edges), plt.axis('off'), plt.title('edges (radius 2)', size=15)\n",
        "plt.subplot(224), plt.imshow(skeleton), plt.axis('off'), plt.title('skeleton binary image', size=15)\n",
        "plt.show()"
      ],
      "execution_count": 0,
      "outputs": []
    },
    {
      "cell_type": "markdown",
      "metadata": {
        "id": "7GedQxbcQ-HF",
        "colab_type": "text"
      },
      "source": [
        "### Chain link fence hole detection"
      ]
    },
    {
      "cell_type": "code",
      "metadata": {
        "id": "SMNEVkPpQ-HF",
        "colab_type": "code",
        "colab": {}
      },
      "source": [
        "from skimage.io import imread\n",
        "from skimage.color import rgb2gray\n",
        "from skimage.filters import threshold_otsu\n",
        "from skimage.morphology import binary_erosion, square\n",
        "import numpy as np\n",
        "import matplotlib.pylab as plt\n",
        "\n",
        "orig = imread('images/chainlink.png')\n",
        "im = rgb2gray(orig)\n",
        "thres = threshold_otsu(im)\n",
        "im = (im > thres).astype(np.uint8)\n",
        "\n",
        "eroded = binary_erosion(im, square(55))\n",
        "\n",
        "plt.figure(figsize=(20,7))\n",
        "plt.gray()\n",
        "plt.subplots_adjust(left=0, right=1, bottom=0, top=0.95, wspace=0.05, hspace=0.05)\n",
        "plt.subplot(131), plt.imshow(orig), plt.axis('off'), plt.title('original image', size=20)\n",
        "plt.subplot(132), plt.imshow(im), plt.axis('off'), plt.title('thresholded image (otsu)', size=20)\n",
        "plt.subplot(133), plt.imshow(eroded), plt.axis('off'), plt.title('eroded binary image (55x55 square)', size=20)\n",
        "plt.show()"
      ],
      "execution_count": 0,
      "outputs": []
    },
    {
      "cell_type": "code",
      "metadata": {
        "id": "yRUo5X65Q-HI",
        "colab_type": "code",
        "colab": {}
      },
      "source": [
        "from skimage.morphology import rectangle\n",
        "orig = imread('images/tetris.png')\n",
        "im = rgb2gray(orig)\n",
        "im = (im < 1).astype(np.uint8)\n",
        "\n",
        "eroded = binary_erosion(im, square(21))\n",
        "eroded2 = binary_erosion(im, rectangle(41,20))\n",
        "\n",
        "plt.figure(figsize=(20,20))\n",
        "plt.gray()\n",
        "plt.subplots_adjust(left=0, right=1, bottom=0, top=0.95, wspace=0.05, hspace=0.05)\n",
        "plt.subplot(141), plt.imshow(orig), plt.axis('off'), plt.title('original image', size=20)\n",
        "plt.subplot(142), plt.imshow(im), plt.axis('off'), plt.title('thresholded image', size=20)\n",
        "plt.subplot(143), plt.imshow(eroded), plt.axis('off'), plt.title('eroded (21x21 SE)', size=20)\n",
        "plt.subplot(144), plt.imshow(eroded2), plt.axis('off'), plt.title('eroded (41x20 SE)', size=20)\n",
        "plt.show()"
      ],
      "execution_count": 0,
      "outputs": []
    },
    {
      "cell_type": "code",
      "metadata": {
        "id": "8lW0TB82Q-HK",
        "colab_type": "code",
        "colab": {}
      },
      "source": [
        "from skimage.morphology import diamond\n",
        "orig = imread('images/card.png')\n",
        "im = rgb2gray(orig)\n",
        "im = (im < 1).astype(np.uint8)\n",
        "\n",
        "eroded = binary_erosion(im, diamond(21))\n",
        "eroded2 = binary_erosion(im, diamond(41))\n",
        "\n",
        "plt.figure(figsize=(20,20))\n",
        "plt.gray()\n",
        "plt.subplots_adjust(left=0, right=1, bottom=0, top=0.95, wspace=0.05, hspace=0.05)\n",
        "plt.subplot(141), plt.imshow(orig), plt.axis('off'), plt.title('original image', size=20)\n",
        "plt.subplot(142), plt.imshow(im), plt.axis('off'), plt.title('thresholded image', size=20)\n",
        "plt.subplot(143), plt.imshow(eroded), plt.axis('off'), plt.title('eroded (21x21 SE)', size=20)\n",
        "plt.subplot(144), plt.imshow(eroded2), plt.axis('off'), plt.title('eroded (41x20 SE)', size=20)\n",
        "plt.show()"
      ],
      "execution_count": 0,
      "outputs": []
    },
    {
      "cell_type": "markdown",
      "metadata": {
        "id": "SaEOTP3FQ-HN",
        "colab_type": "text"
      },
      "source": [
        "### Detect and Separate different types of objects"
      ]
    },
    {
      "cell_type": "code",
      "metadata": {
        "id": "S3Xu9TfuQ-HN",
        "colab_type": "code",
        "colab": {}
      },
      "source": [
        "from skimage.morphology import disk, rectangle\n",
        "im = rgb2gray(imread('images/points_with_lines.png'))\n",
        "th = threshold_otsu(im)\n",
        "im = (im >= th).astype(np.uint8)\n",
        "eroded1 = binary_erosion(im, disk(5))\n",
        "eroded2 = binary_erosion(im, rectangle(20, 1))\n",
        "eroded3 = binary_erosion(im, rectangle(1, 20))\n",
        "\n",
        "plt.figure(figsize=(20,17))\n",
        "plt.gray()\n",
        "plt.subplots_adjust(left=0, right=1, bottom=0, top=0.95, wspace=0.05, hspace=0.05)\n",
        "plt.subplot(221), plt.imshow(im), plt.axis('off'), plt.title('binary image', size=20)\n",
        "plt.subplot(222), plt.imshow(eroded1), plt.axis('off'), plt.title('points', size=20)\n",
        "plt.subplot(223), plt.imshow(eroded2), plt.axis('off'), plt.title('vertical lines', size=20)\n",
        "plt.subplot(224), plt.imshow(eroded3), plt.axis('off'), plt.title('horizontal lines', size=20)\n",
        "plt.show()"
      ],
      "execution_count": 0,
      "outputs": []
    },
    {
      "cell_type": "code",
      "metadata": {
        "id": "izMr2ojpQ-HQ",
        "colab_type": "code",
        "colab": {}
      },
      "source": [
        "from skimage.morphology import disk, square, black_tophat, white_tophat\n",
        "im = rgb2gray(imread('images/mri.png'))\n",
        "eroded1 = black_tophat(im, disk(20))\n",
        "eroded2 = black_tophat(im, square(50))\n",
        "eroded3 = white_tophat(im, square(50))\n",
        "\n",
        "plt.figure(figsize=(15,17))\n",
        "plt.gray()\n",
        "plt.subplots_adjust(left=0, right=1, bottom=0, top=0.95, wspace=0.05, hspace=0.05)\n",
        "plt.subplot(221), plt.imshow(im), plt.axis('off'), plt.title('MRI image', size=20)\n",
        "plt.subplot(222), plt.imshow(eroded1), plt.axis('off'), plt.title('black top hat (small SE)', size=20)\n",
        "plt.subplot(223), plt.imshow(eroded2), plt.axis('off'), plt.title('black top hat (large SE)', size=20)\n",
        "plt.subplot(224), plt.imshow(eroded3), plt.axis('off'), plt.title('white top hat', size=20)\n",
        "plt.show()"
      ],
      "execution_count": 0,
      "outputs": []
    },
    {
      "cell_type": "markdown",
      "metadata": {
        "id": "0TLtikXGQ-HT",
        "colab_type": "text"
      },
      "source": [
        "### Counting Objects"
      ]
    },
    {
      "cell_type": "code",
      "metadata": {
        "id": "sSwWQpzCQ-HT",
        "colab_type": "code",
        "colab": {}
      },
      "source": [
        "import cv2\n",
        "import numpy as np\n",
        "import matplotlib.pylab as plt\n",
        "\n",
        "image = cv2.imread('images/circles.png', 0)\n",
        "image = cv2.threshold(image, 100, 255, cv2.THRESH_BINARY)[1]\n",
        "\n",
        "kernel = np.ones((11,11),np.uint8)\n",
        "eroded1 = cv2.morphologyEx(image, cv2.MORPH_ERODE, kernel) \n",
        "\n",
        "kernel = np.ones((21,21),np.uint8)\n",
        "eroded = cv2.morphologyEx(image, cv2.MORPH_ERODE, kernel) \n",
        "\n",
        "cnts, _ = cv2.findContours(eroded, cv2.RETR_EXTERNAL, cv2.CHAIN_APPROX_SIMPLE)\n",
        "output = cv2.cvtColor(image.copy(), cv2.COLOR_GRAY2RGB)\n",
        "\n",
        "count = 0\n",
        "for c in cnts:\n",
        "    cv2.drawContours(output, [c], -1, (np.random.randint(0,255), np.random.randint(0,255), np.random.randint(0,255)), 2)   \n",
        "    count += 1\n",
        "    \n",
        "text = \"Found {} objects\".format(count)\n",
        "plt.figure(figsize=(15,16))\n",
        "plt.gray()\n",
        "plt.subplot(221), plt.imshow(image), plt.axis('off'), plt.title('Original binary image', size=20)\n",
        "plt.subplot(222), plt.imshow(eroded1), plt.axis('off'), plt.title('Eroded (11x11 square)', size=20)\n",
        "plt.subplot(223), plt.imshow(eroded), plt.axis('off'), plt.title('Eroded (21x21 square)', size=20)\n",
        "plt.subplot(224), plt.imshow(output), plt.axis('off'), plt.title('Counting objects: ' + text, size=20)\n",
        "plt.show()"
      ],
      "execution_count": 0,
      "outputs": []
    },
    {
      "cell_type": "code",
      "metadata": {
        "id": "KlgQAu18Q-HV",
        "colab_type": "code",
        "colab": {}
      },
      "source": [
        "import cv2\n",
        "image = cv2.imread('images/rasagolla.png')\n",
        "gray = cv2.cvtColor(image, cv2.COLOR_BGR2GRAY)\n",
        "gray = cv2.bitwise_not(gray) #255 - gray\n",
        "#gray = cv2.equalizeHist(gray)\n",
        "\n",
        "edged = cv2.Canny(gray, 50, 150)\n",
        "thresh = cv2.threshold(gray, 100, 255, cv2.THRESH_BINARY_INV)[1]\n",
        "kernel = np.ones((4,4),np.uint8)\n",
        "thresh = cv2.morphologyEx(thresh, cv2.MORPH_CLOSE, kernel) #Close\n",
        "thresh = cv2.morphologyEx(thresh, cv2.MORPH_OPEN, kernel)  #Open\n",
        "\n",
        "#ret, thres = cv2.threshold(edged,0,255,cv2.THRESH_BINARY+cv2.THRESH_OTSU)\n",
        "\n",
        "# find contours (i.e., outlines) of the foreground objects in the thresholded image\n",
        "cnts, _ = cv2.findContours(thresh.copy(), cv2.RETR_EXTERNAL, cv2.CHAIN_APPROX_SIMPLE)\n",
        "output = image.copy()\n",
        "\n",
        "count = 0\n",
        "# loop over the contours\n",
        "for c in cnts:\n",
        "    # draw each contour on the output image with a 2px random color\n",
        "    # outline, then display the output contours one at a time\n",
        "    #print(cv2.contourArea(c))\n",
        "    if cv2.contourArea(c) > 5: # ignore small objects\n",
        "        cv2.drawContours(output, [c], -1, (np.random.randint(0,255), np.random.randint(0,255), np.random.randint(0,255)), 2)   \n",
        "        count += 1\n",
        "    \n",
        "text = \"Found {} objects\".format(count)\n",
        "plt.figure(figsize=(20,15))\n",
        "plt.subplot(221), plt.imshow(cv2.cvtColor(image, cv2.COLOR_BGR2RGB)), plt.axis('off'), plt.title('Original image', size=20)\n",
        "plt.subplot(222), plt.imshow(edged, cmap='gray'), plt.axis('off'), plt.title('Edges', size=20)\n",
        "plt.subplot(223), plt.imshow(thresh, cmap='gray'), plt.axis('off'), plt.title('Binary image', size=20)\n",
        "plt.subplot(224), plt.imshow(cv2.cvtColor(output, cv2.COLOR_BGR2RGB)), plt.axis('off'), plt.title('Counting objects: ' + text, size=20)\n",
        "plt.show()"
      ],
      "execution_count": 0,
      "outputs": []
    },
    {
      "cell_type": "code",
      "metadata": {
        "id": "fmxizKgwS3bA",
        "colab_type": "code",
        "colab": {}
      },
      "source": [
        "!pip install mahotas"
      ],
      "execution_count": 0,
      "outputs": []
    },
    {
      "cell_type": "markdown",
      "metadata": {
        "id": "AL4CCAwhQ-HX",
        "colab_type": "text"
      },
      "source": [
        "### Computing the Euler number, ecentricity, center of mass with mahotas and scikit-image"
      ]
    },
    {
      "cell_type": "code",
      "metadata": {
        "id": "RRe0ejxrQ-HY",
        "colab_type": "code",
        "colab": {}
      },
      "source": [
        "import mahotas as mh\n",
        "import matplotlib.pylab as plt\n",
        "import numpy as np\n",
        "from skimage.morphology import flood_fill, diameter_closing\n",
        "blackhole = mh.imread('images/blackhole.png')\n",
        "blackhole_gray = mh.colors.rgb2grey(blackhole).astype(np.uint8)\n",
        "t = 60 #mahotas.rc(blackhole_gray)   \n",
        "bin_blackhole = (blackhole_gray > t).astype(np.uint8)\n",
        "cms = mh.center_of_mass(bin_blackhole)\n",
        "print('Eccentricity =', mh.features.eccentricity(bin_blackhole))\n",
        "# 0.5449847073316407\n",
        "plt.figure(figsize=(12,8))\n",
        "plt.gray()\n",
        "plt.subplots_adjust(0,0,1,1,0.01,0.05)\n",
        "plt.subplot(221), plt.imshow(blackhole), plt.axis('off'), plt.title('original black hole image', size=20)\n",
        "#bin_blackhole = mahotas.border(bin_blackhole)\n",
        "plt.subplot(222), plt.imshow(bin_blackhole), plt.axis('off'), plt.title('binary image (with center of mass)\\nEuler Number={}'.format(mh.euler(bin_blackhole)), size=20)\n",
        "plt.scatter(cms[1], cms[0], color='red', s=50)\n",
        "bin_blackhole2 = flood_fill(bin_blackhole, (200,400), 1)\n",
        "plt.subplot(223), plt.imshow(bin_blackhole2), plt.axis('off'), plt.title('binary image (after flood-fill)\\nEuler Number={}'.format(mh.euler(bin_blackhole2)), size=20)\n",
        "plt.subplot(224), plt.imshow(diameter_closing(bin_blackhole, 100, connectivity=2)), plt.axis('off'), plt.title('binary image (after diameter-closing)', size=20)\n",
        "plt.show()"
      ],
      "execution_count": 0,
      "outputs": []
    },
    {
      "cell_type": "code",
      "metadata": {
        "id": "YNnTnAC9Q-Hb",
        "colab_type": "code",
        "colab": {}
      },
      "source": [
        "import mahotas as mh\n",
        "import matplotlib.pylab as plt\n",
        "import numpy as np\n",
        "from skimage.morphology import diameter_opening\n",
        "planets = mh.imread('images/planets.png')\n",
        "planets_gray = mh.colors.rgb2grey(planets).astype(np.uint8)\n",
        "t = 25 #mahotas.rc(planets_gray)   \n",
        "bin_planets = (planets_gray > t).astype(np.uint8)\n",
        "cms = mh.center_of_mass(bin_planets)\n",
        "#print(cms)\n",
        "print('Euler number =', mh.euler(bin_planets))\n",
        "print('Eccentricity =', mh.features.eccentricity(bin_planets))\n",
        "plt.figure(figsize=(12,10))\n",
        "plt.gray()\n",
        "plt.subplots_adjust(0,0,1,1,0.01,0.05)\n",
        "plt.subplot(221), plt.imshow(planets), plt.axis('off'), plt.title('original planets image', size=20)\n",
        "#bin_blackhole = mahotas.border(bin_blackhole)\n",
        "plt.subplot(222), plt.imshow(bin_planets), plt.axis('off'), plt.title('binary image (with center of mass)', size=20)\n",
        "plt.scatter(cms[1], cms[0], color='red', s=50)\n",
        "plt.subplot(223), plt.imshow(diameter_opening(bin_planets, 10, connectivity=2)), plt.axis('off'), plt.title('binary image (after diameter-opening)', size=20)\n",
        "plt.subplot(224), plt.imshow(diameter_opening(bin_planets, 100, connectivity=2)), plt.axis('off'), plt.title('binary image (after diameter-opening)', size=20)\n",
        "plt.show()"
      ],
      "execution_count": 0,
      "outputs": []
    },
    {
      "cell_type": "markdown",
      "metadata": {
        "id": "mRWzz90iQ-Hd",
        "colab_type": "text"
      },
      "source": [
        "### Binary Image Filters with mahotas"
      ]
    },
    {
      "cell_type": "code",
      "metadata": {
        "id": "ValjTliEQ-He",
        "colab_type": "code",
        "colab": {}
      },
      "source": [
        "import mahotas as mh\n",
        "import matplotlib.pylab as plt\n",
        "import numpy as np\n",
        "fractal = mh.imread('images/mandelbrot.png')\n",
        "fractal_gray = mh.colors.rgb2grey(fractal).astype(np.uint8)\n",
        "t = mh.otsu(fractal_gray) #\n",
        "#print(t)\n",
        "bin_fractal = (fractal_gray > t).astype(np.uint8)\n",
        "#bin_fractal = mahotas.bwperim(bin_fractal) mahotas.thin(bin_fractal)\n",
        "cms = mh.center_of_mass(bin_fractal)\n",
        "plt.figure(figsize=(12,15))\n",
        "plt.gray()\n",
        "plt.subplots_adjust(0,0,1,1,0.01,0.05)\n",
        "plt.subplot(321), plt.imshow(fractal), plt.axis('off'), plt.title('original', size=20)\n",
        "plt.subplot(322), plt.imshow(bin_fractal), plt.axis('off'), plt.title('binary (with center of mass)', size=20)\n",
        "plt.scatter(cms[1], cms[0], color='red', s=50)\n",
        "plt.subplot(323), plt.imshow(mh.border(bin_fractal, 0, 1)), plt.axis('off'), plt.title('border', size=20)\n",
        "plt.subplot(324), plt.imshow(mh.regmin(bin_fractal)), plt.axis('off'), plt.title('regional min', size=20)\n",
        "plt.subplot(325), plt.imshow(mh.close_holes(bin_fractal, mh.disk(3))), plt.axis('off'), plt.title('closed holes', size=20)\n",
        "plt.subplot(326), plt.imshow(mh.majority_filter(bin_fractal)), plt.axis('off'), plt.title('majority filtered', size=20)\n",
        "plt.show()\n",
        "print(mh.euler(bin_fractal))\n",
        "print(mh.features.eccentricity(bin_fractal))"
      ],
      "execution_count": 0,
      "outputs": []
    },
    {
      "cell_type": "code",
      "metadata": {
        "id": "5X0CxsUDTxdB",
        "colab_type": "code",
        "colab": {}
      },
      "source": [
        "!pip install itk"
      ],
      "execution_count": 0,
      "outputs": []
    },
    {
      "cell_type": "code",
      "metadata": {
        "id": "o7GvyY2JUDrU",
        "colab_type": "code",
        "colab": {}
      },
      "source": [
        "!pip install SimpleITK"
      ],
      "execution_count": 0,
      "outputs": []
    },
    {
      "cell_type": "markdown",
      "metadata": {
        "id": "SwXdPh4XQ-Hg",
        "colab_type": "text"
      },
      "source": [
        "### Binary Filters with SimpleITK"
      ]
    },
    {
      "cell_type": "code",
      "metadata": {
        "id": "afeh9apXQ-Hg",
        "colab_type": "code",
        "colab": {}
      },
      "source": [
        "import itk\n",
        "import SimpleITK as sitk\n",
        "import matplotlib.pylab as plt\n",
        "import numpy as np\n",
        "\n",
        "supernova = itk.imread('images/supernova.png') \n",
        "supernova_gray = itk.RGBToLuminanceImageFilter.New(supernova)\n",
        "supernova_gray = sitk.GetImageFromArray(itk.GetArrayFromImage(supernova_gray))\n",
        "supernova_gray = sitk.Cast(supernova_gray, sitk.sitkFloat32)\n",
        "supernova_bin = sitk.BinaryNotImageFilter().Execute(sitk.OtsuThresholdImageFilter().Execute(supernova_gray ))\n",
        "\n",
        "open_f = sitk.BinaryMorphologicalOpeningImageFilter()\n",
        "close_f = sitk.BinaryMorphologicalClosingImageFilter()\n",
        "open_f.SetKernelRadius(3)\n",
        "close_f.SetKernelRadius(3)\n",
        "supernova_bin1 = close_f.Execute(open_f.Execute(supernova_bin))\n",
        "open_f.SetKernelRadius(7)\n",
        "close_f.SetKernelRadius(7)\n",
        "supernova_bin2 = close_f.Execute(open_f.Execute(supernova_bin))\n",
        "med_f = sitk.BinaryMedianImageFilter()\n",
        "med_f.SetRadius(3)\n",
        "supernova_bin3 = med_f.Execute(supernova_bin)\n",
        "curv_f = sitk.BinaryMinMaxCurvatureFlowImageFilter() \n",
        "curv_f.SetStencilRadius(2)\n",
        "curv_f.SetThreshold(60)\n",
        "supernova_bin4 = curv_f.Execute(sitk.Cast(supernova_bin, sitk.sitkFloat32))\n",
        "cont_f = sitk.BinaryContourImageFilter()\n",
        "supernova_bin5 = cont_f.Execute(supernova_bin)\n",
        "vote_f = sitk.VotingBinaryImageFilter()\n",
        "vote_f.SetRadius(5)\n",
        "supernova_bin6 = vote_f.Execute(sitk.Cast(supernova_bin2, sitk.sitkInt32))\n",
        "\n",
        "plt.figure(figsize=(15,21))\n",
        "plt.gray()\n",
        "plt.subplots_adjust(0,0,1,1,0.01,0.05)\n",
        "plt.subplot(421), plt.imshow(itk.GetArrayFromImage(supernova)), plt.axis('off'), plt.title('original', size=20)\n",
        "plt.subplot(422), plt.imshow(sitk.GetArrayFromImage(supernova_bin)), plt.axis('off'), plt.title('binary', size=20)\n",
        "plt.subplot(423), plt.imshow(sitk.GetArrayFromImage(supernova_bin1)), plt.axis('off'), plt.title('opening+closing sem disk(r=3)', size=20)\n",
        "plt.subplot(424), plt.imshow(sitk.GetArrayFromImage(supernova_bin2)), plt.axis('off'), plt.title('opening+closing sem disk(r=7)', size=20)\n",
        "plt.subplot(425), plt.imshow(sitk.GetArrayFromImage(supernova_bin3)), plt.axis('off'), plt.title('median filter', size=20)\n",
        "plt.subplot(426), plt.imshow(sitk.GetArrayFromImage(supernova_bin - supernova_bin5)), plt.axis('off'), plt.title('original - contour', size=20)\n",
        "plt.subplot(427), plt.imshow(sitk.GetArrayFromImage(supernova_bin4)), plt.axis('off'), plt.title('curvature filter', size=20)\n",
        "plt.subplot(428), plt.imshow(sitk.GetArrayFromImage(supernova_bin6)), plt.axis('off'), plt.title('voting filter', size=20)\n",
        "plt.show()"
      ],
      "execution_count": 0,
      "outputs": []
    },
    {
      "cell_type": "markdown",
      "metadata": {
        "id": "IbiBFVKQQ-Hi",
        "colab_type": "text"
      },
      "source": [
        "### Dilation by Reconstruction with scikit-image"
      ]
    },
    {
      "cell_type": "code",
      "metadata": {
        "id": "0pnNK-GGQ-Hj",
        "colab_type": "code",
        "colab": {}
      },
      "source": [
        "from skimage.io import imread\n",
        "from skimage.color import rgb2gray\n",
        "from skimage.filters import threshold_otsu\n",
        "from skimage.morphology import reconstruction\n",
        "from skimage.morphology import binary_erosion, rectangle\n",
        "import matplotlib.pylab as plt\n",
        "import numpy as np\n",
        "img = rgb2gray(imread('images/tagore_manuscript.png'))\n",
        "th = 0.6 #threshold_otsu(img)\n",
        "img[img <= th] = 0\n",
        "img[img > th] = 1\n",
        "img = 1 - img\n",
        "mask = img\n",
        "seed = binary_erosion(img, rectangle(1,50))\n",
        "words = reconstruction(seed, mask, 'dilation')\n",
        "plt.figure(figsize=(15,20))\n",
        "plt.subplots_adjust(0,0,1,1,0.05,0.05)\n",
        "plt.subplot(221), plt.imshow(img), plt.axis('off'), plt.title('Tagore\\'s drawing-ridden manuscript', size=20)\n",
        "plt.subplot(222), plt.imshow(seed), plt.axis('off'), plt.title('Seed for the reconstruction', size=20)\n",
        "plt.subplot(223), plt.imshow(words), plt.axis('off'), plt.title('Tagore\\'s drawing', size=20)\n",
        "plt.subplot(224), plt.imshow(img-words), plt.axis('off'), plt.title('Tagore\\'s manuscript without drawing', size=20)\n",
        "plt.show()"
      ],
      "execution_count": 0,
      "outputs": []
    },
    {
      "cell_type": "code",
      "metadata": {
        "id": "ygzSRKJrQ-Hl",
        "colab_type": "code",
        "colab": {}
      },
      "source": [
        "% matplotlib inline\n",
        "from skimage.io import imread\n",
        "from skimage.color import rgb2gray\n",
        "from skimage.filters import threshold_otsu\n",
        "from skimage.morphology import reconstruction\n",
        "from skimage.morphology import binary_erosion, rectangle, remove_small_objects, remove_small_holes\n",
        "import matplotlib.pylab as plt\n",
        "import numpy as np\n",
        "img = rgb2gray(imread('images/keyboard.png'))\n",
        "th = 0.18 #threshold_otsu(img)\n",
        "img[img <= th] = 0\n",
        "img[img > th] = 1\n",
        "img = remove_small_holes(255*img.astype(np.uint8), 256)\n",
        "mask = img\n",
        "seed = binary_erosion(img, rectangle(30,1))\n",
        "words = reconstruction(seed, mask, 'dilation')\n",
        "plt.figure(figsize=(20,30))\n",
        "plt.gray()\n",
        "plt.subplots_adjust(0,0,1,1,0.05,0.05)\n",
        "plt.subplot(411), plt.imshow(img), plt.axis('off'), plt.title('Keyboard', size=20)\n",
        "plt.subplot(412), plt.imshow(seed), plt.axis('off'), plt.title('Seed for the reconstruction', size=20)\n",
        "plt.subplot(413), plt.imshow(words), plt.axis('off'), plt.title('Keyboard without alphabets (with reconstruction)', size=20)\n",
        "plt.subplot(414), plt.imshow(remove_small_objects((img-words).astype(np.uint8), 20)), plt.axis('off'), plt.title('Only alphabets', size=20)\n",
        "plt.show()  "
      ],
      "execution_count": 0,
      "outputs": []
    },
    {
      "cell_type": "markdown",
      "metadata": {
        "collapsed": true,
        "id": "3u1g74_8Q-Hn",
        "colab_type": "text"
      },
      "source": [
        "### Morphological Pattern Matching with Hit-or-Miss Transform"
      ]
    },
    {
      "cell_type": "code",
      "metadata": {
        "id": "s5wa-NweQ-Ho",
        "colab_type": "code",
        "colab": {}
      },
      "source": [
        "import numpy as np\n",
        "import matplotlib.pylab as plt\n",
        "from skimage.io import imread\n",
        "from skimage.color import rgb2gray, gray2rgb\n",
        "from scipy import ndimage\n",
        "\n",
        "def hit_or_miss_transform(im, s1, s2):\n",
        "    im = rgb2gray(imread(im))\n",
        "    m, n = im.shape\n",
        "    s1 = rgb2gray(imread(s1))\n",
        "    s2 = rgb2gray(imread(s2))\n",
        "    print(im.shape, s1.shape, s2.shape)\n",
        "    plt.gray()\n",
        "    plt.figure(figsize=(8,4))\n",
        "    plt.subplot(121), plt.imshow(s1), plt.axis('off'), plt.title('Structuring element 1', size=20)\n",
        "    plt.subplot(122), plt.imshow(s2), plt.axis('off'), plt.title('Structuring element 2', size=20)\n",
        "    plt.show()\n",
        "    hom_transformed = ndimage.binary_hit_or_miss(im, structure1=s1, structure2=s2).astype(np.int)\n",
        "    xs, ys = np.where(hom_transformed == 1)\n",
        "    hom_transformed = gray2rgb(hom_transformed)\n",
        "    w, h = 10, 12 #s1.shape\n",
        "    #print(w,h,m,n)\n",
        "    for i in range(len(xs)):\n",
        "        x, y = (xs[i], ys[i])\n",
        "        for j in range(max(0, x-h), min(m-1, x+h)):\n",
        "            for k in range(max(0, y-w), min(n, y+w)):\n",
        "                hom_transformed[j, k, 0] = 1.\n",
        "        for j in range(max(0, x-h), min(m, x+h)):\n",
        "            for k in range(max(0, y-w), min(n-1, y+w)):\n",
        "                hom_transformed[j, k, 0] = 1.\n",
        "    #np.max(hom_transformed)\n",
        "    plt.figure(figsize=(30,60))\n",
        "    #plt.imshow(hom_transformed.astype(np.float))\n",
        "    plt.subplot(121), plt.imshow(im), plt.axis('off'), plt.title('Original Image', size=25)\n",
        "    plt.subplot(122), plt.imshow(np.clip(gray2rgb(im) + hom_transformed.astype(np.float), 0, 1)), plt.axis('off'), \n",
        "    plt.title('Output with Hit-or-Miss Transform', size=25)\n",
        "    plt.show()\n",
        "\n",
        "hit_or_miss_transform('images/poem.png', 'images/bo.png', 'images/bo_inv_1.png') \n",
        "hit_or_miss_transform('images/poem.png', 'images/bo.png', 'images/bo_inv_2.png') "
      ],
      "execution_count": 0,
      "outputs": []
    },
    {
      "cell_type": "code",
      "metadata": {
        "id": "69Rm4uh_Q-Hq",
        "colab_type": "code",
        "colab": {}
      },
      "source": [
        "def hit_or_miss_transform2(im, s1, s2, ch):\n",
        "    m, n = im.shape\n",
        "    hom_transformed = ndimage.binary_hit_or_miss(im, structure1=s1, structure2=s2).astype(np.uint8)\n",
        "    xs, ys = np.where(hom_transformed == 1)\n",
        "    hom_transformed = gray2rgb(hom_transformed)\n",
        "    w, h = 18, 12 #s1.shape\n",
        "    for i in range(len(xs)):\n",
        "        x, y = (xs[i], ys[i])\n",
        "        for j in range(max(0, x-h), min(m-1, x+h)):\n",
        "            for k in range(max(0, y-w), min(n, y+w)):\n",
        "                hom_transformed[j, k, ch] = 1.\n",
        "        for j in range(max(0, x-h), min(m, x+h)):\n",
        "            for k in range(max(0, y-w), min(n-1, y+w)):\n",
        "                hom_transformed[j, k, ch] = 1.\n",
        "    return hom_transformed\n",
        "    \n",
        "im = rgb2gray(imread('images/triglyceride.png'))\n",
        "s1 = rgb2gray(imread('images/tg_se1.png'))\n",
        "s2 = rgb2gray(imread('images/tg_se2.png'))\n",
        "s3 = rgb2gray(imread('images/tg_se3.png'))\n",
        "pat1 = hit_or_miss_transform2(im, s1, s2, 0) \n",
        "pat2 = hit_or_miss_transform2(im, s1, s3, 2) \n",
        "plt.figure(figsize=(20,10))\n",
        "plt.imshow(np.clip(gray2rgb(im) + pat1.astype(np.float) + pat2.astype(np.float), 0, 1)), plt.axis('off') \n",
        "plt.title('Output with Hit-or-Miss Transform', size=25)\n",
        "plt.show()\n"
      ],
      "execution_count": 0,
      "outputs": []
    },
    {
      "cell_type": "markdown",
      "metadata": {
        "collapsed": true,
        "id": "WDXXYV5QQ-Hs",
        "colab_type": "text"
      },
      "source": [
        "### Segmentation: Morphological Watershed"
      ]
    },
    {
      "cell_type": "code",
      "metadata": {
        "id": "vTHB37tkQ-Hs",
        "colab_type": "code",
        "colab": {}
      },
      "source": [
        "from scipy import ndimage as ndi\n",
        "from skimage.morphology import watershed, disk, binary_dilation, remove_small_objects\n",
        "from skimage.filters import rank, threshold_otsu\n",
        "from skimage.feature import peak_local_max\n",
        "from skimage.measure import regionprops\n",
        "from skimage.util import img_as_ubyte\n",
        "from skimage.io import imread\n",
        "from skimage.color import rgb2gray\n",
        "import numpy as np\n",
        "import matplotlib.pyplot as plt\n",
        "\n",
        "image = img_as_ubyte(rgb2gray(imread('images/circles.png'))) #img_as_ubyte(data.camera())\n",
        "distance = ndi.distance_transform_edt(image)\n",
        "local_maxi = peak_local_max(distance, indices=False, footprint=np.ones((3, 3)), labels=image)\n",
        "markers = ndi.label(local_maxi)[0]\n",
        "labels = watershed(-distance, markers, mask=image)\n",
        "labels = remove_small_objects(labels, min_size=100)\n",
        "props = regionprops(labels)\n",
        "print(len(np.unique(labels)), len(props))\n",
        "\n",
        "plt.gray()\n",
        "plt.figure(figsize=(20,20))\n",
        "plt.subplot(221), plt.imshow(image), plt.axis('off'), plt.title('Original', size=20)\n",
        "plt.subplot(222), plt.imshow(distance), plt.axis('off'), plt.title('Distance', size=20)\n",
        "plt.subplot(223), plt.imshow(binary_dilation(markers, disk(2))), plt.axis('off'), plt.title('Markers', size=20)\n",
        "plt.subplot(224), plt.imshow(labels, cmap='jet'), plt.axis('off'), plt.title('Segmented', size=20)\n",
        "plt.show()\n",
        "\n",
        "image = img_as_ubyte(rgb2gray(imread('images/lotus.png')))\n",
        "denoised = rank.median(image, disk(2))\n",
        "# find continuous region (low gradient -\n",
        "# where less than 10 for this image) --> markers\n",
        "# disk(5) is used here to get a more smooth image\n",
        "markers = rank.gradient(denoised, disk(5)) < 20\n",
        "markers = ndi.label(markers)[0]\n",
        "\n",
        "# local gradient (disk(2) is used to keep edges thin)\n",
        "gradient = rank.gradient(denoised, disk(2))\n",
        "\n",
        "labels = watershed(gradient, markers)\n",
        "labels = remove_small_objects(labels, min_size=100)\n",
        "props = regionprops(labels)\n",
        "print(len(np.unique(labels)), len(props))\n",
        "\n",
        "fig, axes = plt.subplots(nrows=2, ncols=2, figsize=(20, 15), sharex=True, sharey=True)\n",
        "ax = axes.ravel()\n",
        "\n",
        "ax[0].imshow(image, cmap=plt.cm.gray, interpolation='nearest')\n",
        "ax[0].set_title(\"Original\", size=20)\n",
        "\n",
        "ax[1].imshow(gradient, cmap=plt.cm.nipy_spectral, interpolation='nearest')\n",
        "ax[1].set_title(\"Local Gradient\", size=20)\n",
        "\n",
        "ax[2].imshow(markers, cmap=plt.cm.nipy_spectral, interpolation='nearest')\n",
        "ax[2].set_title(\"Markers\", size=20)\n",
        "\n",
        "ax[3].imshow(image, cmap=plt.cm.gray, interpolation='nearest')\n",
        "ax[3].imshow(labels, cmap=plt.cm.nipy_spectral, interpolation='nearest', alpha=.7)\n",
        "ax[3].set_title(\"Segmented\", size=20)\n",
        "\n",
        "for a in ax:\n",
        "    a.axis('off')\n",
        "\n",
        "fig.tight_layout()\n",
        "plt.show()"
      ],
      "execution_count": 0,
      "outputs": []
    },
    {
      "cell_type": "code",
      "metadata": {
        "id": "X1N83A55Q-Hu",
        "colab_type": "code",
        "colab": {}
      },
      "source": [
        "#%matplotlib notebook\n",
        "from mpl_toolkits.mplot3d import Axes3D\n",
        "\n",
        "# Get information regarding the shape of the image. \n",
        "im_shape = np.shape(gradient)\n",
        "x = np.arange(0, im_shape[0], 1)\n",
        "y = np.arange(0, im_shape[1], 1)\n",
        "\n",
        "# Make a grid \n",
        "x, y = np.meshgrid(x, y)\n",
        "\n",
        "# Do the 3D plot.\n",
        "fig = plt.figure(figsize=(10,10))\n",
        "ax = fig.add_subplot(1, 1, 1, projection='3d')\n",
        "surf = ax.plot_surface(x, y, np.transpose(gradient), cmap='inferno')\n",
        "plt.xlim([0, im_shape[0]])\n",
        "plt.ylim([0, im_shape[1]])\n",
        "\n",
        "# Rotate and tilt the plot so peaks and valleys are obvious\n",
        "ax.view_init(75, 360)"
      ],
      "execution_count": 0,
      "outputs": []
    },
    {
      "cell_type": "markdown",
      "metadata": {
        "id": "dVrEPutaQ-Hw",
        "colab_type": "text"
      },
      "source": [
        "### Blob Detection with Morphological Watershed"
      ]
    },
    {
      "cell_type": "code",
      "metadata": {
        "id": "LPK4bfvCQ-Hx",
        "colab_type": "code",
        "colab": {}
      },
      "source": [
        "from skimage.morphology import watershed, binary_erosion, remove_small_objects, square \n",
        "from scipy.ndimage import distance_transform_edt\n",
        "from skimage.feature import peak_local_max\n",
        "from skimage.measure import label, regionprops\n",
        "from skimage.segmentation import clear_border\n",
        "\n",
        "def segment_with_watershed(im, cell_thresh, bg_thresh):\n",
        "    \n",
        "    if np.max(im) != 1.0:\n",
        "        im = (im - im.min()) / (im.max() - im.min())\n",
        "    \n",
        "    im_mask = im < cell_thresh\n",
        "    \n",
        "    # Generate the catchment basins. \n",
        "    basins = np.zeros_like(im)\n",
        "    basins[im < cell_thresh] = 2\n",
        "    basins[im > bg_thresh] = 1\n",
        "\n",
        "    # Peform the watershed by flooding. \n",
        "    flood_seg = watershed(im , basins)\n",
        "    flood_seg = flood_seg > 1.0\n",
        "    \n",
        "    # Now erode the boundaries and compute the distance transform. \n",
        "    selem = square(3)\n",
        "    flood_erode = binary_erosion(flood_seg, selem=selem)\n",
        "    flood_seg = clear_border(flood_seg, buffer_size=10)\n",
        "    \n",
        "    # Compute the distance matrix\n",
        "    distances = distance_transform_edt(flood_seg)\n",
        "     \n",
        "    # Find the maxima\n",
        "    local_max = peak_local_max(\n",
        "        distances, indices=False, footprint=None, labels=flood_seg,\n",
        "        min_distance=1)\n",
        "    max_lab = label(local_max)\n",
        "\n",
        "    # Perform the topological watershed. \n",
        "    final_seg = watershed(-distances, max_lab, mask=flood_seg)\n",
        "\n",
        "    # Remove any stray crap. \n",
        "    final_seg = remove_small_objects(final_seg, min_size=100)\n",
        "\n",
        "    # Extract the region properties. \n",
        "    props = regionprops(final_seg)\n",
        "    \n",
        "    # Determine the number of cells. \n",
        "    num_cells = len(props)\n",
        "\n",
        "    return final_seg, distances, basins, num_cells  \n",
        "\n",
        "image = img_as_ubyte(rgb2gray(imread('images/sunflowers.png')))\n",
        "image = rank.median(image, disk(2))\n",
        "\n",
        "labels, distances, markers, nseg = segment_with_watershed(image, 0.25, 0.28)\n",
        "print(nseg)\n",
        "\n",
        "fig, axes = plt.subplots(nrows=2, ncols=2, figsize=(20, 15), sharex=True, sharey=True)\n",
        "ax = axes.ravel()\n",
        "\n",
        "ax[0].imshow(image, cmap=plt.cm.gray, interpolation='nearest')\n",
        "ax[0].set_title(\"Original\", size=20)\n",
        "\n",
        "ax[1].imshow(distances, cmap=plt.cm.gray, interpolation='nearest')\n",
        "ax[1].set_title(\"Distances\", size=20)\n",
        "\n",
        "im = ax[2].imshow(markers, cmap=plt.cm.nipy_spectral, interpolation='nearest')\n",
        "#plt.colorbar(im, ax=ax[2])\n",
        "ax[2].set_title(\"Markers\", size=20)\n",
        "\n",
        "ax[3].imshow(image, cmap=plt.cm.gray, interpolation='nearest')\n",
        "ax[3].imshow(labels, cmap=plt.cm.nipy_spectral, interpolation='nearest', alpha=.7) \n",
        "ax[3].set_title(\"Blobs Detected with Morphological Watershed\", size=20)\n",
        "\n",
        "for a in ax:\n",
        "    a.axis('off')\n",
        "\n",
        "fig.tight_layout()\n",
        "plt.show()"
      ],
      "execution_count": 0,
      "outputs": []
    },
    {
      "cell_type": "markdown",
      "metadata": {
        "id": "rP0yXQbsQ-Hz",
        "colab_type": "text"
      },
      "source": [
        "### Blob Detection with LOG scale-space"
      ]
    },
    {
      "cell_type": "code",
      "metadata": {
        "id": "vCWMwO9dQ-Hz",
        "colab_type": "code",
        "colab": {}
      },
      "source": [
        "from skimage.feature import blob_log\n",
        "from skimage.color import rgb2gray\n",
        "\n",
        "import matplotlib.pyplot as plt\n",
        "\n",
        "#image = img_as_ubyte(rgb2gray(imread('images/sunflowers.png')))\n",
        "#image = rank.median(image, disk(2))\n",
        "\n",
        "blobs_log = blob_log(np.invert(image), max_sigma=40, num_sigma=10, threshold=.2)\n",
        "\n",
        "# Compute radii in the 3rd column.\n",
        "blobs_log[:, 2] = blobs_log[:, 2] * np.sqrt(2)\n",
        "\n",
        "fig, axes = plt.subplots(nrows=1, ncols=2, figsize=(20, 7), sharex=True, sharey=True)\n",
        "fig.subplots_adjust(left=0, right=1, bottom=0, top=0.95, wspace=0.02, hspace=0.02)\n",
        "\n",
        "axes[0].imshow(image, cmap=plt.cm.gray, interpolation='nearest')\n",
        "axes[0].set_title(\"Original\", size=20)\n",
        "\n",
        "axes[1].imshow(image, cmap=plt.cm.gray, interpolation='nearest')\n",
        "for blob in blobs_log:\n",
        "    y, x, r = blob\n",
        "    if np.pi*r**2 > 150:\n",
        "        c = plt.Circle((x, y), r, color=[0.75]+np.random.rand(2).tolist(), linewidth=2, fill=True, alpha=.7)\n",
        "        axes[1].add_patch(c)\n",
        "axes[1].set_title(\"Blobs Detected with LOG scale-space\", size=20)\n",
        "\n",
        "for a in axes:\n",
        "    a.axis('off')\n",
        "\n",
        "plt.show()"
      ],
      "execution_count": 0,
      "outputs": []
    },
    {
      "cell_type": "code",
      "metadata": {
        "id": "ZT-cYreqQ-H1",
        "colab_type": "code",
        "colab": {}
      },
      "source": [
        ""
      ],
      "execution_count": 0,
      "outputs": []
    }
  ]
}