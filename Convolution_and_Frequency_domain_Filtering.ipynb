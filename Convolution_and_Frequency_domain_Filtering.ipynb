{
  "nbformat": 4,
  "nbformat_minor": 0,
  "metadata": {
    "kernelspec": {
      "display_name": "Python 3",
      "language": "python",
      "name": "python3"
    },
    "language_info": {
      "codemirror_mode": {
        "name": "ipython",
        "version": 3
      },
      "file_extension": ".py",
      "mimetype": "text/x-python",
      "name": "python",
      "nbconvert_exporter": "python",
      "pygments_lexer": "ipython3",
      "version": "3.5.4"
    },
    "colab": {
      "name": "Convolution and Frequency domain Filtering",
      "provenance": [],
      "collapsed_sections": [
        "NeZUk-Nae2v2",
        "Dhto_KRfe2wE",
        "Mn6n5tfpe2wQ",
        "BfEuqlsSe2wS",
        "NKtbCNj2e2wX",
        "XAnFXI0le2we",
        "8MkOwhsce2wg",
        "70putIH_e2wm",
        "lCBdKf3Fe2wo"
      ],
      "include_colab_link": true
    }
  },
  "cells": [
    {
      "cell_type": "markdown",
      "metadata": {
        "id": "view-in-github",
        "colab_type": "text"
      },
      "source": [
        "<a href=\"https://colab.research.google.com/github/mawhy/OpenCV/blob/master/Convolution_and_Frequency_domain_Filtering.ipynb\" target=\"_parent\"><img src=\"https://colab.research.google.com/assets/colab-badge.svg\" alt=\"Open In Colab\"/></a>"
      ]
    },
    {
      "cell_type": "markdown",
      "metadata": {
        "id": "Qj1AbqF0e2vf",
        "colab_type": "text"
      },
      "source": [
        "# Hands-on Image Processing with Python\n",
        "## Convolution and Frequency domain Filtering"
      ]
    },
    {
      "cell_type": "markdown",
      "metadata": {
        "id": "Pjc5vdFHe2vg",
        "colab_type": "text"
      },
      "source": [
        ""
      ]
    },
    {
      "cell_type": "code",
      "metadata": {
        "id": "DU0TlAD9fQtt",
        "colab_type": "code",
        "colab": {}
      },
      "source": [
        "!git clone https://github.com/PacktPublishing/Hands-On-Image-Processing-with-Python.git\n",
        "%cp -av \"/content/Hands-On-Image-Processing-with-Python/images/\" \"/\"\n",
        "%rm -rf \"/content/Hands-On-Image-Processing-with-Python\""
      ],
      "execution_count": 0,
      "outputs": []
    },
    {
      "cell_type": "markdown",
      "metadata": {
        "id": "4hPYc_TYe2vg",
        "colab_type": "text"
      },
      "source": [
        "### Import libraries"
      ]
    },
    {
      "cell_type": "code",
      "metadata": {
        "id": "L0J9sp4qe2vh",
        "colab_type": "code",
        "colab": {}
      },
      "source": [
        "% matplotlib inline \n",
        "from PIL import Image\n",
        "from skimage.io import imread, imshow, show\n",
        "import scipy.fftpack as fp\n",
        "from scipy import ndimage, misc, signal\n",
        "#from scipy.stats import signaltonoise\n",
        "from skimage import data, img_as_float\n",
        "from skimage.color import rgb2gray\n",
        "from skimage.transform import rescale\n",
        "import matplotlib.pylab as pylab\n",
        "import numpy as np\n",
        "import numpy.fft\n",
        "import timeit\n",
        "\n",
        "import numpy as np\n",
        "def signaltonoise(a, axis=0, ddof=0):\n",
        "    a = np.asanyarray(a)\n",
        "    m = a.mean(axis)\n",
        "    sd = a.std(axis=axis, ddof=ddof)\n",
        "    return np.where(sd == 0, 0, m/sd)"
      ],
      "execution_count": 0,
      "outputs": []
    },
    {
      "cell_type": "markdown",
      "metadata": {
        "id": "W_opvpTde2vk",
        "colab_type": "text"
      },
      "source": [
        "### Frequency domain Gaussian blur filter with numpy fft"
      ]
    },
    {
      "cell_type": "code",
      "metadata": {
        "id": "TiHaIt6_e2vl",
        "colab_type": "code",
        "colab": {}
      },
      "source": [
        "pylab.figure(figsize=(20,15))\n",
        "pylab.gray() # show the filtered result in grayscale\n",
        "im = np.mean(imread('../images/lena.jpg'), axis=2)\n",
        "gauss_kernel = np.outer(signal.gaussian(im.shape[0], 5), signal.gaussian(im.shape[1], 5))\n",
        "freq = fp.fft2(im)\n",
        "assert(freq.shape == gauss_kernel.shape)\n",
        "freq_kernel = fp.fft2(fp.ifftshift(gauss_kernel))\n",
        "convolved = freq*freq_kernel # by the convolution theorem, simply multiply in the frequency domain\n",
        "im1 = fp.ifft2(convolved).real\n",
        "pylab.subplot(2,3,1), pylab.imshow(im), pylab.title('Original Image',\n",
        "size=20), pylab.axis('off')\n",
        "pylab.subplot(2,3,2), pylab.imshow(gauss_kernel), pylab.title('Gaussian Kernel', size=20)\n",
        "pylab.subplot(2,3,3), pylab.imshow(im1) # the imaginary part is an artifact\n",
        "pylab.title('Output Image', size=20), pylab.axis('off')\n",
        "pylab.subplot(2,3,4), pylab.imshow( (20*np.log10( 0.1 + fp.fftshift(freq))).astype(int))\n",
        "pylab.title('Original Image Spectrum', size=20), pylab.axis('off')\n",
        "pylab.subplot(2,3,5), pylab.imshow( (20*np.log10( 0.1 +\n",
        "fp.fftshift(freq_kernel))).astype(int))\n",
        "pylab.title('Gaussian Kernel Spectrum', size=20), pylab.subplot(2,3,6)\n",
        "pylab.imshow( (20*np.log10( 0.1 + fp.fftshift(convolved))).astype(int))\n",
        "pylab.title('Output Image Spectrum', size=20), pylab.axis('off')\n",
        "pylab.subplots_adjust(wspace=0.2, hspace=0)\n",
        "pylab.show()"
      ],
      "execution_count": 0,
      "outputs": []
    },
    {
      "cell_type": "markdown",
      "metadata": {
        "id": "tvrVQhSfe2vo",
        "colab_type": "text"
      },
      "source": [
        "### Gaussian kernel in the frequency domain"
      ]
    },
    {
      "cell_type": "code",
      "metadata": {
        "id": "np98bIPRe2vp",
        "colab_type": "code",
        "colab": {}
      },
      "source": [
        "im = rgb2gray(imread('../images/lena.jpg'))\n",
        "gauss_kernel = np.outer(signal.gaussian(im.shape[0], 1),\n",
        "signal.gaussian(im.shape[1], 1))\n",
        "freq = fp.fft2(im)\n",
        "freq_kernel = fp.fft2(fp.ifftshift(gauss_kernel))\n",
        "pylab.imshow( (20*np.log10( 0.01 +\n",
        "fp.fftshift(freq_kernel))).real.astype(int), cmap='coolwarm') # 0.01 is added to keep the argument to log function always positive\n",
        "pylab.colorbar()\n",
        "pylab.show()"
      ],
      "execution_count": 0,
      "outputs": []
    },
    {
      "cell_type": "markdown",
      "metadata": {
        "id": "EoMdwNISe2vr",
        "colab_type": "text"
      },
      "source": [
        "### Frequency domain Gaussian blur filter with scipy signal fftconvolve()"
      ]
    },
    {
      "cell_type": "code",
      "metadata": {
        "id": "ozycf1oBe2vs",
        "colab_type": "code",
        "colab": {}
      },
      "source": [
        "im = np.mean(imread('../images/mandrill.jpg'), axis=2)\n",
        "print(im.shape)\n",
        "# (224, 225)\n",
        "gauss_kernel = np.outer(signal.gaussian(11, 3), signal.gaussian(11, 3)) # 2D Gaussian kernel of size 11x11 with σ = 3\n",
        "im_blurred = signal.fftconvolve(im, gauss_kernel, mode='same')\n",
        "fig, (ax_original, ax_kernel, ax_blurred) = pylab.subplots(1, 3, figsize=(20,8))\n",
        "ax_original.imshow(im, cmap='gray')\n",
        "ax_original.set_title('Original', size=20)\n",
        "ax_original.set_axis_off()\n",
        "ax_kernel.imshow(gauss_kernel)\n",
        "ax_kernel.set_title('Gaussian kernel', size=15)\n",
        "ax_kernel.set_axis_off()\n",
        "ax_blurred.imshow(im_blurred, cmap='gray')\n",
        "ax_blurred.set_title('Blurred', size=20)\n",
        "ax_blurred.set_axis_off()\n",
        "fig.show()"
      ],
      "execution_count": 0,
      "outputs": []
    },
    {
      "cell_type": "code",
      "metadata": {
        "id": "NKMq35Wte2vu",
        "colab_type": "code",
        "colab": {}
      },
      "source": [
        "import scipy.fftpack as fftpack\n",
        "F1 = fftpack.fft2((im).astype(float))\n",
        "F2 = fftpack.fftshift( F1 )\n",
        "pylab.figure(figsize=(15,8))\n",
        "pylab.subplot(1,2,1), pylab.imshow( (20*np.log10( 0.1 + F2)).astype(int), cmap=pylab.cm.gray)\n",
        "pylab.title('Original Image Spectrum', size=20)\n",
        "F1 = fftpack.fft2((im_blurred).astype(float))\n",
        "F2 = fftpack.fftshift( F1 )\n",
        "pylab.subplot(1,2,2), pylab.imshow( (20*np.log10( 0.1 + F2)).astype(int), cmap=pylab.cm.gray)\n",
        "pylab.title('Blurred Image Spectrum', size=20)\n",
        "pylab.show()"
      ],
      "execution_count": 0,
      "outputs": []
    },
    {
      "cell_type": "markdown",
      "metadata": {
        "id": "6siWYu8Fe2vx",
        "colab_type": "text"
      },
      "source": [
        "### Comparing the runtimes of SciPy convolve() and fftconvolve() with the Gaussian blur kernel"
      ]
    },
    {
      "cell_type": "code",
      "metadata": {
        "id": "4SlJ9Iv_e2vx",
        "colab_type": "code",
        "colab": {}
      },
      "source": [
        "im = np.mean(imread('../images/mandrill.jpg'), axis=2)\n",
        "print(im.shape)\n",
        "# (224, 225)\n",
        "gauss_kernel = np.outer(signal.gaussian(11, 3), signal.gaussian(11, 3)) # 2D Gaussian kernel of size 11x11 with σ = 3\n",
        "im_blurred1 = signal.convolve(im, gauss_kernel, mode=\"same\")\n",
        "im_blurred2 = signal.fftconvolve(im, gauss_kernel, mode='same')\n",
        "def wrapper_convolve(func):\n",
        "    def wrapped_convolve():\n",
        "        return func(im, gauss_kernel, mode=\"same\")\n",
        "    return wrapped_convolve\n",
        "wrapped_convolve = wrapper_convolve(signal.convolve)\n",
        "wrapped_fftconvolve = wrapper_convolve(signal.fftconvolve)\n",
        "times1 = timeit.repeat(wrapped_convolve, number=1, repeat=100)\n",
        "times2 = timeit.repeat(wrapped_fftconvolve, number=1, repeat=100)\n",
        "pylab.figure(figsize=(15,5))\n",
        "pylab.gray()\n",
        "pylab.subplot(131), pylab.imshow(im), pylab.title('Original Image',size=15), pylab.axis('off')\n",
        "pylab.subplot(132), pylab.imshow(im_blurred1), pylab.title('convolve Output', size=15), pylab.axis('off')\n",
        "pylab.subplot(133), pylab.imshow(im_blurred2), pylab.title('ffconvolve Output', size=15),pylab.axis('off')"
      ],
      "execution_count": 0,
      "outputs": []
    },
    {
      "cell_type": "code",
      "metadata": {
        "id": "nn4pykece2v0",
        "colab_type": "code",
        "colab": {}
      },
      "source": [
        "data = [times1, times2]\n",
        "pylab.figure(figsize=(8,6))\n",
        "box = pylab.boxplot(data, patch_artist=True) #notch=True,\n",
        "colors = ['cyan', 'pink']\n",
        "for patch, color in zip(box['boxes'], colors):\n",
        "    patch.set_facecolor(color)\n",
        "pylab.xticks(np.arange(3), ('', 'convolve', 'fftconvolve'), size=15)\n",
        "pylab.yticks(fontsize=15)\n",
        "pylab.xlabel('scipy.signal convolution methods', size=15)\n",
        "pylab.ylabel('time taken to run', size = 15)\n",
        "pylab.show()"
      ],
      "execution_count": 0,
      "outputs": []
    },
    {
      "cell_type": "markdown",
      "metadata": {
        "id": "NeZUk-Nae2v2",
        "colab_type": "text"
      },
      "source": [
        "### High-Pass Filter (HPF)"
      ]
    },
    {
      "cell_type": "code",
      "metadata": {
        "id": "7T9pyobFe2v3",
        "colab_type": "code",
        "colab": {}
      },
      "source": [
        "im = np.array(Image.open('../images/rhino.jpg').convert('L'))\n",
        "pylab.figure(figsize=(10,10)), pylab.imshow(im, cmap=pylab.cm.gray), pylab.axis('off'), pylab.show()"
      ],
      "execution_count": 0,
      "outputs": []
    },
    {
      "cell_type": "code",
      "metadata": {
        "id": "Qc8TthaEe2v5",
        "colab_type": "code",
        "colab": {}
      },
      "source": [
        "freq = fp.fft2(im)\n",
        "(w, h) = freq.shape\n",
        "half_w, half_h = int(w/2), int(h/2)\n",
        "freq1 = np.copy(freq)\n",
        "freq2 = fp.fftshift(freq1)\n",
        "pylab.figure(figsize=(10,10)), pylab.imshow( (20*np.log10( 0.1 + freq2)).astype(int)), pylab.show()"
      ],
      "execution_count": 0,
      "outputs": []
    },
    {
      "cell_type": "code",
      "metadata": {
        "id": "DI_AkEwIe2v7",
        "colab_type": "code",
        "colab": {}
      },
      "source": [
        "# apply HPF\n",
        "freq2[half_w-10:half_w+11,half_h-10:half_h+11] = 0 # select all but the first 20x20 (low) frequencies\n",
        "pylab.figure(figsize=(10,10))\n",
        "pylab.imshow( (20*np.log10( 0.1 + freq2)).astype(int))\n",
        "pylab.show()"
      ],
      "execution_count": 0,
      "outputs": []
    },
    {
      "cell_type": "code",
      "metadata": {
        "id": "BZ0V_HGIe2v9",
        "colab_type": "code",
        "colab": {}
      },
      "source": [
        "im1 = np.clip(fp.ifft2(fftpack.ifftshift(freq2)).real,0,255) # clip pixel values after IFFT\n",
        "print(signaltonoise(im1, axis=None))\n",
        "# 0.5901647786775175\n",
        "pylab.imshow(im1, cmap='gray'), pylab.axis('off'), pylab.show()"
      ],
      "execution_count": 0,
      "outputs": []
    },
    {
      "cell_type": "code",
      "metadata": {
        "id": "gGncKGBde2wA",
        "colab_type": "code",
        "colab": {}
      },
      "source": [
        "from scipy import fftpack\n",
        "im = np.array(Image.open('../images/cameraman.jpg').convert('L'))\n",
        "freq = fp.fft2(im)\n",
        "(w, h) = freq.shape\n",
        "half_w, half_h = int(w/2), int(h/2)\n",
        "snrs_hp = []\n",
        "lbs = list(range(1,25))\n",
        "pylab.figure(figsize=(12,20))\n",
        "for l in lbs:\n",
        "    freq1 = np.copy(freq)\n",
        "    freq2 = fftpack.fftshift(freq1)\n",
        "    freq2[half_w-l:half_w+l+1,half_h-l:half_h+l+1] = 0 # select all but the first lxl (low) frequencies\n",
        "    im1 = np.clip(fp.ifft2(fftpack.ifftshift(freq2)).real,0,255) # clip pixel values after IFFT\n",
        "    snrs_hp.append(signaltonoise(im1, axis=None))\n",
        "    pylab.subplot(6,4,l), pylab.imshow(im1, cmap='gray'), pylab.axis('off')\n",
        "    pylab.title('F = ' + str(l+1), size=20)\n",
        "pylab.subplots_adjust(wspace=0.1, hspace=0)\n",
        "pylab.show()"
      ],
      "execution_count": 0,
      "outputs": []
    },
    {
      "cell_type": "code",
      "metadata": {
        "id": "909cVQxBe2wC",
        "colab_type": "code",
        "colab": {}
      },
      "source": [
        "pylab.plot(lbs, snrs_hp, 'b.-')\n",
        "pylab.xlabel('Cutoff Freqeuncy for HPF', size=20)\n",
        "pylab.ylabel('SNR', size=20)\n",
        "pylab.show()"
      ],
      "execution_count": 0,
      "outputs": []
    },
    {
      "cell_type": "markdown",
      "metadata": {
        "id": "Dhto_KRfe2wE",
        "colab_type": "text"
      },
      "source": [
        "### Low-pass filter (LPF)"
      ]
    },
    {
      "cell_type": "code",
      "metadata": {
        "id": "Oic49A9me2wF",
        "colab_type": "code",
        "colab": {}
      },
      "source": [
        "import numpy.fft as fp\n",
        "fig, (axes1, axes2) = pylab.subplots(1, 2, figsize=(20,10))\n",
        "pylab.gray() # show the result in grayscale\n",
        "im = np.mean(imread('../images/lena.jpg'), axis=2)\n",
        "freq = fp.fft2(im)\n",
        "freq_gaussian = ndimage.fourier_gaussian(freq, sigma=4)\n",
        "im1 = fp.ifft2(freq_gaussian)\n",
        "axes1.imshow(im), axes1.axis('off'), axes2.imshow(im1.real) # the imaginary part is an artifact\n",
        "axes2.axis('off')\n",
        "pylab.show()"
      ],
      "execution_count": 0,
      "outputs": []
    },
    {
      "cell_type": "code",
      "metadata": {
        "id": "QKRi5qGne2wH",
        "colab_type": "code",
        "colab": {}
      },
      "source": [
        "pylab.figure(figsize=(10,10))\n",
        "pylab.imshow( (20*np.log10( 0.1 +\n",
        "numpy.fft.fftshift(freq_gaussian))).astype(int))\n",
        "pylab.show()"
      ],
      "execution_count": 0,
      "outputs": []
    },
    {
      "cell_type": "code",
      "metadata": {
        "id": "yi47cuOFe2wJ",
        "colab_type": "code",
        "colab": {}
      },
      "source": [
        "from scipy import fftpack\n",
        "im = np.array(Image.open('../images/rhino.jpg').convert('L'))\n",
        "# low pass filter\n",
        "freq = fp.fft2(im)\n",
        "(w, h) = freq.shape\n",
        "half_w, half_h = int(w/2), int(h/2)\n",
        "freq1 = np.copy(freq)\n",
        "freq2 = fftpack.fftshift(freq1)\n",
        "freq2_low = np.copy(freq2)\n",
        "freq2_low[half_w-10:half_w+11,half_h-10:half_h+11] = 0 # block the lowfrequencies\n",
        "freq2 -= freq2_low # select only the first 20x20 (low) frequencies, block the high frequencies\n",
        "im1 = fp.ifft2(fftpack.ifftshift(freq2)).real\n",
        "print(signaltonoise(im1, axis=None))\n",
        "# 2.389151856495427\n",
        "pylab.imshow(im1, cmap='gray'), pylab.axis('off')\n",
        "pylab.show()\n",
        "pylab.figure(figsize=(10,10))\n",
        "pylab.imshow( (20*np.log10( 0.1 + freq2)).astype(int))\n",
        "pylab.show()"
      ],
      "execution_count": 0,
      "outputs": []
    },
    {
      "cell_type": "code",
      "metadata": {
        "id": "mA_miIE8e2wM",
        "colab_type": "code",
        "colab": {}
      },
      "source": [
        "im = np.array(Image.open('../images/cameraman.jpg').convert('L'))\n",
        "freq = fp.fft2(im)\n",
        "(w, h) = freq.shape\n",
        "half_w, half_h = int(w/2), int(h/2)\n",
        "snrs_lp = []\n",
        "ubs = list(range(1,25))\n",
        "pylab.figure(figsize=(12,20))\n",
        "for u in ubs:\n",
        "    freq1 = np.copy(freq)\n",
        "    freq2 = fftpack.fftshift(freq1)\n",
        "    freq2_low = np.copy(freq2)\n",
        "    freq2_low[half_w-u:half_w+u+1,half_h-u:half_h+u+1] = 0\n",
        "    freq2 -= freq2_low # select only the first 20x20 (low) frequencies\n",
        "    im1 = fp.ifft2(fftpack.ifftshift(freq2)).real\n",
        "    snrs_lp.append(signaltonoise(im1, axis=None))\n",
        "    pylab.subplot(6,4,u), pylab.imshow(im1, cmap='gray'), pylab.axis('off')\n",
        "    pylab.title('F = ' + str(u), size=20)\n",
        "pylab.subplots_adjust(wspace=0.1, hspace=0)\n",
        "pylab.show()"
      ],
      "execution_count": 0,
      "outputs": []
    },
    {
      "cell_type": "code",
      "metadata": {
        "id": "xDw4L51ee2wO",
        "colab_type": "code",
        "colab": {}
      },
      "source": [
        "snr = signaltonoise(im, axis=None)\n",
        "pylab.plot(ubs, snrs_lp, 'b.-')\n",
        "pylab.plot(range(25), [snr]*25, 'r-')\n",
        "pylab.xlabel('Cutoff Freqeuncy for LPF', size=20)\n",
        "pylab.ylabel('SNR', size=20)\n",
        "pylab.show()"
      ],
      "execution_count": 0,
      "outputs": []
    },
    {
      "cell_type": "markdown",
      "metadata": {
        "id": "Mn6n5tfpe2wQ",
        "colab_type": "text"
      },
      "source": [
        "### Band-pass filter (BPF) with DoG"
      ]
    },
    {
      "cell_type": "code",
      "metadata": {
        "id": "vgfpeMQVe2wQ",
        "colab_type": "code",
        "colab": {}
      },
      "source": [
        "from skimage import img_as_float\n",
        "im = img_as_float(pylab.imread('../images/tigers.jpeg'))\n",
        "pylab.figure(), pylab.imshow(im), pylab.axis('off'), pylab.show()\n",
        "x = np.linspace(-10, 10, 15)\n",
        "kernel_1d = np.exp(-0.005*x**2)\n",
        "kernel_1d /= np.trapz(kernel_1d) # normalize the sum to 1\n",
        "gauss_kernel1 = kernel_1d[:, np.newaxis] * kernel_1d[np.newaxis, :]\n",
        "kernel_1d = np.exp(-5*x**2)\n",
        "kernel_1d /= np.trapz(kernel_1d) # normalize the sum to 1\n",
        "gauss_kernel2 = kernel_1d[:, np.newaxis] * kernel_1d[np.newaxis, :]\n",
        "DoGKernel = gauss_kernel1[:, :, np.newaxis] - gauss_kernel2[:, :, np.newaxis]\n",
        "im = signal.fftconvolve(im, DoGKernel, mode='same')\n",
        "pylab.figure(), pylab.imshow(np.clip(im, 0, 1)), print(np.max(im)),\n",
        "pylab.show()"
      ],
      "execution_count": 0,
      "outputs": []
    },
    {
      "cell_type": "markdown",
      "metadata": {
        "id": "BfEuqlsSe2wS",
        "colab_type": "text"
      },
      "source": [
        "### Band-stop (notch) filter "
      ]
    },
    {
      "cell_type": "code",
      "metadata": {
        "id": "61ZvjVWDe2wT",
        "colab_type": "code",
        "colab": {}
      },
      "source": [
        "from scipy import fftpack\n",
        "pylab.figure(figsize=(15,10))\n",
        "im =  np.mean(imread(\"../images/parrot.png\"), axis=2) / 255\n",
        "print(im.shape)\n",
        "pylab.subplot(2,2,1), pylab.imshow(im, cmap='gray'), pylab.axis('off')\n",
        "pylab.title('Original Image')\n",
        "F1 = fftpack.fft2((im).astype(float))\n",
        "F2 = fftpack.fftshift( F1 )\n",
        "pylab.subplot(2,2,2), pylab.imshow( (20*np.log10( 0.1 + F2)).astype(int), cmap=pylab.cm.gray)\n",
        "pylab.xticks(np.arange(0, im.shape[1], 25))\n",
        "pylab.yticks(np.arange(0, im.shape[0], 25))\n",
        "pylab.title('Original Image Spectrum')\n",
        "# add periodic noise to the image\n",
        "for n in range(im.shape[1]):\n",
        "    im[:, n] += np.cos(0.1*np.pi*n)\n",
        "pylab.subplot(2,2,3), pylab.imshow(im, cmap='gray'), pylab.axis('off')\n",
        "pylab.title('Image after adding Sinusoidal Noise')\n",
        "F1 = fftpack.fft2((im).astype(float)) # noisy spectrum\n",
        "F2 = fftpack.fftshift( F1 )\n",
        "pylab.subplot(2,2,4), pylab.imshow( (20*np.log10( 0.1 + F2)).astype(int), cmap=pylab.cm.gray)\n",
        "pylab.xticks(np.arange(0, im.shape[1], 25))\n",
        "pylab.yticks(np.arange(0, im.shape[0], 25))\n",
        "pylab.title('Noisy Image Spectrum')\n",
        "pylab.tight_layout()\n",
        "pylab.show()"
      ],
      "execution_count": 0,
      "outputs": []
    },
    {
      "cell_type": "code",
      "metadata": {
        "id": "21Ehq2P1e2wV",
        "colab_type": "code",
        "colab": {}
      },
      "source": [
        "F2[170:176,:220] = F2[170:176,230:] = 0 # eliminate the frequencies most likely responsible for noise (keep some low frequency components)\n",
        "im1 = fftpack.ifft2(fftpack.ifftshift( F2 )).real\n",
        "pylab.axis('off'), pylab.imshow(im1, cmap='gray'), pylab.show()"
      ],
      "execution_count": 0,
      "outputs": []
    },
    {
      "cell_type": "markdown",
      "metadata": {
        "id": "NKtbCNj2e2wX",
        "colab_type": "text"
      },
      "source": [
        "### Image restoration"
      ]
    },
    {
      "cell_type": "code",
      "metadata": {
        "id": "OfQ2fFbJe2wY",
        "colab_type": "code",
        "colab": {}
      },
      "source": [
        "im = 255*rgb2gray(imread('../images/lena.jpg'))\n",
        "gauss_kernel = np.outer(signal.gaussian(im.shape[0], 3),\n",
        "signal.gaussian(im.shape[1], 3))\n",
        "freq = fp.fft2(im)\n",
        "freq_kernel = fp.fft2(fp.ifftshift(gauss_kernel)) # this is our H\n",
        "convolved = freq*freq_kernel # by convolution theorem\n",
        "im_blur = fp.ifft2(convolved).real\n",
        "im_blur = 255 * im_blur / np.max(im_blur) # normalize"
      ],
      "execution_count": 0,
      "outputs": []
    },
    {
      "cell_type": "code",
      "metadata": {
        "id": "05C6-7rae2wa",
        "colab_type": "code",
        "colab": {}
      },
      "source": [
        "epsilon = 10**-6\n",
        "freq = fp.fft2(im_blur)\n",
        "freq_kernel = 1 / (epsilon + freq_kernel) # avoid division by zero\n",
        "convolved = freq*freq_kernel\n",
        "im_restored = fp.ifft2(convolved).real\n",
        "im_restored = 255 * im_restored / np.max(im_restored)\n",
        "print(np.max(im), np.max(im_restored))\n",
        "pylab.figure(figsize=(10,10))\n",
        "pylab.gray()\n",
        "pylab.subplot(221), pylab.imshow(im), pylab.title('Original image'), pylab.axis('off')\n",
        "pylab.subplot(222), pylab.imshow(im_blur), pylab.title('Blurred image'), pylab.axis('off')\n",
        "pylab.subplot(223), pylab.imshow(im_restored), pylab.title('Restored image with inverse filter'), pylab.axis('off')\n",
        "pylab.subplot(224), pylab.imshow(im_restored - im), pylab.title('Diff restored & original image'), pylab.axis('off')\n",
        "pylab.show()"
      ],
      "execution_count": 0,
      "outputs": []
    },
    {
      "cell_type": "code",
      "metadata": {
        "id": "5Bu_EMrqe2wc",
        "colab_type": "code",
        "colab": {}
      },
      "source": [
        "kernel_size = 21 # a 21 x 21 motion blurred kernel\n",
        "mblur_kernel = np.zeros((kernel_size, kernel_size))\n",
        "mblur_kernel[int((kernel_size-1)/2), :] = np.ones(kernel_size)\n",
        "mblur_kernel = mblur_kernel / kernel_size\n",
        "# expand the kernel by padding zeros"
      ],
      "execution_count": 0,
      "outputs": []
    },
    {
      "cell_type": "markdown",
      "metadata": {
        "id": "XAnFXI0le2we",
        "colab_type": "text"
      },
      "source": [
        "### Image deconvolution with the Wiener filter"
      ]
    },
    {
      "cell_type": "code",
      "metadata": {
        "id": "Bcg-j4Y4e2wf",
        "colab_type": "code",
        "colab": {}
      },
      "source": [
        "from skimage import color, data, restoration\n",
        "im = color.rgb2gray(imread('../images/elephant_g.jpg'))\n",
        "from scipy.signal import convolve2d as conv2\n",
        "n = 7\n",
        "psf = np.ones((n, n)) / n**2\n",
        "im1 = conv2(im, psf, 'same')\n",
        "im1 += 0.1 * im1.std() * np.random.standard_normal(im1.shape)\n",
        "im2, _ = restoration.unsupervised_wiener(im1, psf)\n",
        "fig, axes = pylab.subplots(nrows=1, ncols=3, figsize=(20, 4), sharex=True, sharey=True)\n",
        "pylab.gray()\n",
        "axes[0].imshow(im), axes[0].axis('off'), axes[0].set_title('Original image', size=20)\n",
        "axes[1].imshow(im1), axes[1].axis('off'), axes[1].set_title('Noisy blurred image', size=20)\n",
        "axes[2].imshow(im2), axes[2].axis('off'), axes[2].set_title('Self tuned restoration', size=20)\n",
        "fig.tight_layout()\n",
        "pylab.show()"
      ],
      "execution_count": 0,
      "outputs": []
    },
    {
      "cell_type": "markdown",
      "metadata": {
        "id": "8MkOwhsce2wg",
        "colab_type": "text"
      },
      "source": [
        "### Image denoising with FFT"
      ]
    },
    {
      "cell_type": "code",
      "metadata": {
        "id": "mLnYuAupe2wh",
        "colab_type": "code",
        "colab": {}
      },
      "source": [
        "im = pylab.imread('../images/moonlanding.png').astype(float)\n",
        "pylab.figure(figsize=(10,10))\n",
        "pylab.imshow(im, pylab.cm.gray), pylab.axis('off'), pylab.title('Original image'), pylab.show()"
      ],
      "execution_count": 0,
      "outputs": []
    },
    {
      "cell_type": "code",
      "metadata": {
        "id": "r3mj72Uie2wj",
        "colab_type": "code",
        "colab": {}
      },
      "source": [
        "from scipy import fftpack\n",
        "from matplotlib.colors import LogNorm\n",
        "im_fft = fftpack.fft2(im)\n",
        "def plot_spectrum(im_fft):\n",
        "    pylab.figure(figsize=(10,10))\n",
        "    pylab.imshow(np.abs(im_fft), norm=LogNorm(vmin=5), cmap=pylab.cm.afmhot), pylab.colorbar()\n",
        "pylab.figure(), plot_spectrum(fftpack.fftshift(im_fft))\n",
        "pylab.title('Spectrum with Fourier transform', size=20)"
      ],
      "execution_count": 0,
      "outputs": []
    },
    {
      "cell_type": "markdown",
      "metadata": {
        "id": "70putIH_e2wm",
        "colab_type": "text"
      },
      "source": [
        "### Filter in FFT"
      ]
    },
    {
      "cell_type": "code",
      "metadata": {
        "id": "xOrk-slXe2wm",
        "colab_type": "code",
        "colab": {}
      },
      "source": [
        "# Copy the original spectrum and truncate coefficients.\n",
        "# Define the fraction of coefficients (in each direction) to keep as\n",
        "keep_fraction = 0.1\n",
        "im_fft2 = im_fft.copy()\n",
        "# Set r and c to the number of rows and columns of the array.\n",
        "r, c = im_fft2.shape\n",
        "# Set all rows to zero with indices between r*keep_fraction and r*(1-keep_fraction)\n",
        "im_fft2[int(r*keep_fraction):int(r*(1-keep_fraction))] = 0\n",
        "# Similarly with the columns\n",
        "im_fft2[:, int(c*keep_fraction):int(c*(1-keep_fraction))] = 0\n",
        "pylab.figure(), plot_spectrum(fftpack.fftshift(im_fft2)),pylab.title('Filtered Spectrum')"
      ],
      "execution_count": 0,
      "outputs": []
    },
    {
      "cell_type": "markdown",
      "metadata": {
        "id": "lCBdKf3Fe2wo",
        "colab_type": "text"
      },
      "source": [
        "### Reconstructing the final image"
      ]
    },
    {
      "cell_type": "code",
      "metadata": {
        "id": "waHVFwPDe2wo",
        "colab_type": "code",
        "colab": {}
      },
      "source": [
        "# Reconstruct the denoised image from the filtered spectrum, keep only the real part for display.\n",
        "im_new = fp.ifft2(im_fft2).real\n",
        "pylab.figure(figsize=(10,10)), pylab.imshow(im_new, pylab.cm.gray),\n",
        "pylab.axis('off')\n",
        "pylab.title('Reconstructed Image', size=20)"
      ],
      "execution_count": 0,
      "outputs": []
    },
    {
      "cell_type": "code",
      "metadata": {
        "id": "Yqp65cKye2wr",
        "colab_type": "code",
        "colab": {}
      },
      "source": [
        ""
      ],
      "execution_count": 0,
      "outputs": []
    }
  ]
}