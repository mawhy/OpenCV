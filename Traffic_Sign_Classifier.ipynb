{
  "nbformat": 4,
  "nbformat_minor": 0,
  "metadata": {
    "colab": {
      "name": "Traffic Sign Classifier",
      "provenance": [],
      "collapsed_sections": [],
      "toc_visible": true,
      "include_colab_link": true
    },
    "kernelspec": {
      "name": "python3",
      "display_name": "Python 3"
    },
    "accelerator": "GPU"
  },
  "cells": [
    {
      "cell_type": "markdown",
      "metadata": {
        "id": "view-in-github",
        "colab_type": "text"
      },
      "source": [
        "<a href=\"https://colab.research.google.com/github/mawhy/OpenCV/blob/master/Traffic_Sign_Classifier.ipynb\" target=\"_parent\"><img src=\"https://colab.research.google.com/assets/colab-badge.svg\" alt=\"Open In Colab\"/></a>"
      ]
    },
    {
      "cell_type": "code",
      "metadata": {
        "id": "Xoo9yGuG1xYN",
        "colab_type": "code",
        "outputId": "c45cf689-320e-4970-a4cf-6a82c93a6c2b",
        "colab": {
          "base_uri": "https://localhost:8080/",
          "height": 34
        }
      },
      "source": [
        "import numpy as np\n",
        "import matplotlib.pyplot as plt\n",
        "import keras\n",
        "import cv2\n",
        "from keras.models import Sequential\n",
        "from keras.optimizers import Adam\n",
        "from keras.layers import Dense\n",
        "from keras.utils.np_utils import to_categorical\n",
        "from keras.layers import Dropout, Flatten\n",
        "from keras.layers.convolutional import Conv2D, MaxPooling2D\n",
        "import pickle\n",
        "import random\n",
        "import pandas as pd"
      ],
      "execution_count": 0,
      "outputs": [
        {
          "output_type": "stream",
          "text": [
            "Using TensorFlow backend.\n"
          ],
          "name": "stderr"
        }
      ]
    },
    {
      "cell_type": "code",
      "metadata": {
        "id": "T2kG_SaN12da",
        "colab_type": "code",
        "colab": {}
      },
      "source": [
        "np.random.seed(0)"
      ],
      "execution_count": 0,
      "outputs": []
    },
    {
      "cell_type": "markdown",
      "metadata": {
        "id": "rQxS_HR3ENBO",
        "colab_type": "text"
      },
      "source": [
        "## Importing Data"
      ]
    },
    {
      "cell_type": "code",
      "metadata": {
        "id": "dRACn8861-Go",
        "colab_type": "code",
        "outputId": "43328d90-45ae-4764-c3b0-8e53f0cdcdb9",
        "colab": {
          "base_uri": "https://localhost:8080/",
          "height": 101
        }
      },
      "source": [
        "!git clone https://bitbucket.org/jadslim/german-traffic-signs"
      ],
      "execution_count": 0,
      "outputs": [
        {
          "output_type": "stream",
          "text": [
            "Cloning into 'german-traffic-signs'...\n",
            "remote: Counting objects: 6, done.\u001b[K\n",
            "remote: Compressing objects: 100% (6/6), done.\u001b[K\n",
            "remote: Total 6 (delta 0), reused 0 (delta 0)\u001b[K\n",
            "Unpacking objects: 100% (6/6), done.\n"
          ],
          "name": "stdout"
        }
      ]
    },
    {
      "cell_type": "code",
      "metadata": {
        "id": "Lq001xV41_fa",
        "colab_type": "code",
        "colab": {}
      },
      "source": [
        "with open('german-traffic-signs/train.p','rb') as f:\n",
        "    train_data = pickle.load(f)\n",
        "with open('german-traffic-signs/valid.p','rb') as f:\n",
        "    val_data = pickle.load(f)  \n",
        "with open('german-traffic-signs/test.p','rb') as f:\n",
        "    test_data = pickle.load(f)"
      ],
      "execution_count": 0,
      "outputs": []
    },
    {
      "cell_type": "code",
      "metadata": {
        "id": "4WFnCEOr2A-Y",
        "colab_type": "code",
        "colab": {}
      },
      "source": [
        "X_train, y_train = train_data['features'], train_data['labels']\n",
        "X_val, y_val = val_data['features'], val_data['labels']\n",
        "X_test, y_test = test_data['features'], test_data['labels']"
      ],
      "execution_count": 0,
      "outputs": []
    },
    {
      "cell_type": "code",
      "metadata": {
        "id": "5F0LCyk32CYl",
        "colab_type": "code",
        "outputId": "3498cd03-32c1-4c9e-bb04-838cecfdd382",
        "colab": {
          "base_uri": "https://localhost:8080/",
          "height": 67
        }
      },
      "source": [
        "print(X_train.shape)\n",
        "print(X_val.shape)\n",
        "print(X_test.shape)"
      ],
      "execution_count": 0,
      "outputs": [
        {
          "output_type": "stream",
          "text": [
            "(34799, 32, 32, 3)\n",
            "(4410, 32, 32, 3)\n",
            "(12630, 32, 32, 3)\n"
          ],
          "name": "stdout"
        }
      ]
    },
    {
      "cell_type": "code",
      "metadata": {
        "id": "etQqUGDj2DqB",
        "colab_type": "code",
        "colab": {}
      },
      "source": [
        "assert(X_train.shape[0] == y_train.shape[0]), \"The number of images is not equal to the number of labels\"\n",
        "assert(X_val.shape[0] == y_val.shape[0]), \"The number of images is not equal to the number of labels\"\n",
        "assert(X_test.shape[0] == y_test.shape[0]), \"The number of images is not equal to the number of labels\"\n",
        "assert(X_train.shape[1:] == (32, 32, 3)), \"The dimensions of the image is not 32*32*3\"\n",
        "assert(X_val.shape[1:] == (32, 32, 3)), \"The dimensions of the image is not 32*32*3\"\n",
        "assert(X_test.shape[1:] == (32, 32, 3)), \"The dimensions of the image is not 32*32*3\""
      ],
      "execution_count": 0,
      "outputs": []
    },
    {
      "cell_type": "markdown",
      "metadata": {
        "id": "kgle1GUlEJPh",
        "colab_type": "text"
      },
      "source": [
        "## Data Visualisation"
      ]
    },
    {
      "cell_type": "code",
      "metadata": {
        "id": "FWLN_Nb62FfT",
        "colab_type": "code",
        "colab": {}
      },
      "source": [
        "data = pd.read_csv('german-traffic-signs/signnames.csv')\n",
        "\n",
        "num_of_samples = []\n",
        "\n",
        "cols = 5\n",
        "num_classes = 43\n",
        "\n",
        "fig, axs = plt.subplots(nrows = num_classes, ncols = cols, figsize = (5, 50))\n",
        "fig.tight_layout()\n",
        "\n",
        "for i in range(cols):\n",
        "    for j, row in data.iterrows():\n",
        "        x_selected = X_train[y_train == j]\n",
        "        axs[j][i].imshow(x_selected[random.randint(0, (len(x_selected)-1)), :, :], cmap = plt.get_cmap(\"gray\"))\n",
        "        axs[j][i].axis(\"off\")\n",
        "        if i == 2:\n",
        "            axs[j][i].set_title(str(j) + \"_\" + row[\"SignName\"])\n",
        "            num_of_samples.append(len(x_selected))\n",
        "            \n",
        "            "
      ],
      "execution_count": 0,
      "outputs": []
    },
    {
      "cell_type": "code",
      "metadata": {
        "id": "b9-7Pufe2G9X",
        "colab_type": "code",
        "colab": {}
      },
      "source": [
        "print(num_of_samples)\n",
        "plt.figure(figsize = (12, 4))\n",
        "plt.bar(range(0, num_classes), num_of_samples)\n",
        "plt.title(\"Training Dataset Distribution\")\n",
        "plt.xlabel(\"Class number\")\n",
        "plt.ylabel(\"Number of images\")"
      ],
      "execution_count": 0,
      "outputs": []
    },
    {
      "cell_type": "markdown",
      "metadata": {
        "id": "CrAdc2VDESsu",
        "colab_type": "text"
      },
      "source": [
        "## Data Preprocessing"
      ]
    },
    {
      "cell_type": "code",
      "metadata": {
        "id": "ODkH9JuL2Iw9",
        "colab_type": "code",
        "colab": {}
      },
      "source": [
        "plt.imshow(X_train[1000])\n",
        "plt.axis('off')\n",
        "print(X_train[1000].shape)\n",
        "print(y_train[1000])"
      ],
      "execution_count": 0,
      "outputs": []
    },
    {
      "cell_type": "code",
      "metadata": {
        "id": "TVTcPsOk2KMJ",
        "colab_type": "code",
        "colab": {}
      },
      "source": [
        "def grayscale(img):\n",
        "    image = cv2.cvtColor(img, cv2.COLOR_BGR2GRAY)\n",
        "    plt.axis('off')\n",
        "    return image"
      ],
      "execution_count": 0,
      "outputs": []
    },
    {
      "cell_type": "code",
      "metadata": {
        "id": "cAvLfxpl2Lgh",
        "colab_type": "code",
        "colab": {}
      },
      "source": [
        "img = grayscale(X_train[1000])\n",
        "plt.imshow(img, cmap = 'gray')\n",
        "print(img.shape)"
      ],
      "execution_count": 0,
      "outputs": []
    },
    {
      "cell_type": "code",
      "metadata": {
        "id": "My_gN2Kc2N2p",
        "colab_type": "code",
        "colab": {}
      },
      "source": [
        "def equalize(img):\n",
        "    img = cv2.equalizeHist(img)\n",
        "    return img"
      ],
      "execution_count": 0,
      "outputs": []
    },
    {
      "cell_type": "code",
      "metadata": {
        "id": "AX-ojXuk2PQt",
        "colab_type": "code",
        "colab": {}
      },
      "source": [
        "img = equalize(img)\n",
        "plt.imshow(img, cmap = 'gray')\n",
        "plt.axis('off')\n",
        "print(img.shape)"
      ],
      "execution_count": 0,
      "outputs": []
    },
    {
      "cell_type": "code",
      "metadata": {
        "id": "3x7_f6W42QXN",
        "colab_type": "code",
        "colab": {}
      },
      "source": [
        "def preprocessing(img):\n",
        "    img = grayscale(img)\n",
        "    img = equalize(img)\n",
        "    img = img/255\n",
        "    return img"
      ],
      "execution_count": 0,
      "outputs": []
    },
    {
      "cell_type": "code",
      "metadata": {
        "id": "rnZQ3OYF2Rx_",
        "colab_type": "code",
        "colab": {}
      },
      "source": [
        "X_train = np.array(list(map(preprocessing, X_train)))\n",
        "X_val = np.array(list(map(preprocessing, X_val)))\n",
        "X_test = np.array(list(map(preprocessing, X_test)))"
      ],
      "execution_count": 0,
      "outputs": []
    },
    {
      "cell_type": "code",
      "metadata": {
        "id": "9gFZuChP2S-4",
        "colab_type": "code",
        "colab": {}
      },
      "source": [
        "X_train = X_train.reshape(34799, 32, 32, 1)\n",
        "X_val = X_val.reshape(4410, 32, 32, 1)\n",
        "X_test = X_test.reshape(12630, 32, 32, 1)"
      ],
      "execution_count": 0,
      "outputs": []
    },
    {
      "cell_type": "code",
      "metadata": {
        "id": "tuQEui0xF0f_",
        "colab_type": "code",
        "colab": {}
      },
      "source": [
        "from keras.preprocessing.image import ImageDataGenerator\n",
        "\n",
        "datagen = ImageDataGenerator(width_shift_range = 0.1,\n",
        "                  height_shift_range = 0.1,\n",
        "                   zoom_range = 0.2,\n",
        "                  shear_range = 0.1,\n",
        "                  rotation_range = 10)\n",
        "\n",
        "datagen.fit(X_train)"
      ],
      "execution_count": 0,
      "outputs": []
    },
    {
      "cell_type": "code",
      "metadata": {
        "id": "fMJ_3RR5HEN9",
        "colab_type": "code",
        "colab": {}
      },
      "source": [
        "batches = datagen.flow(X_train, y_train, batch_size = 20)\n",
        "X_batch, y_batch = next(batches)\n",
        "\n",
        "fig, axs = plt.subplots(1, 15, figsize = (20, 5))\n",
        "fig.tight_layout()\n",
        "\n",
        "for i in range(15):\n",
        "  axs[i].imshow(X_batch[i].reshape(32, 32))\n",
        "  axs[i].axis('off')"
      ],
      "execution_count": 0,
      "outputs": []
    },
    {
      "cell_type": "code",
      "metadata": {
        "id": "RtwRS-wu2UgW",
        "colab_type": "code",
        "colab": {}
      },
      "source": [
        "y_train = to_categorical(y_train, 43)\n",
        "y_val = to_categorical(y_val, 43)\n",
        "y_test = to_categorical(y_test, 43)"
      ],
      "execution_count": 0,
      "outputs": []
    },
    {
      "cell_type": "markdown",
      "metadata": {
        "id": "_rOGzXSyEXbS",
        "colab_type": "text"
      },
      "source": [
        "## Neural Network"
      ]
    },
    {
      "cell_type": "code",
      "metadata": {
        "id": "46uKfwAx2WH2",
        "colab_type": "code",
        "colab": {}
      },
      "source": [
        "def neural_model():\n",
        "    model = Sequential()\n",
        "    model.add(Conv2D(60, (5, 5), input_shape = (32, 32, 1), activation = 'relu'))\n",
        "    model.add(Conv2D(60, (5, 5), input_shape = (32, 32, 1), activation = 'relu'))\n",
        "    model.add(MaxPooling2D(pool_size = (2,2)))\n",
        "    \n",
        "    model.add(Conv2D(30, (3, 3), activation = 'relu'))\n",
        "    model.add(Conv2D(30, (3, 3), activation = 'relu'))\n",
        "    model.add(MaxPooling2D(pool_size = (2, 2)))\n",
        "    \n",
        "    #model.add(Dropout(0.5))\n",
        "    \n",
        "    model.add(Flatten())\n",
        "    model.add(Dense(500, activation = 'relu'))\n",
        "    model.add(Dropout(0.5))\n",
        "    model.add(Dense(num_classes, activation = 'softmax'))\n",
        "    model.compile(Adam(lr = 0.001), loss = 'categorical_crossentropy', metrics = ['accuracy'])\n",
        "    return model"
      ],
      "execution_count": 0,
      "outputs": []
    },
    {
      "cell_type": "code",
      "metadata": {
        "id": "CmAg6TnA2XXm",
        "colab_type": "code",
        "outputId": "03996d7e-3109-43f3-83ae-7796fbb3e8c6",
        "colab": {
          "base_uri": "https://localhost:8080/",
          "height": 504
        }
      },
      "source": [
        "model = neural_model()\n",
        "print(model.summary())"
      ],
      "execution_count": 0,
      "outputs": [
        {
          "output_type": "stream",
          "text": [
            "Model: \"sequential_1\"\n",
            "_________________________________________________________________\n",
            "Layer (type)                 Output Shape              Param #   \n",
            "=================================================================\n",
            "conv2d_1 (Conv2D)            (None, 28, 28, 60)        1560      \n",
            "_________________________________________________________________\n",
            "conv2d_2 (Conv2D)            (None, 24, 24, 60)        90060     \n",
            "_________________________________________________________________\n",
            "max_pooling2d_1 (MaxPooling2 (None, 12, 12, 60)        0         \n",
            "_________________________________________________________________\n",
            "conv2d_3 (Conv2D)            (None, 10, 10, 30)        16230     \n",
            "_________________________________________________________________\n",
            "conv2d_4 (Conv2D)            (None, 8, 8, 30)          8130      \n",
            "_________________________________________________________________\n",
            "max_pooling2d_2 (MaxPooling2 (None, 4, 4, 30)          0         \n",
            "_________________________________________________________________\n",
            "flatten_1 (Flatten)          (None, 480)               0         \n",
            "_________________________________________________________________\n",
            "dense_1 (Dense)              (None, 500)               240500    \n",
            "_________________________________________________________________\n",
            "dropout_1 (Dropout)          (None, 500)               0         \n",
            "_________________________________________________________________\n",
            "dense_2 (Dense)              (None, 43)                21543     \n",
            "=================================================================\n",
            "Total params: 378,023\n",
            "Trainable params: 378,023\n",
            "Non-trainable params: 0\n",
            "_________________________________________________________________\n",
            "None\n"
          ],
          "name": "stdout"
        }
      ]
    },
    {
      "cell_type": "code",
      "metadata": {
        "id": "esqSG0h72YvX",
        "colab_type": "code",
        "outputId": "bd6ba736-4fa3-4064-894a-bba9137e6fbf",
        "colab": {
          "base_uri": "https://localhost:8080/",
          "height": 373
        }
      },
      "source": [
        "history = model.fit_generator(datagen.flow(X_train, y_train, batch_size = 50), steps_per_epoch = 2000, epochs = 10, validation_data =(X_val, y_val), shuffle = 1)"
      ],
      "execution_count": 0,
      "outputs": [
        {
          "output_type": "stream",
          "text": [
            "Epoch 1/10\n",
            "2000/2000 [==============================] - 58s 29ms/step - loss: 0.8650 - accuracy: 0.7468 - val_loss: 0.0967 - val_accuracy: 0.9721\n",
            "Epoch 2/10\n",
            "2000/2000 [==============================] - 49s 25ms/step - loss: 0.1916 - accuracy: 0.9405 - val_loss: 0.0847 - val_accuracy: 0.9739\n",
            "Epoch 3/10\n",
            "2000/2000 [==============================] - 48s 24ms/step - loss: 0.1315 - accuracy: 0.9594 - val_loss: 0.0341 - val_accuracy: 0.9889\n",
            "Epoch 4/10\n",
            "2000/2000 [==============================] - 47s 24ms/step - loss: 0.1009 - accuracy: 0.9682 - val_loss: 0.0448 - val_accuracy: 0.9866\n",
            "Epoch 5/10\n",
            "2000/2000 [==============================] - 47s 24ms/step - loss: 0.0859 - accuracy: 0.9737 - val_loss: 0.0357 - val_accuracy: 0.9889\n",
            "Epoch 6/10\n",
            "2000/2000 [==============================] - 48s 24ms/step - loss: 0.0782 - accuracy: 0.9762 - val_loss: 0.0439 - val_accuracy: 0.9871\n",
            "Epoch 7/10\n",
            "2000/2000 [==============================] - 47s 24ms/step - loss: 0.0676 - accuracy: 0.9794 - val_loss: 0.0417 - val_accuracy: 0.9880\n",
            "Epoch 8/10\n",
            "2000/2000 [==============================] - 47s 24ms/step - loss: 0.0641 - accuracy: 0.9806 - val_loss: 0.0435 - val_accuracy: 0.9871\n",
            "Epoch 9/10\n",
            "2000/2000 [==============================] - 47s 23ms/step - loss: 0.0582 - accuracy: 0.9818 - val_loss: 0.0253 - val_accuracy: 0.9934\n",
            "Epoch 10/10\n",
            "2000/2000 [==============================] - 47s 24ms/step - loss: 0.0574 - accuracy: 0.9827 - val_loss: 0.0214 - val_accuracy: 0.9941\n"
          ],
          "name": "stdout"
        }
      ]
    },
    {
      "cell_type": "code",
      "metadata": {
        "id": "tkxDXG4c2a3V",
        "colab_type": "code",
        "colab": {}
      },
      "source": [
        "plt.plot(history.history['loss'])\n",
        "plt.plot(history.history['val_loss'])\n",
        "# plt.plot(history.history['acc'])\n",
        "# plt.plot(history.history['val_acc'])\n",
        "plt.legend(['loss', 'val_loss', 'accuracy', 'val_acc'])\n",
        "plt.title('Loss & Accuracy')\n",
        "plt.xlabel('epoch')"
      ],
      "execution_count": 0,
      "outputs": []
    },
    {
      "cell_type": "code",
      "metadata": {
        "id": "2Mr1InYW294l",
        "colab_type": "code",
        "outputId": "b9778a5c-e6ea-4345-c790-219133e6e1f7",
        "colab": {
          "base_uri": "https://localhost:8080/",
          "height": 67
        }
      },
      "source": [
        "score = model.evaluate(X_test, y_test, verbose = 1)\n",
        "print('Test Score', score[0])\n",
        "print('Test Accuracy', score[1])"
      ],
      "execution_count": 0,
      "outputs": [
        {
          "output_type": "stream",
          "text": [
            "12630/12630 [==============================] - 1s 111us/step\n",
            "Test Score 0.09992910915442874\n",
            "Test Accuracy 0.974663496017456\n"
          ],
          "name": "stdout"
        }
      ]
    },
    {
      "cell_type": "markdown",
      "metadata": {
        "id": "C9TMZtJXD9JU",
        "colab_type": "text"
      },
      "source": [
        "## Testing"
      ]
    },
    {
      "cell_type": "code",
      "metadata": {
        "id": "EWdzokJB3BVC",
        "colab_type": "code",
        "colab": {}
      },
      "source": [
        "import requests\n",
        "from PIL import Image\n",
        "url = 'https://c8.alamy.com/comp/A0RX23/cars-and-automobiles-must-turn-left-ahead-sign-A0RX23.jpg'\n",
        "r = requests.get(url, stream=True)\n",
        "image = Image.open(r.raw)\n",
        "plt.axis('off')\n",
        "plt.imshow(image, cmap=plt.get_cmap('gray'))"
      ],
      "execution_count": 0,
      "outputs": []
    },
    {
      "cell_type": "code",
      "metadata": {
        "id": "2C13ernz60Nz",
        "colab_type": "code",
        "colab": {}
      },
      "source": [
        "img = np.asarray(image)\n",
        "img = cv2.resize(img, (32, 32))\n",
        "img = preprocessing(img)\n",
        "plt.imshow(img, cmap = plt.get_cmap('gray'))\n",
        "print(img.shape)\n",
        "img = img.reshape(1, 32, 32, 1)"
      ],
      "execution_count": 0,
      "outputs": []
    },
    {
      "cell_type": "code",
      "metadata": {
        "id": "1FT5Bn-tDvYu",
        "colab_type": "code",
        "colab": {}
      },
      "source": [
        "prediction = str(model.predict_classes(img))\n",
        "\n",
        "prediction = prediction[1:-1]\n",
        "\n",
        "##print(\"predicted sign: \"+ prediction )"
      ],
      "execution_count": 0,
      "outputs": []
    },
    {
      "cell_type": "code",
      "metadata": {
        "id": "hyMhLhAlD02m",
        "colab_type": "code",
        "colab": {}
      },
      "source": [
        "pred = int(prediction)\n",
        "plt.imshow(image)\n",
        "plt.axis('off')\n",
        "\n",
        "for num, name in data.iteritems():\n",
        "  name = name.values\n",
        "  print(\"predicted sign: \"+ str(name[pred]))\n"
      ],
      "execution_count": 0,
      "outputs": []
    },
    {
      "cell_type": "code",
      "metadata": {
        "id": "0RgfjCKjOrbC",
        "colab_type": "code",
        "colab": {}
      },
      "source": [
        ""
      ],
      "execution_count": 0,
      "outputs": []
    }
  ]
}