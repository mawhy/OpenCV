{
  "nbformat": 4,
  "nbformat_minor": 0,
  "metadata": {
    "kernelspec": {
      "display_name": "Python 3",
      "language": "python",
      "name": "python3"
    },
    "language_info": {
      "codemirror_mode": {
        "name": "ipython",
        "version": 3
      },
      "file_extension": ".py",
      "mimetype": "text/x-python",
      "name": "python",
      "nbconvert_exporter": "python",
      "pygments_lexer": "ipython3",
      "version": "3.5.4"
    },
    "colab": {
      "name": "Getting started with Image Processing",
      "provenance": [],
      "collapsed_sections": [
        "DzYtxSWGy4bF",
        "f9pOkMjcy4bI",
        "gFmEmekTy4bP",
        "844c--AZy4bV",
        "YRKAId9vy4bY",
        "9LO2uTlLy4bb",
        "fywCc8tmy4bi",
        "f-mr3JAby4bk",
        "Q-xePpWNy4bn",
        "b3hbls3ry4bq",
        "U25Q9Vo_y4b0",
        "qnKhbFiRy4b2",
        "gmA6xO_yy4b5",
        "cjx0zCYPy4b8",
        "E-g-OK0Zy4b_",
        "X2rO8NbHy4cC",
        "YqX2g0cOy4cF",
        "12Yb6-psy4cI",
        "gLs2wWnSy4cL",
        "YpzCwInAy4cO",
        "m6ILY_5Zy4cR",
        "BdgY5OFay4cU",
        "NBEyQjAHy4cX",
        "LAm1Q3Jey4cZ",
        "Mw6OVBeYy4cb",
        "B_ox1AjEy4cd",
        "dK5BASQfy4cg",
        "PNnzUowUy4ci",
        "TwMmpnZCy4cl",
        "kPbA7risy4cn",
        "F_Rqf7Ddy4ct",
        "btiV0lcPy4cx",
        "p1SRa93vy4cz",
        "tllZ66bey4c1"
      ],
      "toc_visible": true,
      "include_colab_link": true
    }
  },
  "cells": [
    {
      "cell_type": "markdown",
      "metadata": {
        "id": "view-in-github",
        "colab_type": "text"
      },
      "source": [
        "<a href=\"https://colab.research.google.com/github/mawhy/OpenCV/blob/master/Getting_started_with_Image_Processing.ipynb\" target=\"_parent\"><img src=\"https://colab.research.google.com/assets/colab-badge.svg\" alt=\"Open In Colab\"/></a>"
      ]
    },
    {
      "cell_type": "markdown",
      "metadata": {
        "id": "j00MTa8Iy4al",
        "colab_type": "text"
      },
      "source": [
        "# Hands-on Image Processing with Python\n",
        "## Chapter 1: Getting started with Image Processing"
      ]
    },
    {
      "cell_type": "markdown",
      "metadata": {
        "id": "DuP_Mwtiy4ao",
        "colab_type": "text"
      },
      "source": [
        "### Import libraries"
      ]
    },
    {
      "cell_type": "code",
      "metadata": {
        "id": "ZpOxTOPQzZpH",
        "colab_type": "code",
        "colab": {}
      },
      "source": [
        "!git clone https://github.com/PacktPublishing/Hands-On-Image-Processing-with-Python.git\n",
        "%cp -av \"/content/Hands-On-Image-Processing-with-Python/images/\" \"/\"\n",
        "%rm -rf \"/content/Hands-On-Image-Processing-with-Python\""
      ],
      "execution_count": 0,
      "outputs": []
    },
    {
      "cell_type": "code",
      "metadata": {
        "id": "p9QFUMvS1RKy",
        "colab_type": "code",
        "colab": {}
      },
      "source": [
        "%cp -av \"/content/Hands-On-Image-Processing-with-Python/images/\" \"/\""
      ],
      "execution_count": 0,
      "outputs": []
    },
    {
      "cell_type": "code",
      "metadata": {
        "id": "Y3OMOjzOy4at",
        "colab_type": "code",
        "colab": {}
      },
      "source": [
        "% matplotlib inline\n",
        "import skimage\n",
        "print(skimage.__version__)\n",
        "import numpy as np\n",
        "from PIL import Image, ImageFont, ImageDraw\n",
        "from PIL.ImageChops import add, subtract, multiply, difference, screen\n",
        "import PIL.ImageStat as stat\n",
        "from skimage.io import imread, imsave, imshow, show, imread_collection, imshow_collection\n",
        "from skimage import color, viewer, exposure, img_as_float, data\n",
        "from skimage.transform import SimilarityTransform, warp, swirl\n",
        "from skimage.util import invert, random_noise, montage\n",
        "import matplotlib.image as mpimg\n",
        "import matplotlib.pylab as plt\n",
        "from scipy.ndimage import affine_transform, zoom\n",
        "from scipy import misc"
      ],
      "execution_count": 0,
      "outputs": []
    },
    {
      "cell_type": "markdown",
      "metadata": {
        "id": "1Q7Iwi0By4ax",
        "colab_type": "text"
      },
      "source": [
        "### Reading, saving, and displaying an image using PIL"
      ]
    },
    {
      "cell_type": "code",
      "metadata": {
        "id": "WkXeVlYty4ay",
        "colab_type": "code",
        "colab": {}
      },
      "source": [
        "im = Image.open(\"../images/parrot.png\") # read the image, provide the correct path\n",
        "print(im.width, im.height, im.mode, im.format, type(im))\n",
        "# 453 340 RGB PNG <class 'PIL.PngImagePlugin.PngImageFile'>\n",
        "im.show() # display the image"
      ],
      "execution_count": 0,
      "outputs": []
    },
    {
      "cell_type": "code",
      "metadata": {
        "id": "H2CKj_88y4a0",
        "colab_type": "code",
        "colab": {}
      },
      "source": [
        "im_g = im.convert('L') # convert the RGB color image to a grayscale image\n",
        "im_g.save('../images/parrot_gray.png') # save the image to disk\n",
        "Image.open(\"../images/parrot_gray.png\") # read the grayscale image from disk and show"
      ],
      "execution_count": 0,
      "outputs": []
    },
    {
      "cell_type": "markdown",
      "metadata": {
        "id": "5STzvTNBy4a3",
        "colab_type": "text"
      },
      "source": [
        "### Reading, saving, and displaying an image using Matplotlib"
      ]
    },
    {
      "cell_type": "code",
      "metadata": {
        "id": "KKPxjVOdy4a4",
        "colab_type": "code",
        "colab": {}
      },
      "source": [
        "im = mpimg.imread(\"../images/hill.png\") # read the image from disk as a numpy ndarray\n",
        "print(im.shape, im.dtype, type(im)) # this image contains an α channel, hence num_channels= 4\n",
        "# (960, 1280, 4) float32 <class 'numpy.ndarray'>\n",
        "plt.figure(figsize=(10,10))\n",
        "plt.imshow(im) # display the image\n",
        "plt.axis('off')\n",
        "plt.show()"
      ],
      "execution_count": 0,
      "outputs": []
    },
    {
      "cell_type": "code",
      "metadata": {
        "id": "KGhLh5eFy4a6",
        "colab_type": "code",
        "colab": {}
      },
      "source": [
        "im1 = im\n",
        "im1[im1 < 0.5] = 0 # make the image look darker\n",
        "plt.imshow(im1)\n",
        "plt.axis('off')\n",
        "plt.tight_layout()\n",
        "plt.savefig(\"../images/hill_dark.png\") # save the dark image\n",
        "plt.close()\n",
        "im = mpimg.imread(\"../images/hill_dark.png\") # read the dark image\n",
        "plt.figure(figsize=(10,10))\n",
        "plt.imshow(im)\n",
        "plt.axis('off') # no axis ticks\n",
        "plt.tight_layout()\n",
        "plt.show()"
      ],
      "execution_count": 0,
      "outputs": []
    },
    {
      "cell_type": "markdown",
      "metadata": {
        "id": "Rpz8m03Ny4a9",
        "colab_type": "text"
      },
      "source": [
        "### Interpolating while displaying with matplotlib imshow"
      ]
    },
    {
      "cell_type": "code",
      "metadata": {
        "id": "BvcHw4Yty4a9",
        "colab_type": "code",
        "colab": {}
      },
      "source": [
        "im = mpimg.imread(\"../images/lena_small.jpg\") # read the image from disk as a numpy ndarray\n",
        "methods = ['none', 'nearest', 'bilinear', 'bicubic', 'spline16', 'lanczos']\n",
        "fig, axes = plt.subplots(nrows=2, ncols=3, figsize=(15, 12), subplot_kw={'xticks': [], 'yticks': []})\n",
        "fig.subplots_adjust(hspace=0.05, wspace=0.05)\n",
        "for ax, interp_method in zip(axes.flat, methods):\n",
        "    ax.imshow(im, interpolation=interp_method)\n",
        "    ax.set_title(str(interp_method), size=20)\n",
        "plt.tight_layout()\n",
        "plt.show()"
      ],
      "execution_count": 0,
      "outputs": []
    },
    {
      "cell_type": "markdown",
      "metadata": {
        "id": "C_uvZk35y4bA",
        "colab_type": "text"
      },
      "source": [
        "### Reading, saving, and displaying an image using scikit-image"
      ]
    },
    {
      "cell_type": "code",
      "metadata": {
        "id": "xTUR7oOsy4bB",
        "colab_type": "code",
        "colab": {}
      },
      "source": [
        "im = imread(\"../images/parrot.png\") # read image from disk, provide the correct path\n",
        "print(im.shape, im.dtype, type(im))\n",
        "hsv = color.rgb2hsv(im) # from RGB to HSV color space\n",
        "hsv[:, :, 1] = 0.5 # change the saturation\n",
        "im1 = color.hsv2rgb(hsv) # from HSV back to RGB\n",
        "imsave('../images/parrot_hsv.png', im1) # save image to disk\n",
        "im = imread(\"../images/parrot_hsv.png\")\n",
        "plt.axis('off'), imshow(im), show()"
      ],
      "execution_count": 0,
      "outputs": []
    },
    {
      "cell_type": "code",
      "metadata": {
        "id": "75832UYly4bD",
        "colab_type": "code",
        "colab": {}
      },
      "source": [
        "viewer = viewer.ImageViewer(im)\n",
        "viewer.show()"
      ],
      "execution_count": 0,
      "outputs": []
    },
    {
      "cell_type": "markdown",
      "metadata": {
        "id": "DzYtxSWGy4bF",
        "colab_type": "text"
      },
      "source": [
        "### Using scikit-image's astronaut dataset"
      ]
    },
    {
      "cell_type": "code",
      "metadata": {
        "id": "XrxWXKWPy4bG",
        "colab_type": "code",
        "colab": {}
      },
      "source": [
        "im = data.astronaut()\n",
        "imshow(im), show()"
      ],
      "execution_count": 0,
      "outputs": []
    },
    {
      "cell_type": "markdown",
      "metadata": {
        "id": "f9pOkMjcy4bI",
        "colab_type": "text"
      },
      "source": [
        "### Using scipy.misc's face dataset"
      ]
    },
    {
      "cell_type": "code",
      "metadata": {
        "scrolled": true,
        "id": "Knd1foZ1y4bJ",
        "colab_type": "code",
        "colab": {}
      },
      "source": [
        "import imageio\n",
        "im = misc.face() # load the raccoon's face image\n",
        "imageio.imwrite('face.png', im) # uses the Image module (PIL)\n",
        "plt.imshow(im), plt.axis('off'), plt.show()"
      ],
      "execution_count": 0,
      "outputs": []
    },
    {
      "cell_type": "code",
      "metadata": {
        "id": "KrDHBqDsy4bL",
        "colab_type": "code",
        "colab": {}
      },
      "source": [
        "im = imageio.imread('../images/pepper.jpg')\n",
        "print(type(im), im.shape, im.dtype)\n",
        "# <class 'numpy.ndarray'> (225, 225, 3) uint8"
      ],
      "execution_count": 0,
      "outputs": []
    },
    {
      "cell_type": "code",
      "metadata": {
        "id": "h5cx-VrYy4bN",
        "colab_type": "code",
        "colab": {}
      },
      "source": [
        "import imageio\n",
        "im = imageio.imread('../images/pepper.jpg')\n",
        "print(type(im), im.shape, im.dtype)\n",
        "plt.imshow(im), plt.axis('off'), plt.show()"
      ],
      "execution_count": 0,
      "outputs": []
    },
    {
      "cell_type": "markdown",
      "metadata": {
        "id": "gFmEmekTy4bP",
        "colab_type": "text"
      },
      "source": [
        "### Converting from one file format to another"
      ]
    },
    {
      "cell_type": "code",
      "metadata": {
        "id": "E0oiJSM8y4bQ",
        "colab_type": "code",
        "colab": {}
      },
      "source": [
        "im = Image.open(\"../images/parrot.png\")\n",
        "print(im.mode)\n",
        "im.save(\"../images/parrot.jpg\")"
      ],
      "execution_count": 0,
      "outputs": []
    },
    {
      "cell_type": "code",
      "metadata": {
        "id": "g1RXBeOQy4bS",
        "colab_type": "code",
        "colab": {}
      },
      "source": [
        "im = Image.open(\"../images/hill.png\")\n",
        "print(im.mode)\n",
        "# RGBA\n",
        "im.convert('RGB').save(\"../images/hill.jpg\") # first convert to RGB mode"
      ],
      "execution_count": 0,
      "outputs": []
    },
    {
      "cell_type": "markdown",
      "metadata": {
        "id": "844c--AZy4bV",
        "colab_type": "text"
      },
      "source": [
        "### Converting from one image mode into another"
      ]
    },
    {
      "cell_type": "code",
      "metadata": {
        "id": "k38Ocm7Vy4bV",
        "colab_type": "code",
        "colab": {}
      },
      "source": [
        "im = imread(\"../images/parrot.png\", as_gray=True)\n",
        "print(im.shape)\n",
        "im = imread(\"../images/Ishihara.png\")\n",
        "im_g = color.rgb2gray(im)\n",
        "plt.subplot(121), plt.imshow(im, cmap='gray'), plt.axis('off')\n",
        "plt.subplot(122), plt.imshow(im_g, cmap='gray'), plt.axis('off')\n",
        "plt.show()"
      ],
      "execution_count": 0,
      "outputs": []
    },
    {
      "cell_type": "markdown",
      "metadata": {
        "id": "YRKAId9vy4bY",
        "colab_type": "text"
      },
      "source": [
        "### Converting from one color space into another"
      ]
    },
    {
      "cell_type": "code",
      "metadata": {
        "id": "Q4LjzHUly4bY",
        "colab_type": "code",
        "colab": {}
      },
      "source": [
        "im = imread(\"../images/parrot.png\")\n",
        "im_hsv = color.rgb2hsv(im)\n",
        "plt.gray()\n",
        "plt.figure(figsize=(10,8))\n",
        "plt.subplot(221), plt.imshow(im_hsv[...,0]), plt.title('h', size=20),\n",
        "plt.axis('off')\n",
        "plt.subplot(222), plt.imshow(im_hsv[...,1]), plt.title('s', size=20),\n",
        "plt.axis('off')\n",
        "plt.subplot(223), plt.imshow(im_hsv[...,2]), plt.title('v', size=20),\n",
        "plt.axis('off')\n",
        "plt.subplot(224), plt.axis('off')\n",
        "plt.show()"
      ],
      "execution_count": 0,
      "outputs": []
    },
    {
      "cell_type": "markdown",
      "metadata": {
        "id": "9LO2uTlLy4bb",
        "colab_type": "text"
      },
      "source": [
        "### Converting image data structures"
      ]
    },
    {
      "cell_type": "code",
      "metadata": {
        "id": "FnaimVMDy4bb",
        "colab_type": "code",
        "colab": {}
      },
      "source": [
        "im = Image.open('../images/flowers.png') # read image into an Image object with PIL\n",
        "im = np.array(im) # create a numpy ndarray from the Image object\n",
        "imshow(im) # use skimage imshow to display the image\n",
        "plt.axis('off'), show()"
      ],
      "execution_count": 0,
      "outputs": []
    },
    {
      "cell_type": "code",
      "metadata": {
        "id": "D9bsYPupy4bd",
        "colab_type": "code",
        "colab": {}
      },
      "source": [
        "im = imread('../images/flowers.png') # read image into numpy ndarray with skimage\n",
        "im = Image.fromarray(im) # create a PIL Image object from the numpy ndarray\n",
        "im.show() # display the image with PIL Image.show() method"
      ],
      "execution_count": 0,
      "outputs": []
    },
    {
      "cell_type": "markdown",
      "metadata": {
        "id": "fywCc8tmy4bi",
        "colab_type": "text"
      },
      "source": [
        "### Simple image morphing - α-blending of two images using cross-dissolving"
      ]
    },
    {
      "cell_type": "code",
      "metadata": {
        "id": "3IEwcIwYy4bi",
        "colab_type": "code",
        "colab": {}
      },
      "source": [
        "im1 = mpimg.imread(\"../images/messi.jpg\") / 255 # scale RGB values in [0,1]\n",
        "im2 = mpimg.imread(\"../images/ronaldo.jpg\") / 255\n",
        "i = 1\n",
        "plt.figure(figsize=(18,15))\n",
        "for alpha in np.linspace(0,1,20):\n",
        "    plt.subplot(4,5,i)\n",
        "    plt.imshow((1-alpha)*im1 + alpha*im2)\n",
        "    plt.axis('off')\n",
        "    i += 1\n",
        "plt.subplots_adjust(wspace=0.05, hspace=0.05)\n",
        "plt.show()"
      ],
      "execution_count": 0,
      "outputs": []
    },
    {
      "cell_type": "markdown",
      "metadata": {
        "id": "f-mr3JAby4bk",
        "colab_type": "text"
      },
      "source": [
        "### Image manipulations with PIL"
      ]
    },
    {
      "cell_type": "code",
      "metadata": {
        "id": "vEELAtT1y4bl",
        "colab_type": "code",
        "colab": {}
      },
      "source": [
        "im = Image.open(\"../images/parrot.png\") # open the image, provide the correct path\n",
        "print(im.width, im.height, im.mode, im.format) # print image size, mode and format4\n",
        "im"
      ],
      "execution_count": 0,
      "outputs": []
    },
    {
      "cell_type": "markdown",
      "metadata": {
        "id": "Q-xePpWNy4bn",
        "colab_type": "text"
      },
      "source": [
        "### Cropping an image"
      ]
    },
    {
      "cell_type": "code",
      "metadata": {
        "id": "0KpDQ8DBy4bo",
        "colab_type": "code",
        "colab": {}
      },
      "source": [
        "im_c = im.crop((175,75,320,200)) # crop the rectangle given by (left, top, right, bottom) from the image\n",
        "#im_c.show()\n",
        "im_c"
      ],
      "execution_count": 0,
      "outputs": []
    },
    {
      "cell_type": "markdown",
      "metadata": {
        "id": "b3hbls3ry4bq",
        "colab_type": "text"
      },
      "source": [
        "### Resizing an image"
      ]
    },
    {
      "cell_type": "code",
      "metadata": {
        "id": "jtLdNlOyy4br",
        "colab_type": "code",
        "colab": {}
      },
      "source": [
        "im = Image.open(\"../images/clock.jpg\")\n",
        "print(im.width, im.height)\n",
        "im"
      ],
      "execution_count": 0,
      "outputs": []
    },
    {
      "cell_type": "code",
      "metadata": {
        "id": "_RhSam_py4bt",
        "colab_type": "code",
        "colab": {}
      },
      "source": [
        "im_large = im.resize((im.width*5, im.height*5), Image.BILINEAR) # bi-linear interpolation\n",
        "im_large"
      ],
      "execution_count": 0,
      "outputs": []
    },
    {
      "cell_type": "code",
      "metadata": {
        "id": "gEiyjWKyy4bv",
        "colab_type": "code",
        "colab": {}
      },
      "source": [
        "im = Image.open(\"../images/victoria_memorial.png\")\n",
        "print(im.width, im.height)\n",
        "im"
      ],
      "execution_count": 0,
      "outputs": []
    },
    {
      "cell_type": "code",
      "metadata": {
        "id": "IENB0UACy4bx",
        "colab_type": "code",
        "colab": {}
      },
      "source": [
        "im_small = im.resize((im.width//5, im.height//5), Image.ANTIALIAS)\n",
        "im_small"
      ],
      "execution_count": 0,
      "outputs": []
    },
    {
      "cell_type": "markdown",
      "metadata": {
        "id": "U25Q9Vo_y4b0",
        "colab_type": "text"
      },
      "source": [
        "### Negating an image"
      ]
    },
    {
      "cell_type": "code",
      "metadata": {
        "id": "gYYHR1vUy4b0",
        "colab_type": "code",
        "colab": {}
      },
      "source": [
        "im = Image.open(\"../images/parrot.png\")\n",
        "im_t = im.point(lambda x: 255 - x)\n",
        "im_t"
      ],
      "execution_count": 0,
      "outputs": []
    },
    {
      "cell_type": "markdown",
      "metadata": {
        "id": "qnKhbFiRy4b2",
        "colab_type": "text"
      },
      "source": [
        "### Converting an image into grayscale"
      ]
    },
    {
      "cell_type": "code",
      "metadata": {
        "id": "OFwcEYQly4b3",
        "colab_type": "code",
        "colab": {}
      },
      "source": [
        "im_g = im.convert('L') # convert the RGB color image to a grayscale image\n",
        "im_g"
      ],
      "execution_count": 0,
      "outputs": []
    },
    {
      "cell_type": "markdown",
      "metadata": {
        "id": "gmA6xO_yy4b5",
        "colab_type": "text"
      },
      "source": [
        "### Log transformation"
      ]
    },
    {
      "cell_type": "code",
      "metadata": {
        "id": "FSQwijjvy4b6",
        "colab_type": "code",
        "colab": {}
      },
      "source": [
        "im_g.point(lambda x: 255*np.log(1+x/255)).show()\n",
        "im_g"
      ],
      "execution_count": 0,
      "outputs": []
    },
    {
      "cell_type": "markdown",
      "metadata": {
        "id": "cjx0zCYPy4b8",
        "colab_type": "text"
      },
      "source": [
        "### Power-law transformation"
      ]
    },
    {
      "cell_type": "code",
      "metadata": {
        "id": "AGW0WMs-y4b9",
        "colab_type": "code",
        "colab": {}
      },
      "source": [
        "im_g.point(lambda x: 255*(x/255)**0.6).show()\n",
        "im_g"
      ],
      "execution_count": 0,
      "outputs": []
    },
    {
      "cell_type": "markdown",
      "metadata": {
        "id": "E-g-OK0Zy4b_",
        "colab_type": "text"
      },
      "source": [
        "### Reflecting an image"
      ]
    },
    {
      "cell_type": "code",
      "metadata": {
        "id": "CvuHRoT-y4cA",
        "colab_type": "code",
        "colab": {}
      },
      "source": [
        "im_r = im.transpose(Image.FLIP_LEFT_RIGHT) # reflect about the vertical axis\n",
        "im_r"
      ],
      "execution_count": 0,
      "outputs": []
    },
    {
      "cell_type": "markdown",
      "metadata": {
        "id": "X2rO8NbHy4cC",
        "colab_type": "text"
      },
      "source": [
        "### Rotating an image"
      ]
    },
    {
      "cell_type": "code",
      "metadata": {
        "id": "fIs8h7l5y4cD",
        "colab_type": "code",
        "colab": {}
      },
      "source": [
        "im_45 = im.rotate(45) # rotate the image by 45 degrees\n",
        "im_45 # show the rotated image"
      ],
      "execution_count": 0,
      "outputs": []
    },
    {
      "cell_type": "markdown",
      "metadata": {
        "id": "YqX2g0cOy4cF",
        "colab_type": "text"
      },
      "source": [
        "### Applying an Affine transformation on an image"
      ]
    },
    {
      "cell_type": "code",
      "metadata": {
        "id": "kwY4VgRmy4cF",
        "colab_type": "code",
        "colab": {}
      },
      "source": [
        "im = Image.open(\"../images/parrot.png\")\n",
        "im.transform((int(1.4*im.width), im.height), Image.AFFINE, data=(1,-0.5,0,0,1,0)) # shear"
      ],
      "execution_count": 0,
      "outputs": []
    },
    {
      "cell_type": "markdown",
      "metadata": {
        "id": "12Yb6-psy4cI",
        "colab_type": "text"
      },
      "source": [
        "### Perspective transformation"
      ]
    },
    {
      "cell_type": "code",
      "metadata": {
        "id": "XtoGVaMjy4cI",
        "colab_type": "code",
        "colab": {}
      },
      "source": [
        "params = [1, 0.1, 0, -0.1, 0.5, 0, -0.005, -0.001]\n",
        "im1 = im.transform((im.width//3, im.height), Image.PERSPECTIVE, params,Image.BICUBIC)\n",
        "im1"
      ],
      "execution_count": 0,
      "outputs": []
    },
    {
      "cell_type": "markdown",
      "metadata": {
        "id": "gLs2wWnSy4cL",
        "colab_type": "text"
      },
      "source": [
        "### Changing pixel values of an image"
      ]
    },
    {
      "cell_type": "code",
      "metadata": {
        "id": "AqTNVdBMy4cL",
        "colab_type": "code",
        "colab": {}
      },
      "source": [
        "# choose 5000 random locations inside image\n",
        "im1 = im.copy() # keep the original image, create a copy\n",
        "n = 5000\n",
        "x, y = np.random.randint(0, im.width, n), np.random.randint(0, im.height,n)\n",
        "for (x,y) in zip(x,y):\n",
        "    im1.putpixel((x, y), ((0,0,0) if np.random.rand() < 0.5 else (255,255,255))) # salt-and-pepper noise\n",
        "im1"
      ],
      "execution_count": 0,
      "outputs": []
    },
    {
      "cell_type": "markdown",
      "metadata": {
        "id": "YpzCwInAy4cO",
        "colab_type": "text"
      },
      "source": [
        "### Drawing on an image"
      ]
    },
    {
      "cell_type": "code",
      "metadata": {
        "id": "1Y21xNBRy4cO",
        "colab_type": "code",
        "colab": {}
      },
      "source": [
        "im = Image.open(\"../images/parrot.png\")\n",
        "draw = ImageDraw.Draw(im)\n",
        "draw.ellipse((125, 125, 200, 250), fill=(255,255,255,128))\n",
        "del draw\n",
        "im"
      ],
      "execution_count": 0,
      "outputs": []
    },
    {
      "cell_type": "markdown",
      "metadata": {
        "id": "m6ILY_5Zy4cR",
        "colab_type": "text"
      },
      "source": [
        "### Drawing text on an image"
      ]
    },
    {
      "cell_type": "code",
      "metadata": {
        "id": "KNV5YJNe-0wo",
        "colab_type": "code",
        "colab": {}
      },
      "source": [
        "!wget https://github.com/JotJunior/PHP-Boleto-ZF2/raw/master/public/assets/fonts/arial.ttf"
      ],
      "execution_count": 0,
      "outputs": []
    },
    {
      "cell_type": "code",
      "metadata": {
        "id": "lxyp4EM5y4cS",
        "colab_type": "code",
        "colab": {}
      },
      "source": [
        "im = Image.open(\"../images/parrot.png\")\n",
        "draw = ImageDraw.Draw(im)\n",
        "font = ImageFont.truetype(\"arial.ttf\", 23) # use a truetype font\n",
        "draw.text((10, 5), \"Welcome to image processing with python\", font=font)\n",
        "del draw\n",
        "im"
      ],
      "execution_count": 0,
      "outputs": []
    },
    {
      "cell_type": "markdown",
      "metadata": {
        "id": "BdgY5OFay4cU",
        "colab_type": "text"
      },
      "source": [
        "### Creating a thumbnail"
      ]
    },
    {
      "cell_type": "code",
      "metadata": {
        "id": "NuGdQ6uLy4cU",
        "colab_type": "code",
        "colab": {}
      },
      "source": [
        "im = Image.open(\"../images/parrot.png\")\n",
        "im_thumbnail = im.copy() # need to copy the original image first\n",
        "im_thumbnail.thumbnail((100,100)) # now paste the thumbnail on the image\n",
        "im.paste(im_thumbnail, (10,10))\n",
        "im.save(\"../images/parrot_thumb.jpg\")\n",
        "im"
      ],
      "execution_count": 0,
      "outputs": []
    },
    {
      "cell_type": "markdown",
      "metadata": {
        "id": "NBEyQjAHy4cX",
        "colab_type": "text"
      },
      "source": [
        "### Computing the basic statistics of an image"
      ]
    },
    {
      "cell_type": "code",
      "metadata": {
        "id": "8I1PudB6y4cX",
        "colab_type": "code",
        "colab": {}
      },
      "source": [
        "s = stat.Stat(im)\n",
        "print(s.extrema) # maximum and minimum pixel values for each channel R, G, B\n",
        "print(s.count)\n",
        "print(s.mean)\n",
        "print(s.median)\n",
        "print(s.stddev)"
      ],
      "execution_count": 0,
      "outputs": []
    },
    {
      "cell_type": "markdown",
      "metadata": {
        "id": "LAm1Q3Jey4cZ",
        "colab_type": "text"
      },
      "source": [
        "### Plotting the histograms of pixel values for the RGB channels of an image"
      ]
    },
    {
      "cell_type": "code",
      "metadata": {
        "id": "s6BJusnBy4ca",
        "colab_type": "code",
        "colab": {}
      },
      "source": [
        "pl = im.histogram()\n",
        "plt.bar(range(256), pl[:256], color='r', alpha=0.5)\n",
        "plt.bar(range(256), pl[256:2*256], color='g', alpha=0.4)\n",
        "plt.bar(range(256), pl[2*256:], color='b', alpha=0.3)\n",
        "plt.show()"
      ],
      "execution_count": 0,
      "outputs": []
    },
    {
      "cell_type": "markdown",
      "metadata": {
        "id": "Mw6OVBeYy4cb",
        "colab_type": "text"
      },
      "source": [
        "### Separating the RGB channels of an image"
      ]
    },
    {
      "cell_type": "code",
      "metadata": {
        "id": "pichjDNAy4cb",
        "colab_type": "code",
        "colab": {}
      },
      "source": [
        "im = Image.open(\"../images/parrot.png\")\n",
        "ch_r, ch_g, ch_b = im.split() # split the RGB image into 3 channels: R, G and B\n",
        "# we shall use matplotlib to display the channels\n",
        "plt.figure(figsize=(18,6))\n",
        "plt.subplot(1,3,1); plt.imshow(ch_r, cmap=plt.cm.Reds); plt.axis('off')\n",
        "plt.subplot(1,3,2); plt.imshow(ch_g, cmap=plt.cm.Greens); plt.axis('off')\n",
        "plt.subplot(1,3,3); plt.imshow(ch_b, cmap=plt.cm.Blues); plt.axis('off')\n",
        "plt.tight_layout()\n",
        "plt.show() # show the R, G, B channels"
      ],
      "execution_count": 0,
      "outputs": []
    },
    {
      "cell_type": "markdown",
      "metadata": {
        "id": "B_ox1AjEy4cd",
        "colab_type": "text"
      },
      "source": [
        "### Combining multiple channels of an image"
      ]
    },
    {
      "cell_type": "code",
      "metadata": {
        "id": "Vo24hcdCy4cd",
        "colab_type": "code",
        "colab": {}
      },
      "source": [
        "im = Image.merge('RGB', (ch_b, ch_g, ch_r)) # swap the red and blue channels obtained last time with split()\n",
        "im"
      ],
      "execution_count": 0,
      "outputs": []
    },
    {
      "cell_type": "markdown",
      "metadata": {
        "id": "dK5BASQfy4cg",
        "colab_type": "text"
      },
      "source": [
        "### α-blending two images"
      ]
    },
    {
      "cell_type": "code",
      "metadata": {
        "id": "Zc19Dhm-y4cg",
        "colab_type": "code",
        "colab": {}
      },
      "source": [
        "im1 = Image.open(\"../images/parrot.png\")\n",
        "im2 = Image.open(\"../images/hill.png\")\n",
        "im1 = im1.convert('RGBA') # two images have different modes, must be converted to the same mode\n",
        "im2 = im2.resize((im1.width, im1.height), Image.BILINEAR) # two images have different sizes, must be converted to the same size\n",
        "im = Image.blend(im1, im2, alpha=0.5)\n",
        "im"
      ],
      "execution_count": 0,
      "outputs": []
    },
    {
      "cell_type": "markdown",
      "metadata": {
        "id": "PNnzUowUy4ci",
        "colab_type": "text"
      },
      "source": [
        "### Superimposing two images"
      ]
    },
    {
      "cell_type": "code",
      "metadata": {
        "id": "5v10Tttyy4ci",
        "colab_type": "code",
        "colab": {}
      },
      "source": [
        "im1 = Image.open(\"../images/parrot.png\")\n",
        "im2 = Image.open(\"../images/hill.png\").convert('RGB').resize((im1.width, im1.height))\n",
        "multiply(im1, im2)"
      ],
      "execution_count": 0,
      "outputs": []
    },
    {
      "cell_type": "markdown",
      "metadata": {
        "id": "TwMmpnZCy4cl",
        "colab_type": "text"
      },
      "source": [
        "### Adding two images"
      ]
    },
    {
      "cell_type": "code",
      "metadata": {
        "id": "6gWKtcbYy4cl",
        "colab_type": "code",
        "colab": {}
      },
      "source": [
        "add(im1, im2)"
      ],
      "execution_count": 0,
      "outputs": []
    },
    {
      "cell_type": "markdown",
      "metadata": {
        "id": "kPbA7risy4cn",
        "colab_type": "text"
      },
      "source": [
        "### Computing the difference between two images"
      ]
    },
    {
      "cell_type": "code",
      "metadata": {
        "id": "2V9XZde5y4cp",
        "colab_type": "code",
        "colab": {}
      },
      "source": [
        "from PIL.ImageChops import subtract, multiply, screen, difference, add\n",
        "im1 = Image.open(\"../images/goal1.png\") # load two consecutive frame images from the video\n",
        "im2 = Image.open(\"../images/goal2.png\")\n",
        "im = difference(im1, im2)\n",
        "plt.figure(figsize=(20,25))\n",
        "im.save(\"../images/goal_diff.png\")\n",
        "plt.subplot(311)\n",
        "plt.imshow(im1)\n",
        "plt.axis('off')\n",
        "plt.subplot(312)\n",
        "plt.imshow(im2)\n",
        "plt.axis('off')\n",
        "plt.subplot(313)\n",
        "plt.imshow(im), plt.axis('off')\n",
        "plt.show()"
      ],
      "execution_count": 0,
      "outputs": []
    },
    {
      "cell_type": "markdown",
      "metadata": {
        "id": "F_Rqf7Ddy4ct",
        "colab_type": "text"
      },
      "source": [
        "### Inverse warping and geometric transformation using the warp() function"
      ]
    },
    {
      "cell_type": "code",
      "metadata": {
        "id": "Xh3DWQrsy4ct",
        "colab_type": "code",
        "colab": {}
      },
      "source": [
        "im = imread(\"../images/parrot.png\")\n",
        "tform = SimilarityTransform(scale=0.9,\n",
        "rotation=np.pi/4,translation=(im.shape[0]/2, -100))\n",
        "warped = warp(im, tform)\n",
        "import matplotlib.pyplot as plt\n",
        "plt.imshow(warped), plt.axis('off'), plt.show()"
      ],
      "execution_count": 0,
      "outputs": []
    },
    {
      "cell_type": "markdown",
      "metadata": {
        "id": "btiV0lcPy4cx",
        "colab_type": "text"
      },
      "source": [
        "### Applying the swirl transform"
      ]
    },
    {
      "cell_type": "code",
      "metadata": {
        "id": "K0XNzduey4cx",
        "colab_type": "code",
        "colab": {}
      },
      "source": [
        "im = imread(\"../images/parrot.png\")\n",
        "swirled = swirl(im, rotation=0, strength=15, radius=200)\n",
        "plt.imshow(swirled)\n",
        "plt.axis('off')\n",
        "plt.show()"
      ],
      "execution_count": 0,
      "outputs": []
    },
    {
      "cell_type": "markdown",
      "metadata": {
        "id": "p1SRa93vy4cz",
        "colab_type": "text"
      },
      "source": [
        "### Adding random Gaussian noise to images"
      ]
    },
    {
      "cell_type": "code",
      "metadata": {
        "id": "VunJu5bly4cz",
        "colab_type": "code",
        "colab": {}
      },
      "source": [
        "im = img_as_float(imread(\"../images/parrot.png\"))\n",
        "plt.figure(figsize=(15,12))\n",
        "sigmas = [0.1, 0.25, 0.5, 1]\n",
        "for i in range(4):\n",
        "    noisy = random_noise(im, var=sigmas[i]**2)\n",
        "    plt.subplot(2,2,i+1)\n",
        "    plt.imshow(noisy)\n",
        "    plt.axis('off')\n",
        "plt.title('Gaussian noise with sigma=' + str(sigmas[i]), size=20)\n",
        "plt.tight_layout()\n",
        "plt.show()"
      ],
      "execution_count": 0,
      "outputs": []
    },
    {
      "cell_type": "markdown",
      "metadata": {
        "id": "tllZ66bey4c1",
        "colab_type": "text"
      },
      "source": [
        "### Drawing contour lines for an image"
      ]
    },
    {
      "cell_type": "code",
      "metadata": {
        "id": "-UgHeSSvy4c1",
        "colab_type": "code",
        "colab": {}
      },
      "source": [
        "from skimage.color import rgb2gray\n",
        "im = rgb2gray(imread(\"../images/einstein.jpg\")) # read the image from disk as a numpy ndarray\n",
        "plt.figure(figsize=(20,8))\n",
        "plt.subplot(131), plt.imshow(im, cmap='gray'), plt.title('Original Image', size=20)\n",
        "plt.subplot(132), plt.contour(np.flipud(im), colors='k',\n",
        "levels=np.logspace(-15, 15, 100))\n",
        "plt.title('Image Contour Lines', size=20)\n",
        "plt.subplot(133), plt.title('Image Filled Contour', size=20),\n",
        "plt.contourf(np.flipud(im), cmap='inferno')\n",
        "plt.show()"
      ],
      "execution_count": 0,
      "outputs": []
    },
    {
      "cell_type": "code",
      "metadata": {
        "id": "mYs8EC24y4c4",
        "colab_type": "code",
        "colab": {}
      },
      "source": [
        ""
      ],
      "execution_count": 0,
      "outputs": []
    }
  ]
}