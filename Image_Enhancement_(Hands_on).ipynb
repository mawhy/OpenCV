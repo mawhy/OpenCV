{
  "nbformat": 4,
  "nbformat_minor": 0,
  "metadata": {
    "kernelspec": {
      "display_name": "Python 3",
      "language": "python",
      "name": "python3"
    },
    "language_info": {
      "codemirror_mode": {
        "name": "ipython",
        "version": 3
      },
      "file_extension": ".py",
      "mimetype": "text/x-python",
      "name": "python",
      "nbconvert_exporter": "python",
      "pygments_lexer": "ipython3",
      "version": "3.5.4"
    },
    "colab": {
      "name": "Image Enhancement (Hands-on)",
      "provenance": [],
      "collapsed_sections": [],
      "include_colab_link": true
    }
  },
  "cells": [
    {
      "cell_type": "markdown",
      "metadata": {
        "id": "view-in-github",
        "colab_type": "text"
      },
      "source": [
        "<a href=\"https://colab.research.google.com/github/mawhy/OpenCV/blob/master/Image_Enhancement_(Hands_on).ipynb\" target=\"_parent\"><img src=\"https://colab.research.google.com/assets/colab-badge.svg\" alt=\"Open In Colab\"/></a>"
      ]
    },
    {
      "cell_type": "markdown",
      "metadata": {
        "id": "3I9JVkKDh7hf",
        "colab_type": "text"
      },
      "source": [
        "# Hands-on Image Processing with Python\n",
        "## Image Enhancement"
      ]
    },
    {
      "cell_type": "markdown",
      "metadata": {
        "id": "sw6c_7NOh7hg",
        "colab_type": "text"
      },
      "source": [
        ""
      ]
    },
    {
      "cell_type": "code",
      "metadata": {
        "id": "T--tcbEYiMT4",
        "colab_type": "code",
        "colab": {}
      },
      "source": [
        "!git clone https://github.com/PacktPublishing/Hands-On-Image-Processing-with-Python.git\n",
        "%cp -av \"/content/Hands-On-Image-Processing-with-Python/images/\" \"/\"\n",
        "%rm -rf \"/content/Hands-On-Image-Processing-with-Python\""
      ],
      "execution_count": 0,
      "outputs": []
    },
    {
      "cell_type": "markdown",
      "metadata": {
        "id": "-6O_uXn4h7hh",
        "colab_type": "text"
      },
      "source": [
        "### Import libraries"
      ]
    },
    {
      "cell_type": "code",
      "metadata": {
        "id": "I7HSAiCTh7hh",
        "colab_type": "code",
        "colab": {}
      },
      "source": [
        "% matplotlib inline\n",
        "import numpy as np\n",
        "from skimage import data, img_as_float, img_as_ubyte, exposure, io, color\n",
        "from skimage.io import imread\n",
        "from skimage.exposure import cumulative_distribution\n",
        "from skimage.restoration import denoise_bilateral, denoise_nl_means, estimate_sigma\n",
        "from skimage.measure import compare_psnr\n",
        "from skimage.util import random_noise\n",
        "from skimage.color import rgb2gray\n",
        "from PIL import Image, ImageEnhance, ImageFilter\n",
        "from scipy import ndimage, misc\n",
        "import matplotlib.pylab as pylab"
      ],
      "execution_count": 0,
      "outputs": []
    },
    {
      "cell_type": "markdown",
      "metadata": {
        "id": "FOtvZhhEh7hl",
        "colab_type": "text"
      },
      "source": [
        "### Log transform"
      ]
    },
    {
      "cell_type": "code",
      "metadata": {
        "id": "kWBjx_Fwh7hl",
        "colab_type": "code",
        "colab": {}
      },
      "source": [
        "def plot_image(image, title=''):\n",
        "    pylab.title(title, size=20), pylab.imshow(image)\n",
        "    pylab.axis('off') # comment this line if you want axis ticks\n",
        "    \n",
        "def plot_hist(r, g, b, title=''):\n",
        "    r, g, b = img_as_ubyte(r), img_as_ubyte(g), img_as_ubyte(b)\n",
        "    pylab.hist(np.array(r).ravel(), bins=256, range=(0, 256), color='r', alpha=0.5)\n",
        "    pylab.hist(np.array(g).ravel(), bins=256, range=(0, 256), color='g', alpha=0.5)\n",
        "    pylab.hist(np.array(b).ravel(), bins=256, range=(0, 256), color='b', alpha=0.5)\n",
        "    pylab.xlabel('pixel value', size=20), pylab.ylabel('frequency', size=20)\n",
        "    pylab.title(title, size=20)\n",
        "    \n",
        "im = Image.open(\"../images/parrot.png\")\n",
        "im_r, im_g, im_b = im.split()\n",
        "pylab.style.use('ggplot')\n",
        "pylab.figure(figsize=(15,5))\n",
        "pylab.subplot(121), plot_image(im, 'original image')\n",
        "pylab.subplot(122), plot_hist(im_r, im_g, im_b,'histogram for RGB channels')\n",
        "pylab.show()"
      ],
      "execution_count": 0,
      "outputs": []
    },
    {
      "cell_type": "code",
      "metadata": {
        "id": "4Qfkynaih7hp",
        "colab_type": "code",
        "colab": {}
      },
      "source": [
        "im = im.point(lambda i: 255*np.log(1+i/255))\n",
        "im_r, im_g, im_b = im.split()\n",
        "pylab.style.use('ggplot')\n",
        "pylab.figure(figsize=(15,5))\n",
        "pylab.subplot(121), plot_image(im, 'image after log transform')\n",
        "pylab.subplot(122), plot_hist(im_r, im_g, im_b, 'histogram of RGB channels log transform')\n",
        "pylab.show()"
      ],
      "execution_count": 0,
      "outputs": []
    },
    {
      "cell_type": "markdown",
      "metadata": {
        "id": "kF3BFODlh7ht",
        "colab_type": "text"
      },
      "source": [
        "### Power-law transform"
      ]
    },
    {
      "cell_type": "code",
      "metadata": {
        "id": "wzj6rN5Wh7hu",
        "colab_type": "code",
        "colab": {}
      },
      "source": [
        "im = img_as_float(imread('../images/earthfromsky.jpg'))\n",
        "gamma = 5\n",
        "im1 = im**gamma\n",
        "pylab.style.use('ggplot')\n",
        "pylab.figure(figsize=(15,5))\n",
        "pylab.subplot(121), plot_hist(im[...,0], im[...,1], im[...,2], 'histogram for RGB channels (input)')\n",
        "pylab.subplot(122), plot_hist(im1[...,0], im1[...,1], im1[...,2], 'histogram for RGB channels (output)')\n",
        "pylab.show()"
      ],
      "execution_count": 0,
      "outputs": []
    },
    {
      "cell_type": "markdown",
      "metadata": {
        "id": "vQMH04_3h7hx",
        "colab_type": "text"
      },
      "source": [
        "### Contrast stretching with PIL as a point operation"
      ]
    },
    {
      "cell_type": "code",
      "metadata": {
        "id": "E3AGIufBh7hy",
        "colab_type": "code",
        "colab": {}
      },
      "source": [
        "im = Image.open('../images/cheetah.png')\n",
        "im_r, im_g, im_b, _ = im.split()\n",
        "pylab.style.use('ggplot')\n",
        "pylab.figure(figsize=(15,5))\n",
        "pylab.subplot(121)\n",
        "plot_image(im)\n",
        "pylab.subplot(122)\n",
        "plot_hist(im_r, im_g, im_b)\n",
        "pylab.show()"
      ],
      "execution_count": 0,
      "outputs": []
    },
    {
      "cell_type": "code",
      "metadata": {
        "id": "Qbx-3GrMh7h1",
        "colab_type": "code",
        "colab": {}
      },
      "source": [
        "def contrast(c):\n",
        "    return 0 if c < 70 else (255 if c > 150 else (255*c - 22950) / 48) # piece-wise linear function\n",
        "\n",
        "im1 = im.point(contrast)\n",
        "im_r, im_g, im_b, _ = im1.split()\n",
        "pylab.style.use('ggplot')\n",
        "pylab.figure(figsize=(15,5))\n",
        "pylab.subplot(121)\n",
        "plot_image(im1)\n",
        "pylab.subplot(122)\n",
        "plot_hist(im_r, im_g, im_b)\n",
        "pylab.yscale('log',basey=10)\n",
        "pylab.show()"
      ],
      "execution_count": 0,
      "outputs": []
    },
    {
      "cell_type": "markdown",
      "metadata": {
        "id": "M3wnbStAh7h4",
        "colab_type": "text"
      },
      "source": [
        "### Contrast stretching Using the PIL ImageEnhance module"
      ]
    },
    {
      "cell_type": "code",
      "metadata": {
        "id": "dFmaDTvRh7h5",
        "colab_type": "code",
        "colab": {}
      },
      "source": [
        "contrast = ImageEnhance.Contrast(im)\n",
        "im1 = np.reshape(np.array(contrast.enhance(2).getdata()).astype(np.uint8), (im.height, im.width, 4)) \n",
        "pylab.style.use('ggplot')\n",
        "pylab.figure(figsize=(15,5))\n",
        "pylab.subplot(121), plot_image(im1)\n",
        "pylab.subplot(122), plot_hist(im1[...,0], im1[...,1], im1[...,2]), pylab.yscale('log',basey=10)\n",
        "pylab.show()"
      ],
      "execution_count": 0,
      "outputs": []
    },
    {
      "cell_type": "markdown",
      "metadata": {
        "id": "cK--B5gCh7h7",
        "colab_type": "text"
      },
      "source": [
        "### Thresholding With a fixed threshold"
      ]
    },
    {
      "cell_type": "code",
      "metadata": {
        "id": "khkkw6Myh7h8",
        "colab_type": "code",
        "colab": {}
      },
      "source": [
        "im = Image.open('../images/swans.jpg').convert('L')\n",
        "pylab.hist(np.array(im).ravel(), bins=256, range=(0, 256), color='g')\n",
        "pylab.xlabel('Pixel values'), pylab.ylabel('Frequency'),\n",
        "pylab.title('Histogram of pixel values')\n",
        "pylab.show()\n",
        "pylab.figure(figsize=(12,18))\n",
        "pylab.gray()\n",
        "pylab.subplot(221), plot_image(im, 'original image'), pylab.axis('off')\n",
        "th = [0, 50, 100, 150, 200]\n",
        "for i in range(2, 5):\n",
        "    im1 = im.point(lambda x: x > th[i])\n",
        "    pylab.subplot(2,2,i), plot_image(im1, 'binary image with threshold=' + str(th[i]))\n",
        "pylab.show()"
      ],
      "execution_count": 0,
      "outputs": []
    },
    {
      "cell_type": "markdown",
      "metadata": {
        "id": "BkLYvTVWh7h-",
        "colab_type": "text"
      },
      "source": [
        "### Half-toning"
      ]
    },
    {
      "cell_type": "code",
      "metadata": {
        "id": "tyF8TGm5h7h-",
        "colab_type": "code",
        "colab": {}
      },
      "source": [
        "im = Image.open('../images/swans.jpg').convert('L')\n",
        "im = Image.fromarray(np.clip(im + np.random.randint(-128, 128, (im.height, im.width)), 0, 255).astype(np.uint8))\n",
        "pylab.figure(figsize=(12,18))\n",
        "pylab.subplot(221), plot_image(im, 'original image (with noise)')\n",
        "th = [0, 50, 100, 150, 200]\n",
        "for i in range(2, 5):\n",
        "    im1 = im.point(lambda x: x > th[i])\n",
        "    pylab.subplot(2,2,i), plot_image(im1, 'binary image with threshold=' +   str(th[i]))\n",
        "pylab.show()"
      ],
      "execution_count": 0,
      "outputs": []
    },
    {
      "cell_type": "markdown",
      "metadata": {
        "id": "KOzsSsK8h7iB",
        "colab_type": "text"
      },
      "source": [
        "### Contrast stretching and histogram equalization with scikit-image"
      ]
    },
    {
      "cell_type": "code",
      "metadata": {
        "id": "otmnjiSDh7iC",
        "colab_type": "code",
        "colab": {}
      },
      "source": [
        "img = rgb2gray(imread('../images/earthfromsky.jpg'))\n",
        "# histogram equalization\n",
        "img_eq = exposure.equalize_hist(img)\n",
        "# adaptive histogram equalization\n",
        "img_adapteq = exposure.equalize_adapthist(img, clip_limit=0.03)\n",
        "pylab.gray()\n",
        "images = [img, img_eq, img_adapteq]\n",
        "titles = ['original input (earth from sky)', 'after histogram equalization', 'after adaptive histogram equalization']\n",
        "for i in range(3):\n",
        "    pylab.figure(figsize=(20,10)), plot_image(images[i], titles[i])\n",
        "pylab.figure(figsize=(15,5))\n",
        "for i in range(3):\n",
        "    pylab.subplot(1,3,i+1), pylab.hist(images[i].ravel(), color='g'), pylab.title(titles[i], size=15)\n",
        "pylab.show()"
      ],
      "execution_count": 0,
      "outputs": []
    },
    {
      "cell_type": "code",
      "metadata": {
        "id": "ZwW-HtZuh7iF",
        "colab_type": "code",
        "colab": {}
      },
      "source": [
        "import matplotlib\n",
        "matplotlib.rcParams['font.size'] = 8\n",
        "def plot_image_and_hist(image, axes, bins=256):\n",
        "    image = img_as_float(image)\n",
        "    axes_image, axes_hist = axes\n",
        "    axes_cdf = axes_hist.twinx()\n",
        "    axes_image.imshow(image, cmap=pylab.cm.gray)\n",
        "    axes_image.set_axis_off()\n",
        "    axes_hist.hist(image.ravel(), bins=bins, histtype='step', color='black')\n",
        "    axes_hist.set_xlim(0, 1)\n",
        "    axes_hist.set_xlabel('Pixel intensity', size=15)\n",
        "    axes_hist.ticklabel_format(axis='y', style='scientific', scilimits=(0, 0))\n",
        "    axes_hist.set_yticks([])\n",
        "    image_cdf, bins = exposure.cumulative_distribution(image, bins)\n",
        "    axes_cdf.plot(bins, image_cdf, 'r')\n",
        "    axes_cdf.set_yticks([])\n",
        "    return axes_image, axes_hist, axes_cdf\n",
        "\n",
        "im = io.imread('../images/beans_g.png')\n",
        "# contrast stretching\n",
        "im_rescale = exposure.rescale_intensity(im, in_range=(0, 100), out_range=(0, 255))\n",
        "im_eq = exposure.equalize_hist(im) # histogram equalization\n",
        "im_adapteq = exposure.equalize_adapthist(im, clip_limit=0.03) # adaptive histogram equalization\n",
        "\n",
        "fig = pylab.figure(figsize=(15, 7))\n",
        "axes = np.zeros((2, 4), dtype = np.object)\n",
        "axes[0, 0] = fig.add_subplot(2, 4, 1)\n",
        "for i in range(1, 4):\n",
        "    axes[0, i] = fig.add_subplot(2, 4, 1+i, sharex=axes[0,0], sharey=axes[0,0])\n",
        "for i in range(0, 4):\n",
        "    axes[1, i] = fig.add_subplot(2, 4, 5+i)\n",
        "axes_image, axes_hist, axes_cdf = plot_image_and_hist(im, axes[:, 0])\n",
        "axes_image.set_title('Low contrast image', size=20)\n",
        "y_min, y_max = axes_hist.get_ylim()\n",
        "axes_hist.set_ylabel('Number of pixels', size=20)\n",
        "axes_hist.set_yticks(np.linspace(0, y_max, 5))\n",
        "axes_image, axes_hist, axes_cdf = plot_image_and_hist(im_rescale, axes[:,1])\n",
        "axes_image.set_title('Contrast stretching', size=20)\n",
        "axes_image, axes_hist, axes_cdf = plot_image_and_hist(im_eq, axes[:, 2])\n",
        "axes_image.set_title('Histogram equalization', size=20)\n",
        "axes_image, axes_hist, axes_cdf = plot_image_and_hist(im_adapteq, axes[:,3])\n",
        "axes_image.set_title('Adaptive equalization', size=20)\n",
        "axes_cdf.set_ylabel('Fraction of total intensity', size=20)\n",
        "axes_cdf.set_yticks(np.linspace(0, 1, 5))\n",
        "fig.tight_layout()\n",
        "pylab.show()"
      ],
      "execution_count": 0,
      "outputs": []
    },
    {
      "cell_type": "markdown",
      "metadata": {
        "collapsed": true,
        "id": "IomWtN_8h7iI",
        "colab_type": "text"
      },
      "source": [
        "### Histogram Matching"
      ]
    },
    {
      "cell_type": "code",
      "metadata": {
        "id": "dfkft06Dh7iI",
        "colab_type": "code",
        "colab": {}
      },
      "source": [
        "def cdf(im):\n",
        "    '''\n",
        "    computes the CDF of an image im as 2D numpy ndarray\n",
        "    '''\n",
        "    c, b = cumulative_distribution(im)\n",
        "    # pad the beginning and ending pixels and their CDF values\n",
        "    c = np.insert(c, 0, [0]*b[0])\n",
        "    c = np.append(c, [1]*(255-b[-1]))\n",
        "    return c\n",
        "\n",
        "def hist_matching(c, c_t, im):\n",
        "    '''\n",
        "    c: CDF of input image computed with the function cdf()\n",
        "    c_t: CDF of template image computed with the function cdf()\n",
        "    im: input image as 2D numpy ndarray\n",
        "    returns the modified pixel values for the input image\n",
        "    '''\n",
        "    pixels = np.arange(256)\n",
        "    # find closest pixel-matches corresponding to the CDF of the input image, given the value of the CDF H of\n",
        "    # the template image at the corresponding pixels, s.t. c_t = H(pixels) <=> pixels = H-1(c_t)\n",
        "    new_pixels = np.interp(c, c_t, pixels)\n",
        "    im = (np.reshape(new_pixels[im.ravel()], im.shape)).astype(np.uint8)\n",
        "    return im\n",
        "\n",
        "pylab.gray()\n",
        "im = (rgb2gray(imread('../images/beans_g.png'))*255).astype(np.uint8)\n",
        "im_t = (rgb2gray(imread('../images/lena_g.png'))*255).astype(np.uint8)\n",
        "pylab.figure(figsize=(20,12))\n",
        "pylab.subplot(2,3,1), plot_image(im, 'Input image')\n",
        "pylab.subplot(2,3,2), plot_image(im_t, 'Template image')\n",
        "c = cdf(im)\n",
        "c_t = cdf(im_t)\n",
        "pylab.subplot(2,3,3)\n",
        "p = np.arange(256)\n",
        "pylab.plot(p, c, 'r.-', label='input')\n",
        "pylab.plot(p, c_t, 'b.-', label='template')\n",
        "pylab.legend(prop={'size': 15})\n",
        "pylab.title('CDF', size=20)\n",
        "im = hist_matching(c, c_t, im)\n",
        "pylab.subplot(2,3,4), plot_image(im, 'Output image with Hist. Matching')\n",
        "c1 = cdf(im)\n",
        "pylab.subplot(2,3,5)\n",
        "pylab.plot(np.arange(256), c, 'r.-', label='input')\n",
        "pylab.plot(np.arange(256), c_t, 'b.-', label='template')\n",
        "pylab.plot(np.arange(256), c1, 'g.-', label='output')\n",
        "pylab.legend(prop={'size': 15})\n",
        "pylab.title('CDF', size=20)\n",
        "pylab.show()"
      ],
      "execution_count": 0,
      "outputs": []
    },
    {
      "cell_type": "markdown",
      "metadata": {
        "id": "mI4nG5eLh7iK",
        "colab_type": "text"
      },
      "source": [
        "### Smoothing with ImageFilter.BLUR"
      ]
    },
    {
      "cell_type": "code",
      "metadata": {
        "id": "knD1LX_Qh7iL",
        "colab_type": "code",
        "colab": {}
      },
      "source": [
        "i = 1\n",
        "pylab.figure(figsize=(10,25))\n",
        "for prop_noise in np.linspace(0.05,0.3,3):\n",
        "    im = Image.open('../images/mandrill.jpg')\n",
        "    # choose 5000 random locations inside image\n",
        "    n = int(im.width * im.height * prop_noise)\n",
        "    x, y = np.random.randint(0, im.width, n), np.random.randint(0, im.height, n)\n",
        "    for (x,y) in zip(x,y):\n",
        "        im.putpixel((x, y), ((0,0,0) if np.random.rand() < 0.5 else (255,255,255))) # generate salt-and-pepper noise\n",
        "    im.save('../images/mandrill_spnoise_' + str(prop_noise) + '.jpg')\n",
        "    pylab.subplot(6,2,i), plot_image(im, 'Original Image with ' +\n",
        "    str(int(100*prop_noise)) + '% added noise')\n",
        "    i += 1\n",
        "    im1 = im.filter(ImageFilter.BLUR)\n",
        "    pylab.subplot(6,2,i), plot_image(im1, 'Blurred Image')\n",
        "    i += 1\n",
        "pylab.show()"
      ],
      "execution_count": 0,
      "outputs": []
    },
    {
      "cell_type": "markdown",
      "metadata": {
        "id": "RTlBj0oeh7iN",
        "colab_type": "text"
      },
      "source": [
        "### Smoothing by averaging with the box blur kernel"
      ]
    },
    {
      "cell_type": "code",
      "metadata": {
        "id": "qJwCd_Gdh7iO",
        "colab_type": "code",
        "colab": {}
      },
      "source": [
        "im = Image.open('../images/mandrill_spnoise_0.1.jpg')\n",
        "pylab.figure(figsize=(20,7))\n",
        "pylab.subplot(1,3,1), pylab.imshow(im), pylab.title('Original Image', size=30), pylab.axis('off')\n",
        "for n in [3,5]:\n",
        "    box_blur_kernel = np.reshape(np.ones(n*n),(n,n)) / (n*n)\n",
        "    im1 = im.filter(ImageFilter.Kernel((n,n), box_blur_kernel.flatten()))\n",
        "    pylab.subplot(1,3,(2 if n==3 else 3))\n",
        "    plot_image(im1, 'Blurred with kernel size = ' + str(n) + 'x' + str(n))\n",
        "pylab.suptitle('PIL Mean Filter (Box Blur) with different Kernel size',\n",
        "size=30)\n",
        "pylab.show()"
      ],
      "execution_count": 0,
      "outputs": []
    },
    {
      "cell_type": "markdown",
      "metadata": {
        "id": "1NgnUX-4h7iR",
        "colab_type": "text"
      },
      "source": [
        "### Smoothing with the Gaussian blur filter"
      ]
    },
    {
      "cell_type": "code",
      "metadata": {
        "id": "A7irc4qbh7iS",
        "colab_type": "code",
        "colab": {}
      },
      "source": [
        "im = Image.open('../images/mandrill_spnoise_0.2.jpg')\n",
        "pylab.figure(figsize=(20,6))\n",
        "i = 1\n",
        "for radius in range(1, 4):\n",
        "    im1 = im.filter(ImageFilter.GaussianBlur(radius))\n",
        "    pylab.subplot(1,3,i), plot_image(im1, 'radius = ' +\n",
        "    str(round(radius,2)))\n",
        "    i += 1\n",
        "pylab.suptitle('PIL Gaussian Blur with different Radius', size=20)\n",
        "pylab.show()"
      ],
      "execution_count": 0,
      "outputs": []
    },
    {
      "cell_type": "markdown",
      "metadata": {
        "id": "_WSdZCt8h7iU",
        "colab_type": "text"
      },
      "source": [
        "### Comparing smoothing with box and Gaussian kernels using SciPy ndimage"
      ]
    },
    {
      "cell_type": "code",
      "metadata": {
        "id": "B0ZkLoRBh7iV",
        "colab_type": "code",
        "colab": {}
      },
      "source": [
        "from scipy import misc, ndimage\n",
        "import matplotlib.pylab as pylab\n",
        "im = misc.imread('../images/mandrill_spnoise_0.1.jpg')\n",
        "k = 7 # 7x7 kernel\n",
        "im_box = ndimage.uniform_filter(im, size=(k,k,1))\n",
        "s = 2 # sigma value\n",
        "t = (((k - 1)/2)-0.5)/s # truncate parameter value for a kxk gaussian kernel with sigma s\n",
        "im_gaussian = ndimage.gaussian_filter(im, sigma=(s,s,0), truncate=t)\n",
        "fig = pylab.figure(figsize=(30,10))\n",
        "pylab.subplot(131), plot_image(im, 'original image')\n",
        "pylab.subplot(132), plot_image(im_box, 'with the box filter')\n",
        "pylab.subplot(133), plot_image(im_gaussian, 'with the gaussian filter')\n",
        "pylab.show()"
      ],
      "execution_count": 0,
      "outputs": []
    },
    {
      "cell_type": "markdown",
      "metadata": {
        "id": "eg9phJ1qh7iX",
        "colab_type": "text"
      },
      "source": [
        "### Using the median filter"
      ]
    },
    {
      "cell_type": "code",
      "metadata": {
        "id": "A9qr3QVkh7iX",
        "colab_type": "code",
        "colab": {}
      },
      "source": [
        "i = 1\n",
        "pylab.figure(figsize=(25,35))\n",
        "for prop_noise in np.linspace(0.05,0.3,3):\n",
        "    im = Image.open('../images/mandrill.jpg')\n",
        "    # choose 5000 random locations inside image\n",
        "    n = int(im.width * im.height * prop_noise)\n",
        "    x, y = np.random.randint(0, im.width, n), np.random.randint(0, im.height, n)\n",
        "    for (x,y) in zip(x,y):\n",
        "        im.putpixel((x, y), ((0,0,0) if np.random.rand() < 0.5 else (255,255,255))) # geenrate salt-and-pepper noise\n",
        "    im.save('../images/mandrill_spnoise_' + str(prop_noise) + '.jpg')\n",
        "    pylab.subplot(6,4,i)\n",
        "    plot_image(im, 'Original Image with ' + str(int(100*prop_noise)) + '%added noise')\n",
        "    i += 1\n",
        "    for sz in [3,7,11]:\n",
        "        im1 = im.filter(ImageFilter.MedianFilter(size=sz))\n",
        "        pylab.subplot(6,4,i), plot_image(im1, 'Output (Median Filter size=' +  str(sz) + ')')\n",
        "        i += 1\n",
        "pylab.show()"
      ],
      "execution_count": 0,
      "outputs": []
    },
    {
      "cell_type": "markdown",
      "metadata": {
        "id": "KYvkOaWSh7ia",
        "colab_type": "text"
      },
      "source": [
        "### Using max and min filter"
      ]
    },
    {
      "cell_type": "code",
      "metadata": {
        "id": "Ypq_lTQqh7ia",
        "colab_type": "code",
        "colab": {}
      },
      "source": [
        "im = Image.open('../images/mandrill_spnoise_0.1.jpg')\n",
        "pylab.figure(figsize=(30,10))\n",
        "sz = 3\n",
        "pylab.subplot(1,3,1)\n",
        "plot_image(im, 'Original Image with 10% added noise')\n",
        "im1 = im.filter(ImageFilter.MaxFilter(size=sz))\n",
        "pylab.subplot(1,3,2), plot_image(im1, 'Output (Max Filter size=' + str(sz)+ ')')\n",
        "im1 = im1.filter(ImageFilter.MinFilter(size=sz))\n",
        "pylab.subplot(1,3,3), plot_image(im1, 'Output (Min Filter size=' + str(sz)+ ')')\n",
        "pylab.show()"
      ],
      "execution_count": 0,
      "outputs": []
    },
    {
      "cell_type": "markdown",
      "metadata": {
        "id": "CS_v51-dh7ic",
        "colab_type": "text"
      },
      "source": [
        "### Using the bilateral filter"
      ]
    },
    {
      "cell_type": "code",
      "metadata": {
        "id": "okUwTO96h7id",
        "colab_type": "code",
        "colab": {}
      },
      "source": [
        "im = color.rgb2gray(img_as_float(io.imread('../images/mountain.png')))\n",
        "sigma = 0.155\n",
        "noisy = random_noise(im, var=sigma**2)\n",
        "pylab.imshow(noisy)"
      ],
      "execution_count": 0,
      "outputs": []
    },
    {
      "cell_type": "code",
      "metadata": {
        "id": "2VAH-UhDh7if",
        "colab_type": "code",
        "colab": {}
      },
      "source": [
        "pylab.figure(figsize=(20,15))\n",
        "i = 1\n",
        "for sigma_sp in [5, 10, 20]:\n",
        "    for sigma_col in [0.1, 0.25, 5]:\n",
        "        pylab.subplot(3,3,i)\n",
        "        pylab.imshow(denoise_bilateral(noisy, sigma_color=sigma_col,\n",
        "        sigma_spatial=sigma_sp, multichannel=False))\n",
        "        pylab.title(r'$\\sigma_r=$' + str(sigma_col) + r', $\\sigma_s=$' + str(sigma_sp), size=20)\n",
        "        i += 1\n",
        "pylab.show()"
      ],
      "execution_count": 0,
      "outputs": []
    },
    {
      "cell_type": "markdown",
      "metadata": {
        "id": "6Ctln35bh7ih",
        "colab_type": "text"
      },
      "source": [
        "### Using non-local means"
      ]
    },
    {
      "cell_type": "code",
      "metadata": {
        "id": "KyWGdGxBh7ii",
        "colab_type": "code",
        "colab": {}
      },
      "source": [
        "def plot_image_axes(image, axes, title):\n",
        "    axes.imshow(image)\n",
        "    axes.axis('off')\n",
        "    axes.set_title(title, size=20)\n",
        "    \n",
        "parrot = img_as_float(imread('../images/parrot.png'))\n",
        "sigma = 0.25\n",
        "noisy = parrot + sigma * np.random.standard_normal(parrot.shape)\n",
        "noisy = np.clip(noisy, 0, 1)\n",
        "# estimate the noise standard deviation from the noisy image\n",
        "sigma_est = np.mean(estimate_sigma(noisy, multichannel=True))\n",
        "print(\"estimated noise standard deviation = {}\".format(sigma_est))\n",
        "# estimated noise standard deviation = 0.22048519002358943\n",
        "patch_kw = dict(patch_size=5, # 5x5 patches\n",
        "patch_distance=6, # 13x13 search area\n",
        "multichannel=True)\n",
        "# slow algorithm\n",
        "denoise = denoise_nl_means(noisy, h=1.15 * sigma_est, fast_mode=False,\n",
        "**patch_kw)\n",
        "# fast algorithm\n",
        "denoise_fast = denoise_nl_means(noisy, h=0.8 * sigma_est, fast_mode=True,\n",
        "**patch_kw)\n",
        "fig, axes = pylab.subplots(nrows=2, ncols=2, figsize=(15, 12), sharex=True,\n",
        "sharey=True)\n",
        "plot_image_axes(noisy, axes[0, 0], 'noisy')\n",
        "plot_image_axes(denoise, axes[0, 1], 'non-local means\\n(slow)')\n",
        "plot_image_axes(parrot, axes[1, 0], 'original\\n(noise free)')\n",
        "plot_image_axes(denoise_fast, axes[1, 1], 'non-local means\\n(fast)')\n",
        "fig.tight_layout()\n",
        "# PSNR metric values\n",
        "psnr_noisy = compare_psnr(parrot, noisy)\n",
        "psnr = compare_psnr(parrot, denoise.astype(np.float64))\n",
        "psnr_fast = compare_psnr(parrot, denoise_fast.astype(np.float64))\n",
        "print(\"PSNR (noisy) = {:0.2f}\".format(psnr_noisy))\n",
        "print(\"PSNR (slow) = {:0.2f}\".format(psnr))\n",
        "print(\"PSNR (fast) = {:0.2f}\".format(psnr_fast))\n",
        "# PSNR (noisy) = 13.04 # PSNR (slow) = 26.25 # PSNR (fast) = 25.84\n",
        "pylab.show()"
      ],
      "execution_count": 0,
      "outputs": []
    },
    {
      "cell_type": "markdown",
      "metadata": {
        "id": "7gMSH9hPh7il",
        "colab_type": "text"
      },
      "source": [
        "### Smoothing with scipy ndimage"
      ]
    },
    {
      "cell_type": "code",
      "metadata": {
        "id": "36gddBkAh7il",
        "colab_type": "code",
        "colab": {}
      },
      "source": [
        "lena = misc.imread('../images/lena.jpg')\n",
        "# add salt-and-pepper noise to the input image\n",
        "noise = np.random.random(lena.shape)\n",
        "lena[noise > 0.9] = 255\n",
        "lena[noise < 0.1] = 0\n",
        "plot_image(lena, 'noisy image')\n",
        "pylab.show()\n",
        "fig = pylab.figure(figsize=(20,15))\n",
        "i = 1\n",
        "for p in range(25, 100, 25):\n",
        "    for k in range(5, 25, 5):\n",
        "        pylab.subplot(3,4,i)\n",
        "        filtered = ndimage.percentile_filter(lena, percentile=p, size=(k,k,1))\n",
        "        plot_image(filtered, str(p) + ' percentile, ' + str(k) + 'x' + str(k) + ' kernel')\n",
        "        i += 1\n",
        "pylab.show()"
      ],
      "execution_count": 0,
      "outputs": []
    },
    {
      "cell_type": "code",
      "metadata": {
        "id": "XqEG6GRPh7in",
        "colab_type": "code",
        "colab": {}
      },
      "source": [
        ""
      ],
      "execution_count": 0,
      "outputs": []
    }
  ]
}