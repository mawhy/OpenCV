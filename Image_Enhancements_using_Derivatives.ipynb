{
  "nbformat": 4,
  "nbformat_minor": 0,
  "metadata": {
    "kernelspec": {
      "display_name": "Python 3",
      "language": "python",
      "name": "python3"
    },
    "language_info": {
      "codemirror_mode": {
        "name": "ipython",
        "version": 3
      },
      "file_extension": ".py",
      "mimetype": "text/x-python",
      "name": "python",
      "nbconvert_exporter": "python",
      "pygments_lexer": "ipython3",
      "version": "3.5.4"
    },
    "colab": {
      "name": "Image Enhancements using Derivatives",
      "provenance": [],
      "collapsed_sections": [],
      "toc_visible": true,
      "include_colab_link": true
    }
  },
  "cells": [
    {
      "cell_type": "markdown",
      "metadata": {
        "id": "view-in-github",
        "colab_type": "text"
      },
      "source": [
        "<a href=\"https://colab.research.google.com/github/mawhy/OpenCV/blob/master/Image_Enhancements_using_Derivatives.ipynb\" target=\"_parent\"><img src=\"https://colab.research.google.com/assets/colab-badge.svg\" alt=\"Open In Colab\"/></a>"
      ]
    },
    {
      "cell_type": "markdown",
      "metadata": {
        "id": "QKhu1vh41lAw",
        "colab_type": "text"
      },
      "source": [
        "# Hands-on Image Processing with Python\n",
        "## Image Enhancements using Derivatives "
      ]
    },
    {
      "cell_type": "code",
      "metadata": {
        "id": "LvtBG-pp1vpb",
        "colab_type": "code",
        "colab": {}
      },
      "source": [
        "!git clone https://github.com/PacktPublishing/Hands-On-Image-Processing-with-Python.git\n",
        "%cp -av \"/content/Hands-On-Image-Processing-with-Python/images/\" \"/\"\n",
        "%rm -rf \"/content/Hands-On-Image-Processing-with-Python\"\n",
        "%cp -av \"/images/me8.JPG\" \"/images/me8.jpg\""
      ],
      "execution_count": 0,
      "outputs": []
    },
    {
      "cell_type": "markdown",
      "metadata": {
        "id": "8FMlqu4W1lAy",
        "colab_type": "text"
      },
      "source": [
        "### Import libraries"
      ]
    },
    {
      "cell_type": "code",
      "metadata": {
        "id": "ecxXDsuo1lAz",
        "colab_type": "code",
        "colab": {}
      },
      "source": [
        "% matplotlib inline\n",
        "import numpy as np\n",
        "from scipy import signal, misc, ndimage\n",
        "from skimage import filters, feature, img_as_float\n",
        "from skimage.io import imread\n",
        "from skimage.color import rgb2gray\n",
        "from PIL import Image, ImageFilter\n",
        "import matplotlib.pylab as pylab"
      ],
      "execution_count": 0,
      "outputs": []
    },
    {
      "cell_type": "markdown",
      "metadata": {
        "id": "8EQ4oK9m1lA2",
        "colab_type": "text"
      },
      "source": [
        "### Derivatives and gradients"
      ]
    },
    {
      "cell_type": "code",
      "metadata": {
        "id": "I25i5pq41lA2",
        "colab_type": "code",
        "colab": {}
      },
      "source": [
        "def plot_image(image, title):\n",
        "    pylab.imshow(image), pylab.title(title, size=20), pylab.axis('off')\n",
        "    \n",
        "ker_x = [[-1, 1]]\n",
        "ker_y = [[-1], [1]]\n",
        "im = rgb2gray(imread('../images/chess.png'))\n",
        "im_x = signal.convolve2d(im, ker_x, mode='same')\n",
        "im_y = signal.convolve2d(im, ker_y, mode='same')\n",
        "im_mag = np.sqrt(im_x**2 + im_y**2)\n",
        "im_dir = np.arctan(im_y/im_x)\n",
        "pylab.gray()\n",
        "pylab.figure(figsize=(30,20))\n",
        "pylab.subplot(231), plot_image(im, 'original'), pylab.subplot(232),\n",
        "plot_image(im_x, 'grad_x')\n",
        "pylab.subplot(233), plot_image(im_y, 'grad_y'), pylab.subplot(234),\n",
        "plot_image(im_mag, '||grad||')\n",
        "pylab.subplot(235), plot_image(im_dir, r'$\\theta$'), pylab.subplot(236)\n",
        "pylab.plot(range(im.shape[1]), im[0,:], 'b-', label=r'$f(x,y)|_{x=0}$', linewidth=5)\n",
        "pylab.plot(range(im.shape[1]), im_x[0,:], 'r-', label=r'$grad_x (f(x,y))|_{x=0}$')\n",
        "pylab.title(r'$grad_x (f(x,y))|_{x=0}$', size=30)\n",
        "pylab.legend(prop={'size': 20})\n",
        "pylab.show()"
      ],
      "execution_count": 0,
      "outputs": []
    },
    {
      "cell_type": "markdown",
      "metadata": {
        "id": "_8U0LN9a1lA6",
        "colab_type": "text"
      },
      "source": [
        "### Displaying the magnitude and the gradient on the same image"
      ]
    },
    {
      "cell_type": "code",
      "metadata": {
        "id": "Xz9IRRfO1lA6",
        "colab_type": "code",
        "colab": {}
      },
      "source": [
        "from skimage.io import imread\n",
        "from skimage.color import rgb2gray\n",
        "from skimage.util import random_noise\n",
        "from skimage.filters import gaussian\n",
        "import matplotlib.pylab as plt\n",
        "from scipy import signal\n",
        "import numpy as np\n",
        "ker_x = [[-1, 1]]\n",
        "ker_y = [[-1], [1]]\n",
        "im = rgb2gray(imread('../images/tiger3.jpg'))\n",
        "#im = random_noise(im, var=sigma**2)\n",
        "#im = gaussian(im, sigma=0.25)\n",
        "print(np.max(im))\n",
        "im_x = np.clip(signal.convolve2d(im, ker_x, mode='same'),0,1)\n",
        "im_y = np.clip(signal.convolve2d(im, ker_y, mode='same'),0,1)\n",
        "im_mag = np.sqrt(im_x**2 + im_y**2)\n",
        "im_ang = np.arctan(im_y/im_x)\n",
        "plt.gray()\n",
        "plt.figure(figsize=(20,30))\n",
        "plt.subplot(321)\n",
        "plt.imshow(im)\n",
        "plt.title('original', size=30)\n",
        "plt.axis('off')\n",
        "plt.subplot(322)\n",
        "plt.imshow(im_x)\n",
        "plt.title('grad_x', size=30)\n",
        "plt.axis('off')\n",
        "plt.subplot(323)\n",
        "plt.imshow(im_y)\n",
        "plt.title('grad_y', size=30)\n",
        "plt.axis('off')\n",
        "plt.subplot(324)\n",
        "plt.imshow(im_mag)\n",
        "plt.title('||grad||', size=30)\n",
        "plt.axis('off')\n",
        "plt.subplot(325)\n",
        "plt.imshow(im_ang)\n",
        "plt.title(r'$\\theta$', size=30)\n",
        "plt.axis('off')\n",
        "plt.subplot(326)\n",
        "im = np.zeros((im.shape[0],im.shape[1],3))\n",
        "im[...,0] = im_mag*np.sin(im_ang)\n",
        "im[...,1] = im_mag*np.cos(im_ang)\n",
        "plt.imshow(im)\n",
        "plt.title(r'||grad||+$\\theta$', size=30)\n",
        "plt.axis('off')\n",
        "plt.show()"
      ],
      "execution_count": 0,
      "outputs": []
    },
    {
      "cell_type": "markdown",
      "metadata": {
        "id": "BXeM9q7m1lA9",
        "colab_type": "text"
      },
      "source": [
        "### Laplacian"
      ]
    },
    {
      "cell_type": "code",
      "metadata": {
        "id": "F5DjYe8j1lA9",
        "colab_type": "code",
        "colab": {}
      },
      "source": [
        "ker_laplacian = [[0,-1,0],[-1, 4, -1],[0,-1,0]]\n",
        "im = rgb2gray(imread('../images/chess.png'))\n",
        "im1 = np.clip(signal.convolve2d(im, ker_laplacian, mode='same'),0,1)\n",
        "pylab.gray()\n",
        "pylab.figure(figsize=(20,10))\n",
        "pylab.subplot(121), plot_image(im, 'original')\n",
        "pylab.subplot(122), plot_image(im1, 'laplacian convolved')\n",
        "pylab.show()"
      ],
      "execution_count": 0,
      "outputs": []
    },
    {
      "cell_type": "markdown",
      "metadata": {
        "id": "Y4mGV6sp1lBA",
        "colab_type": "text"
      },
      "source": [
        "### Effects of noise on gradient computation"
      ]
    },
    {
      "cell_type": "code",
      "metadata": {
        "id": "zHJ4QTjA1lBA",
        "colab_type": "code",
        "colab": {}
      },
      "source": [
        "from skimage.io import imread\n",
        "from skimage.color import rgb2gray\n",
        "from skimage.util import random_noise\n",
        "from skimage.filters import gaussian\n",
        "import matplotlib.pylab as plt\n",
        "from scipy import signal\n",
        "import numpy as np\n",
        "ker_x = [[-1, 1]]\n",
        "ker_y = [[-1], [1]]\n",
        "im = rgb2gray(imread('../images/chess.png'))\n",
        "sigma = 0.25\n",
        "sign = np.random.random(im.shape)\n",
        "sign[sign <= 0.5] = -1\n",
        "sign[sign > 0.5] = 1\n",
        "im = random_noise(im, var=sigma**2)\n",
        "im = gaussian(im, sigma=0.25)\n",
        "print(np.max(im))\n",
        "im_x = signal.convolve2d(im, ker_x, mode='same')\n",
        "im_y = signal.convolve2d(im, ker_y, mode='same')\n",
        "im_mag = np.sqrt(im_x**2 + im_y**2)\n",
        "im_ang = np.arctan(im_y/im_x)\n",
        "plt.gray()\n",
        "plt.figure(figsize=(30,20))\n",
        "plt.subplot(231)\n",
        "plt.imshow(im)\n",
        "plt.title('original', size=30)\n",
        "plt.axis('off')\n",
        "plt.subplot(232)\n",
        "plt.imshow(im_x)\n",
        "plt.title('grad_x', size=30)\n",
        "plt.axis('off')\n",
        "plt.subplot(233)\n",
        "plt.imshow(im_y)\n",
        "plt.title('grad_y', size=30)\n",
        "plt.axis('off')\n",
        "plt.subplot(234)\n",
        "plt.imshow(im_mag)\n",
        "plt.title('||grad||', size=30)\n",
        "plt.axis('off')\n",
        "plt.subplot(235)\n",
        "plt.imshow(im_ang)\n",
        "plt.title(r'$\\theta$', size=30)\n",
        "plt.axis('off')\n",
        "plt.subplot(236)\n",
        "plt.plot(range(im.shape[1]), im[0,:], 'b-', label=r'$f(x,y)|_{x=0}$', linewidth=5)\n",
        "plt.plot(range(im.shape[1]), im_x[0,:], 'r-', label=r'$grad_x (f(x,y))|_{x=0}$')\n",
        "plt.title(r'$grad_x (f(x,y))|_{x=0}$', size=30)\n",
        "plt.legend(prop={'size': 20})\n",
        "plt.show()"
      ],
      "execution_count": 0,
      "outputs": []
    },
    {
      "cell_type": "markdown",
      "metadata": {
        "id": "q5KW5qdj1lBD",
        "colab_type": "text"
      },
      "source": [
        "### Sharpening with Laplacian"
      ]
    },
    {
      "cell_type": "code",
      "metadata": {
        "id": "UfxqWYUL1lBE",
        "colab_type": "code",
        "colab": {}
      },
      "source": [
        "from skimage.filters import laplace\n",
        "im = rgb2gray(imread('../images/me8.jpg'))\n",
        "im1 = np.clip(laplace(im) + im, 0, 1)\n",
        "pylab.figure(figsize=(10,15))\n",
        "pylab.subplot(211), plot_image(im, 'original image')\n",
        "pylab.subplot(212), plot_image(im1, 'sharpened image')\n",
        "pylab.tight_layout()\n",
        "pylab.show()"
      ],
      "execution_count": 0,
      "outputs": []
    },
    {
      "cell_type": "markdown",
      "metadata": {
        "id": "TTnQSNxt1lBG",
        "colab_type": "text"
      },
      "source": [
        "### Unsharp masking"
      ]
    },
    {
      "cell_type": "code",
      "metadata": {
        "id": "oQnA5R7k1lBH",
        "colab_type": "code",
        "colab": {}
      },
      "source": [
        "def rgb2gray(im):\n",
        "    '''\n",
        "    the input image is an RGB image\n",
        "    with pixel values for each channel in [0,1]\n",
        "    '''\n",
        "    return np.clip(0.2989 * im[...,0] + 0.5870 * im[...,1] + 0.1140 * im[...,2], 0, 1)\n",
        "\n",
        "im = rgb2gray(img_as_float(imread('../images/me4.jpg')))\n",
        "im_blurred = ndimage.gaussian_filter(im, 5)\n",
        "im_detail = np.clip(im - im_blurred, 0, 1)\n",
        "pylab.gray()\n",
        "fig, axes = pylab.subplots(nrows=2, ncols=3, sharex=True, sharey=True, figsize=(15, 15))\n",
        "axes = axes.ravel()\n",
        "axes[0].set_title('Original image', size=15), axes[0].imshow(im)\n",
        "axes[1].set_title('Blurred image, sigma=5', size=15),\n",
        "axes[1].imshow(im_blurred)\n",
        "axes[2].set_title('Detail image', size=15), axes[2].imshow(im_detail)\n",
        "alpha = [1, 5, 10]\n",
        "for i in range(3):\n",
        "    im_sharp = np.clip(im + alpha[i]*im_detail, 0, 1)\n",
        "    axes[3+i].imshow(im_sharp), axes[3+i].set_title('Sharpened image, alpha=' + str(alpha[i]), size=15)\n",
        "for ax in axes:\n",
        "    ax.axis('off')\n",
        "fig.tight_layout()\n",
        "pylab.show()"
      ],
      "execution_count": 0,
      "outputs": []
    },
    {
      "cell_type": "markdown",
      "metadata": {
        "id": "DrNLpk5M1lBJ",
        "colab_type": "text"
      },
      "source": [
        "### Sobel edge detector with scikit-image"
      ]
    },
    {
      "cell_type": "code",
      "metadata": {
        "id": "Sz0uiMIu1lBJ",
        "colab_type": "code",
        "colab": {}
      },
      "source": [
        "im = rgb2gray(imread('../images/tajmahal1.jpg')) # RGB image to gray scale\n",
        "pylab.gray()\n",
        "pylab.figure(figsize=(20,18))\n",
        "pylab.subplot(2,2,1)\n",
        "plot_image(im, 'original')\n",
        "pylab.subplot(2,2,2)\n",
        "edges_x = filters.sobel_h(im)\n",
        "plot_image(np.clip(edges_x,0,1), 'sobel_x')\n",
        "pylab.subplot(2,2,3)\n",
        "edges_y = filters.sobel_v(im)\n",
        "plot_image(np.clip(edges_y,0,1), 'sobel_y')\n",
        "pylab.subplot(2,2,4)\n",
        "edges = filters.sobel(im)\n",
        "plot_image(np.clip(edges,0,1), 'sobel')\n",
        "pylab.subplots_adjust(wspace=0.1, hspace=0.1)\n",
        "pylab.show()"
      ],
      "execution_count": 0,
      "outputs": []
    },
    {
      "cell_type": "markdown",
      "metadata": {
        "id": "e7B6FZty1lBL",
        "colab_type": "text"
      },
      "source": [
        "### Different edge detectors with scikit-image – Prewitt, Roberts, Sobel, Scharr, and Laplace"
      ]
    },
    {
      "cell_type": "code",
      "metadata": {
        "id": "uWOrSKtU1lBM",
        "colab_type": "code",
        "colab": {}
      },
      "source": [
        "im = rgb2gray(imread('../images/goldengate.jpg')) # RGB image to gray scale\n",
        "pylab.gray()\n",
        "pylab.figure(figsize=(20,24))\n",
        "pylab.subplot(3,2,1), plot_image(im, 'original')\n",
        "edges = filters.roberts(im)\n",
        "pylab.subplot(3,2,2), plot_image(edges, 'roberts')\n",
        "edges = filters.scharr(im)\n",
        "pylab.subplot(3,2,3), plot_image(edges, 'scharr')\n",
        "edges = filters.sobel(im)\n",
        "pylab.subplot(3,2,4), plot_image(edges, 'sobel')\n",
        "edges = filters.prewitt(im)\n",
        "pylab.subplot(3,2,5), plot_image(edges, 'prewitt')\n",
        "edges = np.clip(filters.laplace(im), 0, 1)\n",
        "pylab.subplot(3,2,6), plot_image(edges, 'laplace')\n",
        "pylab.subplots_adjust(wspace=0.1, hspace=0.1)\n",
        "pylab.show()"
      ],
      "execution_count": 0,
      "outputs": []
    },
    {
      "cell_type": "markdown",
      "metadata": {
        "id": "p3hExHBI1lBO",
        "colab_type": "text"
      },
      "source": [
        "### The Canny edge detector with scikit-image"
      ]
    },
    {
      "cell_type": "code",
      "metadata": {
        "id": "Z4t9k6C31lBO",
        "colab_type": "code",
        "colab": {}
      },
      "source": [
        "im = rgb2gray(imread('../images/tiger3.jpg'))\n",
        "im = ndimage.gaussian_filter(im, 4)\n",
        "im += 0.05 * np.random.random(im.shape)\n",
        "edges1 = feature.canny(im)\n",
        "edges2 = feature.canny(im, sigma=2)\n",
        "fig, (axes1, axes2, axes3) = pylab.subplots(nrows=1, ncols=3, figsize=(30,12), sharex=True, sharey=True)\n",
        "axes1.imshow(im, cmap=pylab.cm.gray), axes1.axis('off'),\n",
        "axes1.set_title('noisy image', fontsize=50)\n",
        "axes2.imshow(edges1, cmap=pylab.cm.gray), axes2.axis('off')\n",
        "axes2.set_title('Canny filter, $\\sigma=1$', fontsize=50)\n",
        "axes3.imshow(edges2, cmap=pylab.cm.gray), axes3.axis('off')\n",
        "axes3.set_title('Canny filter, $\\sigma=3$', fontsize=50)\n",
        "fig.tight_layout()\n",
        "pylab.show()"
      ],
      "execution_count": 0,
      "outputs": []
    },
    {
      "cell_type": "markdown",
      "metadata": {
        "id": "WPLUmpfh1lBR",
        "colab_type": "text"
      },
      "source": [
        "### The LoG and DoG filters"
      ]
    },
    {
      "cell_type": "code",
      "metadata": {
        "id": "LjC_ZH5K1lBR",
        "colab_type": "code",
        "colab": {}
      },
      "source": [
        "from scipy.signal import convolve2d\n",
        "#from scipy.misc import imread\n",
        "import imageio\n",
        "from scipy.ndimage import gaussian_filter\n",
        "from numpy import pi\n",
        "\n",
        "def plot_kernel(kernel, s, name):\n",
        "    pylab.imshow(kernel, cmap='YlOrRd')\n",
        "\n",
        "def LOG(k=12, s=3):\n",
        "    n = 2*k+1 # size of the kernel\n",
        "    kernel = np.zeros((n,n))\n",
        "    for i in range(n):\n",
        "        for j in range(n):\n",
        "            kernel[i,j] = -(1-((i-k)**2+(j-k)**2)/(2.*s**2))*np.exp(-((i-k)**2+(j-k)**2)/(2.*s**2))/(pi*s**4)\n",
        "    kernel = np.round(kernel / np.sqrt((kernel**2).sum()),3)\n",
        "    return kernel\n",
        "\n",
        "def DOG(k=12, s=3):\n",
        "    n = 2*k+1 # size of the kernel\n",
        "    s1, s2 = s * np.sqrt(2), s / np.sqrt(2)\n",
        "    kernel = np.zeros((n,n))\n",
        "    for i in range(n):\n",
        "        for j in range(n):\n",
        "            kernel[i,j] = np.exp(-((i-k)**2+(j-k)**2)/(2.*s1**2))/(2*pi*s1**2) - np.exp(-((i-k)**2+(j-k)**2)/(2.*s2**2))/(2*pi*s2**2)\n",
        "    kernel = np.round(kernel / np.sqrt((kernel**2).sum()),3)\n",
        "    return kernel\n",
        "\n",
        "s = 3 # sigma value for LoG\n",
        "img = rgb2gray(imageio.imread('../images/me.jpg'))\n",
        "kernel = LOG()\n",
        "outimg = convolve2d(img, kernel)\n",
        "pylab.figure(figsize=(20,20))\n",
        "pylab.subplot(221), pylab.title('LOG kernel', size=20), plot_kernel(kernel, s, 'DOG')\n",
        "pylab.subplot(222), pylab.title('output image with LOG', size=20)\n",
        "pylab.imshow(np.clip(outimg,0,1), cmap='gray') # clip the pixel values in between 0 and 1\n",
        "kernel = DOG()\n",
        "outimg = convolve2d(img, DOG())\n",
        "pylab.subplot(223), pylab.title('DOG kernel', size=20), plot_kernel(kernel, s, 'DOG')\n",
        "pylab.subplot(224), pylab.title('output image with DOG', size=20)\n",
        "pylab.imshow(np.clip(outimg,0,1), cmap='gray')\n",
        "pylab.show()    "
      ],
      "execution_count": 0,
      "outputs": []
    },
    {
      "cell_type": "markdown",
      "metadata": {
        "id": "9usuTKH11lBT",
        "colab_type": "text"
      },
      "source": [
        "### The LoG filter with the SciPy ndimage module"
      ]
    },
    {
      "cell_type": "code",
      "metadata": {
        "id": "OEd3CntA1lBU",
        "colab_type": "code",
        "colab": {}
      },
      "source": [
        "img = rgb2gray(imageio.imread('../images/zebras.jpg'))\n",
        "fig = pylab.figure(figsize=(25,15))\n",
        "pylab.gray() # show the filtered result in grayscale\n",
        "for sigma in range(1,10):\n",
        "    pylab.subplot(3,3,sigma)\n",
        "    img_log = ndimage.gaussian_laplace(img, sigma=sigma)\n",
        "    pylab.imshow(np.clip(img_log,0,1)), pylab.axis('off')\n",
        "    pylab.title('LoG with sigma=' + str(sigma), size=20)\n",
        "pylab.show()"
      ],
      "execution_count": 0,
      "outputs": []
    },
    {
      "cell_type": "markdown",
      "metadata": {
        "id": "sLnSPqSM1lBa",
        "colab_type": "text"
      },
      "source": [
        "### Finding and enhancing edges with PIL"
      ]
    },
    {
      "cell_type": "code",
      "metadata": {
        "id": "LdjSpQLp1lBa",
        "colab_type": "code",
        "colab": {}
      },
      "source": [
        "from PIL.ImageFilter import (FIND_EDGES, EDGE_ENHANCE, EDGE_ENHANCE_MORE)\n",
        "im = Image.open('../images/umbc_lib.jpg')\n",
        "pylab.figure(figsize=(18,25))\n",
        "pylab.subplot(2,2,1)\n",
        "plot_image(im, 'original (UMBC library)')\n",
        "i = 2\n",
        "for f in (FIND_EDGES, EDGE_ENHANCE, EDGE_ENHANCE_MORE):\n",
        "    pylab.subplot(2,2,i)\n",
        "    im1 = im.filter(f)\n",
        "    plot_image(im1, str(f))\n",
        "    i += 1\n",
        "pylab.show()"
      ],
      "execution_count": 0,
      "outputs": []
    },
    {
      "cell_type": "markdown",
      "metadata": {
        "id": "awYQpgd81lBd",
        "colab_type": "text"
      },
      "source": [
        "### A Gaussian pyramid with scikit-image transform pyramid module"
      ]
    },
    {
      "cell_type": "code",
      "metadata": {
        "id": "732bo6KF1lBd",
        "colab_type": "code",
        "colab": {}
      },
      "source": [
        "from skimage.transform import pyramid_gaussian\n",
        "image = imread('../images/lena.jpg')\n",
        "nrows, ncols = image.shape[:2]\n",
        "pyramid = tuple(pyramid_gaussian(image, downscale=2)) #, multichannel=True))\n",
        "\n",
        "plt.figure(figsize=(20,5))\n",
        "i, n = 1, len(pyramid)\n",
        "for p in pyramid:\n",
        "    plt.subplot(1,n,i), plt.imshow(p),  plt.title(str(p.shape[0]) + 'x' + str(p.shape[1])), plt.axis('off')\n",
        "    i += 1\n",
        "plt.suptitle('Gaussian Pyramid', size=30)\n",
        "plt.show()\n",
        "\n",
        "compos_image = np.zeros((nrows, ncols + ncols // 2, 3), dtype=np.double)\n",
        "compos_image[:nrows, :ncols, :] = pyramid[0]\n",
        "\n",
        "i_row = 0\n",
        "for p in pyramid[1:]:\n",
        "    n_rows, n_cols = p.shape[:2]\n",
        "    compos_image[i_row:i_row + n_rows, ncols:ncols + n_cols] = p\n",
        "    i_row += n_rows\n",
        "\n",
        "fig, ax = plt.subplots(figsize=(20,20))\n",
        "ax.imshow(composite_image)\n",
        "plt.show()"
      ],
      "execution_count": 0,
      "outputs": []
    },
    {
      "cell_type": "markdown",
      "metadata": {
        "id": "6mQ_M1uX1lBg",
        "colab_type": "text"
      },
      "source": [
        "### A Laplacian pyramid with scikit-image transform's pyramid module"
      ]
    },
    {
      "cell_type": "code",
      "metadata": {
        "id": "a8pgEuMV1lBg",
        "colab_type": "code",
        "colab": {}
      },
      "source": [
        "import numpy as np\n",
        "import matplotlib.pyplot as plt\n",
        "\n",
        "from skimage.transform import pyramid_laplacian\n",
        "from skimage.color import rgb2gray\n",
        "\n",
        "image = imread('../images/lena.jpg')\n",
        "#image = imread('../new images/orange.png')[...,:3]\n",
        "nrows, ncols = image.shape[:2]\n",
        "pyramid = tuple(pyramid_laplacian(image, downscale=2)) #, multichannel=True))\n",
        "\n",
        "plt.figure(figsize=(20,20))\n",
        "i, n = 1, len(pyramid)\n",
        "for p in pyramid:\n",
        "    plt.subplot(3,3,i), plt.imshow(rgb2gray(p), cmap='gray'), plt.title(str(p.shape[0]) + 'x' + str(p.shape[1]))\n",
        "    plt.axis('off')\n",
        "    i += 1\n",
        "plt.suptitle('Laplacian Pyramid', size=30)\n",
        "plt.show()\n",
        "\n",
        "composite_image = np.zeros((nrows, ncols + ncols // 2), dtype=np.double)\n",
        "\n",
        "composite_image[:nrows, :ncols] = rgb2gray(pyramid[0])\n",
        "\n",
        "i_row = 0\n",
        "for p in pyramid[1:]:\n",
        "    n_rows, n_cols = p.shape[:2]\n",
        "    composite_image[i_row:i_row + n_rows, ncols:ncols + n_cols] = rgb2gray(p)\n",
        "    i_row += n_rows\n",
        "\n",
        "fig, ax = plt.subplots(figsize=(20,20))\n",
        "ax.imshow(composite_image, cmap='gray')\n",
        "plt.show()"
      ],
      "execution_count": 0,
      "outputs": []
    },
    {
      "cell_type": "markdown",
      "metadata": {
        "id": "zhsSivna1lBi",
        "colab_type": "text"
      },
      "source": [
        "### Constructing the Gaussian Pyramid with scikitimage transform module's reduce function, and the Laplacian Pyramid from the Gaussian Pyramid and the expand function"
      ]
    },
    {
      "cell_type": "code",
      "metadata": {
        "id": "JRJ7eYqX1lBj",
        "colab_type": "code",
        "colab": {}
      },
      "source": [
        "import numpy as np\n",
        "import matplotlib.pyplot as plt\n",
        "\n",
        "from skimage.io import imread\n",
        "from skimage.color import rgb2gray\n",
        "from skimage.transform import pyramid_reduce, pyramid_laplacian, pyramid_expand, resize\n",
        "\n",
        "image = imread('../images/antelops.jpeg')\n",
        "\n",
        "def get_gaussian_pyramid(image):\n",
        "    rows, cols, dim = image.shape\n",
        "    gaussian_pyramid = [image]\n",
        "    while rows > 1 and cols > 1:\n",
        "        #print(rows, cols)\n",
        "        image = pyramid_reduce(image, downscale=2)\n",
        "        gaussian_pyramid.append(image)\n",
        "        #print(image.shape)\n",
        "        rows //= 2\n",
        "        cols //= 2\n",
        "    return gaussian_pyramid\n",
        "\n",
        "def get_laplacian_pyramid(gaussian_pyramid):\n",
        "    laplacian_pyramid = [gaussian_pyramid[len(gaussian_pyramid)-1]]\n",
        "    for i in range(len(gaussian_pyramid)-2, -1, -1):\n",
        "        image = gaussian_pyramid[i] - resize(pyramid_expand(gaussian_pyramid[i+1]), gaussian_pyramid[i].shape)\n",
        "        #print(i, image.shape)\n",
        "        laplacian_pyramid.append(np.copy(image))\n",
        "    laplacian_pyramid = laplacian_pyramid[::-1]\n",
        "    return laplacian_pyramid\n",
        "\n",
        "\n",
        "gaussian_pyramid = get_gaussian_pyramid(image)\n",
        "laplacian_pyramid = get_laplacian_pyramid(gaussian_pyramid)\n",
        "    \n",
        "w, h = 20, 12\n",
        "for i in range(3):\n",
        "    plt.figure(figsize=(w,h))\n",
        "    p = gaussian_pyramid[i]\n",
        "    plt.imshow(p)\n",
        "    plt.title(str(p.shape[0]) + 'x' + str(p.shape[1]), size=20)\n",
        "    plt.axis('off')\n",
        "    w, h = w / 2, h / 2\n",
        "    plt.show()\n",
        "    \n",
        "w, h = 10, 6\n",
        "for i in range(1,4):\n",
        "    plt.figure(figsize=(w,h))\n",
        "    p = laplacian_pyramid[i]\n",
        "    plt.imshow(rgb2gray(p), cmap='gray')\n",
        "    plt.title(str(p.shape[0]) + 'x' + str(p.shape[1]), size=20)\n",
        "    plt.axis('off')\n",
        "    w, h = w / 2, h / 2\n",
        "    plt.show()"
      ],
      "execution_count": 0,
      "outputs": []
    },
    {
      "cell_type": "markdown",
      "metadata": {
        "id": "ee7xTdoO1lBl",
        "colab_type": "text"
      },
      "source": [
        "### Reconstructing an image only from its Laplacian pyramid"
      ]
    },
    {
      "cell_type": "code",
      "metadata": {
        "id": "A_bInN6o1lBl",
        "colab_type": "code",
        "colab": {}
      },
      "source": [
        "def reconstruct_image_from_laplacian_pyramid(pyramid):\n",
        "    i = len(pyramid) - 2\n",
        "    prev = pyramid[i+1]\n",
        "    #plt.figure(figsize=(20,20))\n",
        "    j = 1\n",
        "    while i >= 0:\n",
        "        prev = resize(pyramid_expand(prev, upscale=2), pyramid[i].shape)\n",
        "        im = np.clip(pyramid[i] + prev,0,1)\n",
        "        #plt.subplot(3,3,j)\n",
        "        plt.imshow(im)\n",
        "        plt.title('Level=' + str(j) + ', ' + str(im.shape[0]) + 'x' + str(im.shape[1]), size=20)\n",
        "        prev = im\n",
        "        i -= 1\n",
        "        j += 1\n",
        "    return im\n",
        "\n",
        "image = imread('../images/apple.png')[...,:3] / 255\n",
        "pyramid = get_laplacian_pyramid(get_gaussian_pyramid(image))\n",
        "im = reconstruct_image_from_laplacian_pyramid(pyramid)"
      ],
      "execution_count": 0,
      "outputs": []
    },
    {
      "cell_type": "markdown",
      "metadata": {
        "id": "1IX01j3Y1lBn",
        "colab_type": "text"
      },
      "source": [
        "### Blending images with pyramids"
      ]
    },
    {
      "cell_type": "code",
      "metadata": {
        "id": "RZvOk2Zh1lBn",
        "colab_type": "code",
        "colab": {}
      },
      "source": [
        "% matplotlib inline\n",
        "import numpy as np\n",
        "import matplotlib.pyplot as plt\n",
        "\n",
        "A = imread('../images/apple.png')[...,:3] / 255\n",
        "B = imread('../images/orange.png')[...,:3] / 255\n",
        "M = imread('../images/mask.png')[...,:3] / 255\n",
        "\n",
        "rows, cols, dim = A.shape\n",
        "pyramidA = get_laplacian_pyramid(get_gaussian_pyramid(A))\n",
        "pyramidB = get_laplacian_pyramid(get_gaussian_pyramid(B))\n",
        "pyramidM = get_gaussian_pyramid(M)\n",
        "\n",
        "pyramidC = []\n",
        "for i in range(len(pyramidM)):\n",
        "    im = pyramidM[i]*pyramidA[i] + (1-pyramidM[i])*pyramidB[i]\n",
        "    #print(np.max(im), np.min(im), np.mean(im))\n",
        "    pyramidC.append(im)\n",
        "\n",
        "im = reconstruct_image_from_laplacian_pyramid(pyramidC)\n",
        "\n",
        "plt.imshow(im)\n",
        "plt.axis('off')\n",
        "plt.show()"
      ],
      "execution_count": 0,
      "outputs": []
    },
    {
      "cell_type": "code",
      "metadata": {
        "id": "djQj0JXh1lBp",
        "colab_type": "code",
        "colab": {}
      },
      "source": [
        ""
      ],
      "execution_count": 0,
      "outputs": []
    }
  ]
}