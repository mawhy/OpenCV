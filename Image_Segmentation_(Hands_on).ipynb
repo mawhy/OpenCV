{
  "nbformat": 4,
  "nbformat_minor": 0,
  "metadata": {
    "kernelspec": {
      "display_name": "Python 3",
      "language": "python",
      "name": "python3"
    },
    "language_info": {
      "codemirror_mode": {
        "name": "ipython",
        "version": 3
      },
      "file_extension": ".py",
      "mimetype": "text/x-python",
      "name": "python",
      "nbconvert_exporter": "python",
      "pygments_lexer": "ipython3",
      "version": "3.5.4"
    },
    "colab": {
      "name": "Image Segmentation (Hands-on)",
      "provenance": [],
      "collapsed_sections": [],
      "toc_visible": true,
      "include_colab_link": true
    }
  },
  "cells": [
    {
      "cell_type": "markdown",
      "metadata": {
        "id": "view-in-github",
        "colab_type": "text"
      },
      "source": [
        "<a href=\"https://colab.research.google.com/github/mawhy/OpenCV/blob/master/Image_Segmentation_(Hands_on).ipynb\" target=\"_parent\"><img src=\"https://colab.research.google.com/assets/colab-badge.svg\" alt=\"Open In Colab\"/></a>"
      ]
    },
    {
      "cell_type": "markdown",
      "metadata": {
        "id": "9tCUAnwsaCPe",
        "colab_type": "text"
      },
      "source": [
        "# Hands-on Image Processing with Python\n",
        "## Image Segmentation"
      ]
    },
    {
      "cell_type": "code",
      "metadata": {
        "id": "zcA65IwcaYqO",
        "colab_type": "code",
        "colab": {}
      },
      "source": [
        "!git clone https://github.com/PacktPublishing/Hands-On-Image-Processing-with-Python.git\n",
        "%cp -av \"/content/Hands-On-Image-Processing-with-Python/images/\" \"/\"\n",
        "%rm -rf \"/content/Hands-On-Image-Processing-with-Python\""
      ],
      "execution_count": 0,
      "outputs": []
    },
    {
      "cell_type": "markdown",
      "metadata": {
        "id": "doMhO3XpaCPg",
        "colab_type": "text"
      },
      "source": [
        "### Import packages"
      ]
    },
    {
      "cell_type": "code",
      "metadata": {
        "id": "ETgaUj1WaCPg",
        "colab_type": "code",
        "colab": {}
      },
      "source": [
        "import numpy as np\n",
        "from skimage.transform import (hough_line, hough_line_peaks, hough_circle, hough_circle_peaks)\n",
        "from skimage.draw import circle_perimeter\n",
        "from skimage.feature import canny\n",
        "from skimage.data import astronaut\n",
        "from skimage.io import imread, imsave\n",
        "from skimage.color import rgb2gray, gray2rgb, label2rgb\n",
        "from skimage import img_as_float\n",
        "from skimage.morphology import skeletonize\n",
        "from skimage import data, img_as_float\n",
        "import matplotlib.pyplot as plt\n",
        "from matplotlib import cm\n",
        "from skimage.filters import sobel, threshold_otsu\n",
        "from skimage.feature import canny\n",
        "from skimage.segmentation import felzenszwalb, slic, quickshift, watershed\n",
        "from skimage.segmentation import mark_boundaries, find_boundaries"
      ],
      "execution_count": 0,
      "outputs": []
    },
    {
      "cell_type": "markdown",
      "metadata": {
        "id": "tzxoX14BaCPk",
        "colab_type": "text"
      },
      "source": [
        "### Hough transform – detecting lines and circles"
      ]
    },
    {
      "cell_type": "code",
      "metadata": {
        "id": "vrQmATkfaCPk",
        "colab_type": "code",
        "colab": {}
      },
      "source": [
        "image = rgb2gray(imread('../images/triangle_circle.png'))\n",
        "\n",
        "# Classic straight-line Hough transform\n",
        "h, theta, d = hough_line(image)\n",
        "\n",
        "# Generating figure 1\n",
        "fig, axes = plt.subplots(2, 2, figsize=(20, 20))\n",
        "ax = axes.ravel()\n",
        "\n",
        "ax[0].imshow(image, cmap=cm.gray)\n",
        "ax[0].set_title('Input image', size=20)\n",
        "ax[0].set_axis_off()\n",
        "\n",
        "ax[1].imshow(np.log(1 + h),\n",
        "             extent=[10*np.rad2deg(theta[-1]), np.rad2deg(theta[0]), d[-1], d[0]],\n",
        "             cmap=cm.hot, aspect=1/1.5)\n",
        "ax[1].set_title('Hough transform', size=20)\n",
        "ax[1].set_xlabel('Angles (degrees)', size=20)\n",
        "ax[1].set_ylabel('Distance (pixels)', size=20)\n",
        "ax[1].axis('image')\n",
        "\n",
        "ax[2].imshow(image, cmap=cm.gray)\n",
        "for _, angle, dist in zip(*hough_line_peaks(h, theta, d)):\n",
        "    y0 = (dist - 0 * np.cos(angle)) / np.sin(angle)\n",
        "    y1 = (dist - image.shape[1] * np.cos(angle)) / np.sin(angle)\n",
        "    ax[2].plot((0, image.shape[1]), (y0, y1), '-r')\n",
        "ax[2].set_xlim((0, image.shape[1]))\n",
        "ax[2].set_ylim((image.shape[0], 0))\n",
        "ax[2].set_axis_off()\n",
        "ax[2].set_title('Detected lines', size=20)\n",
        "\n",
        "hough_radii = np.arange(50, 100, 2)\n",
        "hough_res = hough_circle(image, hough_radii)\n",
        "\n",
        "# Select the most prominent 5 circles\n",
        "accums, cx, cy, radii = hough_circle_peaks(hough_res, hough_radii, total_num_peaks=6)\n",
        "\n",
        "image = gray2rgb(image)\n",
        "for center_y, center_x, radius in zip(cy, cx, radii):\n",
        "    circy, circx = circle_perimeter(center_y, center_x, radius)\n",
        "    image[circy, circx] = (0.9, 0.2, 0.2)\n",
        "\n",
        "ax[3].imshow(image, cmap=plt.cm.gray)\n",
        "ax[3].set_axis_off()\n",
        "ax[3].set_title('Detected Circles', size=20)\n",
        "\n",
        "plt.tight_layout()\n",
        "plt.show()\n",
        "\n",
        "image = rgb2gray(imread('../images/coins.png'))\n",
        "\n",
        "fig, axes = plt.subplots(1, 2, figsize=(20, 10), sharex=True, sharey=True)\n",
        "ax = axes.ravel()\n",
        "\n",
        "ax[0].imshow(image, cmap=plt.cm.gray)\n",
        "ax[0].set_axis_off()\n",
        "ax[0].set_title('Original Image', size=20)\n",
        "\n",
        "hough_radii = np.arange(65, 75, 1)\n",
        "hough_res = hough_circle(image, hough_radii)\n",
        "\n",
        "# Select the most prominent 5 circles\n",
        "accums, cx, cy, radii = hough_circle_peaks(hough_res, hough_radii, total_num_peaks=4)\n",
        "\n",
        "image = gray2rgb(image)\n",
        "for center_y, center_x, radius in zip(cy, cx, radii):\n",
        "    circy, circx = circle_perimeter(center_y, center_x, radius)\n",
        "    image[circy, circx] = (1, 0, 0)\n",
        "\n",
        "ax[1].imshow(image, cmap=plt.cm.gray)\n",
        "ax[1].set_axis_off()\n",
        "ax[1].set_title('Detected Circles', size=20)\n",
        "\n",
        "plt.tight_layout()\n",
        "plt.show()"
      ],
      "execution_count": 0,
      "outputs": []
    },
    {
      "cell_type": "markdown",
      "metadata": {
        "id": "yYviON2saCPn",
        "colab_type": "text"
      },
      "source": [
        "### Thresholding and Otsu's segmentation"
      ]
    },
    {
      "cell_type": "code",
      "metadata": {
        "id": "yxZ-6AOyaCPo",
        "colab_type": "code",
        "colab": {}
      },
      "source": [
        "image =  rgb2gray(imread('../images/horse.jpg')) #data.camera()\n",
        "thresh = threshold_otsu(image)\n",
        "binary = image > thresh\n",
        "\n",
        "fig, axes = plt.subplots(nrows=2, ncols=2, figsize=(20, 15))\n",
        "ax = axes.ravel()\n",
        "ax[0] = plt.subplot(2, 2, 1)\n",
        "ax[1] = plt.subplot(2, 2, 2)\n",
        "ax[2] = plt.subplot(2, 2, 3, sharex=ax[0], sharey=ax[0])\n",
        "ax[3] = plt.subplot(2, 2, 4, sharex=ax[0], sharey=ax[0])\n",
        "\n",
        "ax[0].imshow(image, cmap=plt.cm.gray)\n",
        "ax[0].set_title('Original', size=20)\n",
        "ax[0].axis('off')\n",
        "\n",
        "ax[1].hist(image.ravel(), bins=256, density=True)\n",
        "ax[1].set_title('Histogram', size=20)\n",
        "ax[1].axvline(thresh, color='r')\n",
        "\n",
        "ax[2].imshow(binary, cmap=plt.cm.gray)\n",
        "ax[2].set_title('Thresholded (Otsu)', size=20)\n",
        "ax[2].axis('off')\n",
        "\n",
        "ax[3].axis('off')\n",
        "\n",
        "plt.tight_layout()\n",
        "plt.show()"
      ],
      "execution_count": 0,
      "outputs": []
    },
    {
      "cell_type": "markdown",
      "metadata": {
        "id": "NgaCqCgDaCPq",
        "colab_type": "text"
      },
      "source": [
        "### Felzenszwalb's efficient graph-based image segmentation"
      ]
    },
    {
      "cell_type": "code",
      "metadata": {
        "id": "rANDniNhaCPr",
        "colab_type": "code",
        "colab": {}
      },
      "source": [
        "from skimage.data import astronaut\n",
        "from skimage.io import imread\n",
        "from skimage.color import rgb2gray\n",
        "from skimage.filters import sobel\n",
        "from skimage.segmentation import felzenszwalb, slic, quickshift, watershed\n",
        "from skimage.segmentation import mark_boundaries, find_boundaries\n",
        "from skimage.util import img_as_float"
      ],
      "execution_count": 0,
      "outputs": []
    },
    {
      "cell_type": "code",
      "metadata": {
        "id": "146P-eYRaCPt",
        "colab_type": "code",
        "colab": {}
      },
      "source": [
        "from matplotlib.colors import LinearSegmentedColormap\n",
        "for imfile in ['../images/eagle.jpg', '../images/horses.jpg', '../images/flowers.jpg', '../images/bisons.jpg']:\n",
        "    img = img_as_float(imread(imfile)[::2, ::2, :3])\n",
        "    plt.figure(figsize=(20,10))\n",
        "    segments_fz = felzenszwalb(img, scale=100, sigma=0.5, min_size=100) #300\n",
        "    borders = find_boundaries(segments_fz)\n",
        "    unique_colors = np.unique(segments_fz.ravel())\n",
        "    segments_fz[borders] = -1 #len(unique_colors)\n",
        "    colors = [np.zeros(3)]\n",
        "    for color in unique_colors:\n",
        "        colors.append(np.mean(img[segments_fz == color], axis=0))    \n",
        "    cm = LinearSegmentedColormap.from_list('pallete', colors, N=len(colors))\n",
        "    plt.subplot(121)\n",
        "    plt.imshow(img)\n",
        "    plt.title('Original', size=20)\n",
        "    plt.axis('off') \n",
        "    plt.subplot(122)\n",
        "    plt.imshow(segments_fz, cmap=cm)\n",
        "    plt.title('Segmented with Felzenszwalbs\\'s method', size=20)\n",
        "    plt.axis('off')   \n",
        "    plt.tight_layout()\n",
        "    plt.show()"
      ],
      "execution_count": 0,
      "outputs": []
    },
    {
      "cell_type": "code",
      "metadata": {
        "id": "lnlD19KxaCPw",
        "colab_type": "code",
        "colab": {}
      },
      "source": [
        "def plot_image(img, title):\n",
        "    plt.imshow(img)\n",
        "    plt.title(title, size=20)\n",
        "    plt.axis('off')    \n",
        "    \n",
        "img = imread('../images/fish.jpg')[::2, ::2, :3] #img_as_float(astronaut()[::2, ::2])\n",
        "\n",
        "plt.figure(figsize=(12,12))\n",
        "i = 1\n",
        "for scale in [50, 100, 200, 400]:\n",
        "    plt.subplot(2,2,i)\n",
        "    segments_fz = felzenszwalb(img, scale=scale, sigma=0.5, min_size=200)\n",
        "    plot_image(mark_boundaries(img, segments_fz), 'scale=' + str(scale))\n",
        "    i += 1\n",
        "plt.suptitle('Felzenszwalbs\\'s method', size=30)\n",
        "plt.tight_layout(rect=[0, 0.03, 1, 0.95])\n",
        "plt.show()"
      ],
      "execution_count": 0,
      "outputs": []
    },
    {
      "cell_type": "markdown",
      "metadata": {
        "id": "w7Uq9gknaCPz",
        "colab_type": "text"
      },
      "source": [
        "### Segmentation with SLIC"
      ]
    },
    {
      "cell_type": "code",
      "metadata": {
        "id": "2TNTgWShaCPz",
        "colab_type": "code",
        "colab": {}
      },
      "source": [
        "plt.figure(figsize=(12,12))\n",
        "i = 1\n",
        "for compactness in [0.1, 1, 10, 100]:\n",
        "    plt.subplot(2,2,i)\n",
        "    segments_slic = slic(img, n_segments=250, compactness=compactness, sigma=1)\n",
        "    plot_image(mark_boundaries(img, segments_slic), 'compactness=' + str(compactness))\n",
        "    i += 1\n",
        "plt.suptitle('SLIC', size=30)\n",
        "plt.tight_layout(rect=[0, 0.03, 1, 0.95])\n",
        "plt.show()"
      ],
      "execution_count": 0,
      "outputs": []
    },
    {
      "cell_type": "markdown",
      "metadata": {
        "id": "8MFT_VtraCP1",
        "colab_type": "text"
      },
      "source": [
        "### Segmentation with QuickShift"
      ]
    },
    {
      "cell_type": "code",
      "metadata": {
        "id": "697Apip5aCP2",
        "colab_type": "code",
        "colab": {}
      },
      "source": [
        "plt.figure(figsize=(12,12))\n",
        "i = 1\n",
        "for max_dist in [5, 100]:\n",
        "    for ratio in [0.3, 0.7]:\n",
        "        plt.subplot(2,2,i)\n",
        "        segments_quick = quickshift(img, kernel_size=3, max_dist=max_dist, ratio=ratio)\n",
        "        plot_image(mark_boundaries(img, segments_quick), 'max_dist=' + str(max_dist) + ', ratio=' + str(ratio))\n",
        "        i += 1\n",
        "plt.suptitle('Quickshift', size=30)\n",
        "plt.tight_layout(rect=[0, 0.03, 1, 0.95])\n",
        "plt.show()"
      ],
      "execution_count": 0,
      "outputs": []
    },
    {
      "cell_type": "markdown",
      "metadata": {
        "id": "Hmdw6jFTaCP4",
        "colab_type": "text"
      },
      "source": [
        "### Segmentation with Watershed"
      ]
    },
    {
      "cell_type": "code",
      "metadata": {
        "id": "wRoSe9lAaCP4",
        "colab_type": "code",
        "colab": {}
      },
      "source": [
        "gradient = sobel(rgb2gray(img))\n",
        "plt.figure(figsize=(12,12))\n",
        "i = 1\n",
        "for markers in [50, 200]:\n",
        "    for compactness in [0.01, 0.001]:\n",
        "        plt.subplot(2,2,i)\n",
        "        segments_watershed = watershed(gradient, markers=markers, compactness=compactness)\n",
        "        plot_image(mark_boundaries(img, segments_watershed), 'markers=' + str(markers) + '.compactness=' + str(compactness))\n",
        "        i += 1\n",
        "plt.suptitle('Compact watershed', size=30)\n",
        "plt.tight_layout(rect=[0, 0.03, 1, 0.95])\n",
        "plt.show()"
      ],
      "execution_count": 0,
      "outputs": []
    },
    {
      "cell_type": "markdown",
      "metadata": {
        "id": "8pWuX9G0aCP6",
        "colab_type": "text"
      },
      "source": [
        "### RAG merging"
      ]
    },
    {
      "cell_type": "code",
      "metadata": {
        "id": "oasq78HOc2Ft",
        "colab_type": "code",
        "colab": {}
      },
      "source": [
        "from skimage import data, io, segmentation, color\n",
        "from skimage.future import graph\n",
        "import numpy as np\n",
        "\n",
        "\n",
        "def _weight_mean_color(graph, src, dst, n):\n",
        "    \"\"\"Callback to handle merging nodes by recomputing mean color.\n",
        "\n",
        "    The method expects that the mean color of `dst` is already computed.\n",
        "\n",
        "    Parameters\n",
        "    ----------\n",
        "    graph : RAG\n",
        "        The graph under consideration.\n",
        "    src, dst : int\n",
        "        The vertices in `graph` to be merged.\n",
        "    n : int\n",
        "        A neighbor of `src` or `dst` or both.\n",
        "\n",
        "    Returns\n",
        "    -------\n",
        "    data : dict\n",
        "        A dictionary with the `\"weight\"` attribute set as the absolute\n",
        "        difference of the mean color between node `dst` and `n`.\n",
        "    \"\"\"\n",
        "\n",
        "    diff = graph.nodes[dst]['mean color'] - graph.nodes[n]['mean color']\n",
        "    diff = np.linalg.norm(diff)\n",
        "    return {'weight': diff}\n",
        "\n",
        "\n",
        "def merge_mean_color(graph, src, dst):\n",
        "    \"\"\"Callback called before merging two nodes of a mean color distance graph.\n",
        "\n",
        "    This method computes the mean color of `dst`.\n",
        "\n",
        "    Parameters\n",
        "    ----------\n",
        "    graph : RAG\n",
        "        The graph under consideration.\n",
        "    src, dst : int\n",
        "        The vertices in `graph` to be merged.\n",
        "    \"\"\"\n",
        "    graph.nodes[dst]['total color'] += graph.nodes[src]['total color']\n",
        "    graph.nodes[dst]['pixel count'] += graph.nodes[src]['pixel count']\n",
        "    graph.nodes[dst]['mean color'] = (graph.nodes[dst]['total color'] / graph.nodes[dst]['pixel count'])\n",
        "\n",
        "\n",
        "img = imread('../images/me12.jpg') #data.coffee()\n",
        "labels = segmentation.slic(img, compactness=30, n_segments=400)\n",
        "g = graph.rag_mean_color(img, labels)\n",
        "\n",
        "labels2 = graph.merge_hierarchical(labels, g, thresh=35, rag_copy=False,\n",
        "                                   in_place_merge=True,\n",
        "                                   merge_func=merge_mean_color,\n",
        "                                   weight_func=_weight_mean_color)\n",
        "\n",
        "out = color.label2rgb(labels2, img, kind='avg', bg_label=0)\n",
        "out = segmentation.mark_boundaries(out, labels2, (0, 0, 0))\n",
        "plt.figure(figsize=(20,10))\n",
        "plt.subplot(121)\n",
        "plt.imshow(img)\n",
        "plt.axis('off')\n",
        "plt.subplot(122)\n",
        "plt.imshow(out)\n",
        "plt.axis('off')\n",
        "plt.tight_layout()\n",
        "plt.show()"
      ],
      "execution_count": 0,
      "outputs": []
    },
    {
      "cell_type": "markdown",
      "metadata": {
        "id": "7TzcMiIWaCP9",
        "colab_type": "text"
      },
      "source": [
        "### Region growing with SimpleITK"
      ]
    },
    {
      "cell_type": "code",
      "metadata": {
        "id": "YnVPZIQHh7nG",
        "colab_type": "code",
        "colab": {}
      },
      "source": [
        "!pip install SimpleITK"
      ],
      "execution_count": 0,
      "outputs": []
    },
    {
      "cell_type": "code",
      "metadata": {
        "id": "IyR_GBmVaCP9",
        "colab_type": "code",
        "colab": {}
      },
      "source": [
        "import SimpleITK as sitk\n",
        "def show_image(img, title=None):\n",
        "    nda = sitk.GetArrayViewFromImage(img)\n",
        "    #nda = np.transpose(nda, (1, 2, 0))\n",
        "    #print(nda.shape)\n",
        "    plt.imshow(nda, cmap='gray')   \n",
        "    plt.axis('off')\n",
        "    if(title):\n",
        "        plt.title(title, size=20)"
      ],
      "execution_count": 0,
      "outputs": []
    },
    {
      "cell_type": "code",
      "metadata": {
        "id": "M16ibFFXaCQA",
        "colab_type": "code",
        "colab": {}
      },
      "source": [
        "img = 255*rgb2gray(imread('../images/mri_T1.png'))\n",
        "#img = np.transpose(img, (2, 0, 1))\n",
        "img_T1 = sitk.GetImageFromArray(img) \n",
        "img_T1_255 = sitk.Cast(sitk.RescaleIntensity(img_T1), sitk.sitkUInt8)\n",
        "#print(img_T1.GetSize())\n",
        "#nda = sitk.GetArrayViewFromImage(img_T1)\n",
        "#print(nda.shape, nda.ndim)\n",
        "plt.figure(figsize=(10,10))\n",
        "show_image(img_T1, \"Original Image\")"
      ],
      "execution_count": 0,
      "outputs": []
    },
    {
      "cell_type": "code",
      "metadata": {
        "id": "Yq3aa5osaCQC",
        "colab_type": "code",
        "colab": {}
      },
      "source": [
        "seed = (100,120)\n",
        "for upper in [80, 85, 90]:\n",
        "    plt.figure(figsize=(18,20))\n",
        "    plt.subplot(221)\n",
        "    show_image(img_T1, \"Original Image\")\n",
        "    plt.scatter(seed[0], seed[1], color='red', s=50)\n",
        "    plt.subplot(222)\n",
        "    seg = sitk.ConnectedThreshold(img_T1, seedList=[seed], lower=40, upper=upper)\n",
        "    show_image(seg, \"Region Growing\")\n",
        "    plt.subplot(223)\n",
        "    show_image(sitk.LabelOverlay(img_T1_255, seg), \"Connected Threshold\")\n",
        "    plt.axis('off')\n",
        "    plt.tight_layout()\n",
        "    plt.show()"
      ],
      "execution_count": 0,
      "outputs": []
    },
    {
      "cell_type": "markdown",
      "metadata": {
        "id": "iKSVRH4WaCQE",
        "colab_type": "text"
      },
      "source": [
        "### Active contours"
      ]
    },
    {
      "cell_type": "code",
      "metadata": {
        "id": "wNHkU6dEaCQF",
        "colab_type": "code",
        "colab": {}
      },
      "source": [
        "from skimage import data\n",
        "from skimage.filters import gaussian\n",
        "from skimage.segmentation import active_contour\n",
        "img = data.astronaut()\n",
        "img_gray = rgb2gray(img)\n",
        "s = np.linspace(0, 2*np.pi, 400)\n",
        "x = 220 + 100*np.cos(s)\n",
        "y = 100 + 100*np.sin(s)\n",
        "init = np.array([x, y]).T\n",
        "i = 1\n",
        "plt.figure(figsize=(20,20))\n",
        "for max_it in [20, 30, 50, 100]:\n",
        "    snake = active_contour(gaussian(img_gray, 3), init, alpha=0.015, beta=10, gamma=0.001, max_iterations=max_it)\n",
        "    plt.subplot(2,2,i), plt.imshow(img), plt.plot(init[:, 0], init[:,\n",
        "    1], '--b', lw=3)\n",
        "    plt.plot(snake[:, 0], snake[:, 1], '-r', lw=3)\n",
        "    plt.axis('off'), plt.title('max_iteration=' + str(max_it), size=20)\n",
        "    i += 1\n",
        "plt.tight_layout(), plt.show()"
      ],
      "execution_count": 0,
      "outputs": []
    },
    {
      "cell_type": "markdown",
      "metadata": {
        "id": "5Br4Lu-gaCQH",
        "colab_type": "text"
      },
      "source": [
        "### Morphological snakes"
      ]
    },
    {
      "cell_type": "code",
      "metadata": {
        "id": "sUnHLDTHaCQI",
        "colab_type": "code",
        "colab": {}
      },
      "source": [
        "from skimage.segmentation import (morphological_chan_vese, morphological_geodesic_active_contour,\n",
        "                                  inverse_gaussian_gradient, checkerboard_level_set)\n",
        "\n",
        "def store_evolution_in(lst):\n",
        "    \"\"\"Returns a callback function to store the evolution of the level sets in\n",
        "    the given list.\n",
        "    \"\"\"\n",
        "\n",
        "    def _store(x):\n",
        "        lst.append(np.copy(x))\n",
        "       \n",
        "    return _store\n",
        "\n",
        "# Morphological ACWE\n",
        "image = imread('../images/me14.jpg')\n",
        "image_gray = rgb2gray(image)\n",
        "# initial level set\n",
        "init_lvl_set = checkerboard_level_set(image_gray.shape, 6)\n",
        "# list with intermediate results for plotting the evolution\n",
        "evolution = []\n",
        "callback = store_evolution_in(evolution)\n",
        "lvl_set = morphological_chan_vese(image_gray, 30, init_level_set=init_lvl_set, smoothing=3, iter_callback=callback)\n",
        "\n",
        "fig, axes = plt.subplots(2, 2, figsize=(20, 20))\n",
        "axes = axes.flatten()\n",
        "axes[0].imshow(image, cmap=\"gray\"), axes[0].set_axis_off(),\n",
        "axes[0].contour(lvl_set, [0.5], colors='r')\n",
        "axes[0].set_title(\"Morphological ACWE segmentation\", fontsize=12)\n",
        "axes[1].imshow(lvl_set, cmap=\"gray\"), axes[1].set_axis_off()\n",
        "contour = axes[1].contour(evolution[5], [0.5], colors='g')\n",
        "contour.collections[0].set_label(\"Iteration 5\")\n",
        "contour = axes[1].contour(evolution[10], [0.5], colors='y')\n",
        "contour.collections[0].set_label(\"Iteration 10\")\n",
        "contour = axes[1].contour(evolution[-1], [0.5], colors='r')\n",
        "contour.collections[0].set_label(\"Iteration \" + str(len(evolution)-1))\n",
        "axes[1].legend(loc=\"upper right\"), axes[1].set_title(\"Morphological ACWE evolution\", fontsize=12)\n",
        "                                                     \n",
        "# Morphological GAC\n",
        "image = imread('../images/fishes4.jpg')\n",
        "image_gray = rgb2gray(image)\n",
        "gimage = inverse_gaussian_gradient(image_gray)\n",
        "# initial level set\n",
        "init_lvl_set = np.zeros(image_gray.shape, dtype=np.int8)\n",
        "init_lvl_set[10:-10, 10:-10] = 1\n",
        "# list with intermediate results for plotting the evolution\n",
        "evolution = []\n",
        "callback = store_evolution_in(evolution)\n",
        "lvl_set = morphological_geodesic_active_contour(gimage, 400, init_lvl_set, smoothing=1, balloon=-1, threshold=0.7, iter_callback=callback)\n",
        "axes[2].imshow(image, cmap=\"gray\"), axes[2].set_axis_off(),\n",
        "axes[2].contour(lvl_set, [0.5], colors='r')\n",
        "axes[2].set_title(\"Morphological GAC segmentation\", fontsize=12)\n",
        "axes[3].imshow(lvl_set, cmap=\"gray\"), axes[3].set_axis_off()\n",
        "contour = axes[3].contour(evolution[100], [0.5], colors='g')\n",
        "contour.collections[0].set_label(\"Iteration 100\")\n",
        "contour = axes[3].contour(evolution[200], [0.5], colors='y')\n",
        "contour.collections[0].set_label(\"Iteration 200\")\n",
        "contour = axes[3].contour(evolution[-1], [0.5], colors='r')\n",
        "contour.collections[0].set_label(\"Iteration \" + str(len(evolution)-1))\n",
        "axes[3].legend(loc=\"upper right\"), axes[3].set_title(\"Morphological GAC evolution\", fontsize=12)\n",
        "fig.tight_layout(), plt.show()"
      ],
      "execution_count": 0,
      "outputs": []
    },
    {
      "cell_type": "markdown",
      "metadata": {
        "id": "1D8GRU2GaCQK",
        "colab_type": "text"
      },
      "source": [
        "### Edges-based/region-based segmentation"
      ]
    },
    {
      "cell_type": "code",
      "metadata": {
        "id": "4tSz8MkCaCQL",
        "colab_type": "code",
        "colab": {}
      },
      "source": [
        "coins = data.coins()\n",
        "#print(np.max(coins), np.min(coins), np.mean(coins))\n",
        "hist = np.histogram(coins, bins=np.arange(0, 256), density=True)\n",
        "#print(hist)\n",
        "\n",
        "fig, axes = plt.subplots(1, 2, figsize=(20, 10))\n",
        "axes[0].imshow(coins, cmap=plt.cm.gray, interpolation='nearest')\n",
        "axes[0].axis('off')\n",
        "axes[1].plot(hist[1][:-1], hist[0], lw=2)\n",
        "axes[1].set_title('histogram of gray values')\n",
        "plt.show()"
      ],
      "execution_count": 0,
      "outputs": []
    },
    {
      "cell_type": "code",
      "metadata": {
        "id": "NzRnTN9maCQN",
        "colab_type": "code",
        "colab": {}
      },
      "source": [
        "edges = canny(coins, sigma=2)\n",
        "\n",
        "fig, ax = plt.subplots(figsize=(10, 6))\n",
        "ax.imshow(edges, cmap=plt.cm.gray, interpolation='nearest')\n",
        "ax.set_title('Canny detector')\n",
        "ax.axis('off')\n",
        "plt.show()"
      ],
      "execution_count": 0,
      "outputs": []
    },
    {
      "cell_type": "code",
      "metadata": {
        "id": "8K6xtPhEaCQP",
        "colab_type": "code",
        "colab": {}
      },
      "source": [
        "from scipy import ndimage as ndi\n",
        "\n",
        "fill_coins = ndi.binary_fill_holes(edges)\n",
        "\n",
        "fig, ax = plt.subplots(figsize=(10, 6))\n",
        "ax.imshow(fill_coins, cmap=plt.cm.gray, interpolation='nearest')\n",
        "ax.set_title('filling the holes')\n",
        "ax.axis('off')\n",
        "plt.show()"
      ],
      "execution_count": 0,
      "outputs": []
    },
    {
      "cell_type": "code",
      "metadata": {
        "id": "TXcUcIrAaCQR",
        "colab_type": "code",
        "colab": {}
      },
      "source": [
        "from skimage import morphology\n",
        "\n",
        "coins_cleaned = morphology.remove_small_objects(fill_coins, 21)\n",
        "\n",
        "fig, ax = plt.subplots(figsize=(10, 6))\n",
        "ax.imshow(coins_cleaned, cmap=plt.cm.gray, interpolation='nearest')\n",
        "ax.set_title('removing small objects')\n",
        "ax.axis('off')\n",
        "plt.show()"
      ],
      "execution_count": 0,
      "outputs": []
    },
    {
      "cell_type": "code",
      "metadata": {
        "id": "4Sa4mAfkaCQT",
        "colab_type": "code",
        "colab": {}
      },
      "source": [
        "from skimage.filters import sobel\n",
        "\n",
        "elevation_map = sobel(coins)\n",
        "\n",
        "fig, ax = plt.subplots(figsize=(10, 6))\n",
        "ax.imshow(elevation_map, cmap=plt.cm.gray, interpolation='nearest')\n",
        "ax.set_title('elevation map')\n",
        "ax.axis('off')\n",
        "plt.show()\n",
        "print(elevation_map.shape)"
      ],
      "execution_count": 0,
      "outputs": []
    },
    {
      "cell_type": "code",
      "metadata": {
        "id": "MSoq_X20aCQV",
        "colab_type": "code",
        "colab": {}
      },
      "source": [
        "markers = np.zeros_like(coins)\n",
        "markers[coins < 30] = 1\n",
        "markers[coins > 150] = 2\n",
        "print(np.max(markers), np.min(markers))\n",
        "\n",
        "fig, ax = plt.subplots(figsize=(10, 6))\n",
        "a = ax.imshow(markers, cmap=plt.cm.hot, interpolation='nearest')\n",
        "plt.colorbar(a)\n",
        "ax.set_title('markers')\n",
        "ax.axis('off')\n",
        "plt.show()"
      ],
      "execution_count": 0,
      "outputs": []
    },
    {
      "cell_type": "code",
      "metadata": {
        "id": "RXiYRdK5aCQX",
        "colab_type": "code",
        "colab": {}
      },
      "source": [
        "segmentation = morphology.watershed(elevation_map, markers)\n",
        "\n",
        "fig, ax = plt.subplots(figsize=(10, 6))\n",
        "ax.imshow(segmentation, cmap=plt.cm.gray, interpolation='nearest')\n",
        "ax.set_title('segmentation')\n",
        "ax.axis('off')\n",
        "plt.show()"
      ],
      "execution_count": 0,
      "outputs": []
    },
    {
      "cell_type": "code",
      "metadata": {
        "id": "e4LbtNW7aCQa",
        "colab_type": "code",
        "colab": {}
      },
      "source": [
        "from skimage.color import label2rgb\n",
        "\n",
        "segmentation = ndi.binary_fill_holes(segmentation - 1)\n",
        "labeled_coins, _ = ndi.label(segmentation)\n",
        "print(np.unique(labeled_coins))\n",
        "image_label_overlay = label2rgb(labeled_coins, image=coins)\n",
        "\n",
        "fig, axes = plt.subplots(1, 2, figsize=(20, 6), sharey=True)\n",
        "axes[0].imshow(coins, cmap=plt.cm.gray, interpolation='nearest')\n",
        "axes[0].contour(segmentation, [0.5], linewidths=1.2, colors='y')\n",
        "axes[1].imshow(image_label_overlay, interpolation='nearest')\n",
        "\n",
        "for a in axes:\n",
        "    a.axis('off')\n",
        "\n",
        "plt.tight_layout()\n",
        "\n",
        "plt.show()"
      ],
      "execution_count": 0,
      "outputs": []
    }
  ]
}