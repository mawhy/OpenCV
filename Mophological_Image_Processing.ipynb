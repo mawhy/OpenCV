{
  "nbformat": 4,
  "nbformat_minor": 0,
  "metadata": {
    "kernelspec": {
      "display_name": "Python 3",
      "language": "python",
      "name": "python3"
    },
    "language_info": {
      "codemirror_mode": {
        "name": "ipython",
        "version": 3
      },
      "file_extension": ".py",
      "mimetype": "text/x-python",
      "name": "python",
      "nbconvert_exporter": "python",
      "pygments_lexer": "ipython3",
      "version": "3.5.4"
    },
    "colab": {
      "name": "Mophological Image Processing",
      "provenance": [],
      "collapsed_sections": [],
      "include_colab_link": true
    }
  },
  "cells": [
    {
      "cell_type": "markdown",
      "metadata": {
        "id": "view-in-github",
        "colab_type": "text"
      },
      "source": [
        "<a href=\"https://colab.research.google.com/github/mawhy/OpenCV/blob/master/Mophological_Image_Processing.ipynb\" target=\"_parent\"><img src=\"https://colab.research.google.com/assets/colab-badge.svg\" alt=\"Open In Colab\"/></a>"
      ]
    },
    {
      "cell_type": "markdown",
      "metadata": {
        "id": "R32snWT6QT1j",
        "colab_type": "text"
      },
      "source": [
        "# Hands-on Image Processing with Python\n",
        "## Mophological Image Processing"
      ]
    },
    {
      "cell_type": "markdown",
      "metadata": {
        "id": "MkKKzUFKQT1k",
        "colab_type": "text"
      },
      "source": [
        ""
      ]
    },
    {
      "cell_type": "code",
      "metadata": {
        "id": "EsqI13jgQZH9",
        "colab_type": "code",
        "colab": {}
      },
      "source": [
        "!git clone https://github.com/PacktPublishing/Hands-On-Image-Processing-with-Python.git\n",
        "%cp -av \"/content/Hands-On-Image-Processing-with-Python/images/\" \"/\"\n",
        "%rm -rf \"/content/Hands-On-Image-Processing-with-Python\"\n"
      ],
      "execution_count": 0,
      "outputs": []
    },
    {
      "cell_type": "code",
      "metadata": {
        "id": "t6gYX89CRPlP",
        "colab_type": "code",
        "colab": {}
      },
      "source": [
        "% matplotlib inline \n",
        "from PIL import Image\n",
        "from skimage.io import imread, imshow, show\n",
        "import scipy.fftpack as fp\n",
        "from scipy import ndimage, misc, signal\n",
        "#from scipy.stats import signaltonoise\n",
        "from skimage import data, img_as_float\n",
        "from skimage.color import rgb2gray\n",
        "from skimage.transform import rescale\n",
        "import matplotlib.pylab as pylab\n",
        "import numpy as np\n",
        "import numpy.fft\n",
        "import timeit"
      ],
      "execution_count": 0,
      "outputs": []
    },
    {
      "cell_type": "markdown",
      "metadata": {
        "id": "kzlwk3gHQT1l",
        "colab_type": "text"
      },
      "source": [
        "### Erosion"
      ]
    },
    {
      "cell_type": "code",
      "metadata": {
        "id": "mwC_6RnYQT1l",
        "colab_type": "code",
        "colab": {}
      },
      "source": [
        "% matplotlib inline\n",
        "from skimage.io import imread\n",
        "from skimage.color import rgb2gray\n",
        "import matplotlib.pylab as pylab\n",
        "from skimage.morphology import binary_erosion, rectangle\n",
        "\n",
        "def plot_image(image, title=''):\n",
        "    pylab.title(title, size=20), pylab.imshow(image)\n",
        "    pylab.axis('off') # comment this line if you want axis ticks\n",
        "    \n",
        "\n",
        "im = rgb2gray(imread('../images/clock2.jpg'))\n",
        "im[im <= 0.5] = 0 # create binary image with fixed threshold 0.5\n",
        "im[im > 0.5] = 1\n",
        "pylab.gray()\n",
        "pylab.figure(figsize=(20,10))\n",
        "pylab.subplot(1,3,1), plot_image(im, 'original')\n",
        "im1 = binary_erosion(im, rectangle(1,5))\n",
        "pylab.subplot(1,3,2), plot_image(im1, 'erosion with rectangle size (1,5)')\n",
        "im1 = binary_erosion(im, rectangle(1,15))\n",
        "pylab.subplot(1,3,3), plot_image(im1, 'erosion with rectangle size (1,15)')\n",
        "pylab.show()"
      ],
      "execution_count": 0,
      "outputs": []
    },
    {
      "cell_type": "markdown",
      "metadata": {
        "id": "e7Cw8wSgQT1p",
        "colab_type": "text"
      },
      "source": [
        "### Dilation"
      ]
    },
    {
      "cell_type": "code",
      "metadata": {
        "id": "XcVmHZiHQT1q",
        "colab_type": "code",
        "colab": {}
      },
      "source": [
        "from skimage.morphology import binary_dilation, disk\n",
        "from skimage import img_as_float\n",
        "im = img_as_float(imread('../images/tagore.png'))\n",
        "im = 1 - im[...,3]\n",
        "im[im <= 0.5] = 0\n",
        "im[im > 0.5] = 1\n",
        "pylab.gray()\n",
        "pylab.figure(figsize=(18,9))\n",
        "pylab.subplot(131)\n",
        "pylab.imshow(im)\n",
        "pylab.title('original', size=20)\n",
        "pylab.axis('off')\n",
        "for d in range(1,3):\n",
        "    pylab.subplot(1,3,d+1)\n",
        "    im1 = binary_dilation(im, disk(2*d))\n",
        "    pylab.imshow(im1)\n",
        "    pylab.title('dilation with disk size ' + str(2*d), size=20)\n",
        "    pylab.axis('off')\n",
        "pylab.show()    "
      ],
      "execution_count": 0,
      "outputs": []
    },
    {
      "cell_type": "markdown",
      "metadata": {
        "id": "UtiIhQJlQT1t",
        "colab_type": "text"
      },
      "source": [
        "### Opening and closing"
      ]
    },
    {
      "cell_type": "code",
      "metadata": {
        "id": "8kk5_zRfQT1t",
        "colab_type": "code",
        "colab": {}
      },
      "source": [
        "from skimage.morphology import binary_opening, binary_closing, binary_erosion, binary_dilation, disk\n",
        "im = rgb2gray(imread('../images/circles.jpg'))\n",
        "im[im <= 0.5] = 0\n",
        "im[im > 0.5] = 1\n",
        "pylab.gray()\n",
        "pylab.figure(figsize=(20,10))\n",
        "pylab.subplot(1,3,1), plot_image(im, 'original')\n",
        "im1 = binary_opening(im, disk(12))\n",
        "pylab.subplot(1,3,2), plot_image(im1, 'opening with disk size ' + str(12))\n",
        "im1 = binary_closing(im, disk(6))\n",
        "pylab.subplot(1,3,3), plot_image(im1, 'closing with disk size ' + str(6))\n",
        "pylab.show()"
      ],
      "execution_count": 0,
      "outputs": []
    },
    {
      "cell_type": "markdown",
      "metadata": {
        "id": "U8iAmLc8QT1w",
        "colab_type": "text"
      },
      "source": [
        "### Skeletonizing"
      ]
    },
    {
      "cell_type": "code",
      "metadata": {
        "id": "u9sChTAYQT1w",
        "colab_type": "code",
        "colab": {}
      },
      "source": [
        "def plot_images_horizontally(original, filtered, filter_name, sz=(18,7)):\n",
        "    pylab.gray()\n",
        "    pylab.figure(figsize = sz)\n",
        "    pylab.subplot(1,2,1), plot_image(original, 'original')\n",
        "    pylab.subplot(1,2,2), plot_image(filtered, filter_name)\n",
        "    pylab.show()\n",
        "\n",
        "from skimage.morphology import skeletonize\n",
        "im = img_as_float(imread('../images/dynasaur.png')[...,3])\n",
        "threshold = 0.5\n",
        "im[im <= threshold] = 0\n",
        "im[im > threshold] = 1\n",
        "skeleton = skeletonize(im)\n",
        "plot_images_horizontally(im, skeleton, 'skeleton',sz=(18,9))"
      ],
      "execution_count": 0,
      "outputs": []
    },
    {
      "cell_type": "markdown",
      "metadata": {
        "id": "brlc3eLyQT1z",
        "colab_type": "text"
      },
      "source": [
        "### Computing the convex hull"
      ]
    },
    {
      "cell_type": "code",
      "metadata": {
        "id": "Mmw9UbyrQT1z",
        "colab_type": "code",
        "colab": {}
      },
      "source": [
        "from skimage.morphology import convex_hull_image\n",
        "im = rgb2gray(imread('../images/horse-dog.jpg'))\n",
        "threshold = 0.5\n",
        "im[im < threshold] = 0 # convert to binary image\n",
        "im[im >= threshold] = 1\n",
        "chull = convex_hull_image(im)\n",
        "plot_images_horizontally(im, chull, 'convex hull', sz=(18,9))"
      ],
      "execution_count": 0,
      "outputs": []
    },
    {
      "cell_type": "code",
      "metadata": {
        "id": "jeKkRC-3QT11",
        "colab_type": "code",
        "colab": {}
      },
      "source": [
        "im = im.astype(np.bool)\n",
        "chull_diff = img_as_float(chull.copy())\n",
        "chull_diff[im] = 2\n",
        "pylab.figure(figsize=(20,10))\n",
        "pylab.imshow(chull_diff, cmap=pylab.cm.gray, interpolation='nearest')\n",
        "pylab.title('Difference Image', size=20)\n",
        "pylab.show()"
      ],
      "execution_count": 0,
      "outputs": []
    },
    {
      "cell_type": "markdown",
      "metadata": {
        "id": "1RwxW6RHQT14",
        "colab_type": "text"
      },
      "source": [
        "### Removing small objects"
      ]
    },
    {
      "cell_type": "code",
      "metadata": {
        "id": "_jiYyxq8QT15",
        "colab_type": "code",
        "colab": {}
      },
      "source": [
        "from skimage.morphology import remove_small_objects\n",
        "im = rgb2gray(imread('../images/circles.jpg'))\n",
        "im[im > 0.5] = 1 # create binary image by thresholding with fixed threshold\n",
        "0.5\n",
        "im[im <= 0.5] = 0\n",
        "im = im.astype(np.bool)\n",
        "pylab.figure(figsize=(20,20))\n",
        "pylab.subplot(2,2,1), plot_image(im, 'original')\n",
        "i = 2\n",
        "for osz in [50, 200, 500]:\n",
        "    im1 = remove_small_objects(im, osz, connectivity=1)\n",
        "    pylab.subplot(2,2,i), plot_image(im1, 'removing small objects below size ' + str(osz))\n",
        "    i += 1\n",
        "pylab.show()"
      ],
      "execution_count": 0,
      "outputs": []
    },
    {
      "cell_type": "markdown",
      "metadata": {
        "id": "DigaeQJLQT17",
        "colab_type": "text"
      },
      "source": [
        "### White and black top-hats"
      ]
    },
    {
      "cell_type": "code",
      "metadata": {
        "id": "EULdMmDbQT17",
        "colab_type": "code",
        "colab": {}
      },
      "source": [
        "from skimage.morphology import white_tophat, black_tophat, square\n",
        "im = imread('../images/tagore.png')[...,3]\n",
        "im[im <= 0.5] = 0\n",
        "im[im > 0.5] = 1\n",
        "im1 = white_tophat(im, square(5))\n",
        "im2 = black_tophat(im, square(5))\n",
        "pylab.figure(figsize=(20,15))\n",
        "pylab.subplot(1,2,1), plot_image(im1, 'white tophat')\n",
        "pylab.subplot(1,2,2), plot_image(im2, 'black tophat')\n",
        "pylab.show()"
      ],
      "execution_count": 0,
      "outputs": []
    },
    {
      "cell_type": "markdown",
      "metadata": {
        "id": "m0PwKMjlQT1-",
        "colab_type": "text"
      },
      "source": [
        "### Extracting the boundary"
      ]
    },
    {
      "cell_type": "code",
      "metadata": {
        "id": "n0QJGWrdQT1-",
        "colab_type": "code",
        "colab": {}
      },
      "source": [
        "from skimage.morphology import binary_erosion\n",
        "im = rgb2gray(imread('../images/horse-dog.jpg'))\n",
        "threshold = 0.5\n",
        "im[im < threshold] = 0\n",
        "im[im >= threshold] = 1\n",
        "boundary = im - binary_erosion(im)\n",
        "plot_images_horizontally(im, boundary, 'boundary',sz=(18,9))"
      ],
      "execution_count": 0,
      "outputs": []
    },
    {
      "cell_type": "markdown",
      "metadata": {
        "id": "R0Y5cpF7QT2A",
        "colab_type": "text"
      },
      "source": [
        "### Fingerprint cleaning with opening and closing"
      ]
    },
    {
      "cell_type": "code",
      "metadata": {
        "id": "vBIz872jQT2B",
        "colab_type": "code",
        "colab": {}
      },
      "source": [
        "im = rgb2gray(imread('../images/fingerprint.jpg'))\n",
        "im[im <= 0.5] = 0 # binarize\n",
        "im[im > 0.5] = 1\n",
        "im_o = binary_opening(im, square(2))\n",
        "im_c = binary_closing(im, square(2))\n",
        "im_oc = binary_closing(binary_opening(im, square(2)), square(2))\n",
        "pylab.figure(figsize=(20,20))\n",
        "pylab.subplot(221), plot_image(im, 'original')\n",
        "pylab.subplot(222), plot_image(im_o, 'opening')\n",
        "pylab.subplot(223), plot_image(im_c, 'closing')\n",
        "pylab.subplot(224), plot_image(im_oc, 'opening + closing')\n",
        "pylab.show()"
      ],
      "execution_count": 0,
      "outputs": []
    },
    {
      "cell_type": "markdown",
      "metadata": {
        "id": "mIg7F8hbQT2E",
        "colab_type": "text"
      },
      "source": [
        "### Grayscale operations"
      ]
    },
    {
      "cell_type": "code",
      "metadata": {
        "id": "Y2vOjPzAQT2E",
        "colab_type": "code",
        "colab": {}
      },
      "source": [
        "from skimage.morphology import dilation, erosion, closing, opening, square\n",
        "im = imread('../images/zebras.jpg')\n",
        "im = rgb2gray(im)\n",
        "struct_elem = square(5)\n",
        "eroded = erosion(im, struct_elem)\n",
        "plot_images_horizontally(im, eroded, 'erosion')"
      ],
      "execution_count": 0,
      "outputs": []
    },
    {
      "cell_type": "code",
      "metadata": {
        "id": "vFcqIWizQT2G",
        "colab_type": "code",
        "colab": {}
      },
      "source": [
        "dilated = dilation(im, struct_elem)\n",
        "plot_images_horizontally(im, dilated, 'dilation')"
      ],
      "execution_count": 0,
      "outputs": []
    },
    {
      "cell_type": "code",
      "metadata": {
        "id": "CwFhohtjQT2I",
        "colab_type": "code",
        "colab": {}
      },
      "source": [
        "opened = opening(im, struct_elem)\n",
        "plot_images_horizontally(im, opened, 'opening')"
      ],
      "execution_count": 0,
      "outputs": []
    },
    {
      "cell_type": "code",
      "metadata": {
        "id": "UrlM56fYQT2N",
        "colab_type": "code",
        "colab": {}
      },
      "source": [
        "closed = closing(im, struct_elem)\n",
        "plot_images_horizontally(im, closed, 'closing')"
      ],
      "execution_count": 0,
      "outputs": []
    },
    {
      "cell_type": "markdown",
      "metadata": {
        "id": "YfGa_TGTQT2P",
        "colab_type": "text"
      },
      "source": [
        "### Morphological contrast enhancement"
      ]
    },
    {
      "cell_type": "code",
      "metadata": {
        "id": "bbnby-4NQT2Q",
        "colab_type": "code",
        "colab": {}
      },
      "source": [
        "from skimage.filters.rank import enhance_contrast\n",
        "from skimage import exposure\n",
        "def plot_gray_image(ax, image, title):\n",
        "    ax.imshow(image, cmap=pylab.cm.gray),\n",
        "    ax.set_title(title), ax.axis('off')\n",
        "    ax.set_adjustable('box')\n",
        "    \n",
        "image = rgb2gray(imread('../images/squirrel.jpg'))\n",
        "sigma = 0.05\n",
        "noisy_image = np.clip(image + sigma * np.random.standard_normal(image.shape), 0, 1)\n",
        "enhanced_image = enhance_contrast(noisy_image, disk(5))\n",
        "equalized_image = exposure.equalize_adapthist(noisy_image)\n",
        "\n",
        "fig, axes = pylab.subplots(1, 3, figsize=[18, 7], sharex='row',sharey='row')\n",
        "axes1, axes2, axes3 = axes.ravel()\n",
        "plot_gray_image(axes1, noisy_image, 'Original')\n",
        "plot_gray_image(axes2, enhanced_image, 'Local morphological contrast enhancement')\n",
        "plot_gray_image(axes3, equalized_image, 'Adaptive Histogram equalization')"
      ],
      "execution_count": 0,
      "outputs": []
    },
    {
      "cell_type": "markdown",
      "metadata": {
        "id": "Ihxyr3jiQT2T",
        "colab_type": "text"
      },
      "source": [
        "### Noise removal with the median filter"
      ]
    },
    {
      "cell_type": "code",
      "metadata": {
        "id": "INgABoNKQT2W",
        "colab_type": "code",
        "colab": {}
      },
      "source": [
        "from skimage.filters.rank import median\n",
        "from skimage.morphology import disk\n",
        "noisy_image = (rgb2gray(imread('../images/lena.jpg'))*255).astype(np.uint8)\n",
        "noise = np.random.random(noisy_image.shape)\n",
        "noisy_image[noise > 0.9] = 255\n",
        "noisy_image[noise < 0.1] = 0\n",
        "fig, axes = pylab.subplots(2, 2, figsize=(10, 10), sharex=True, sharey=True)\n",
        "axes1, axes2, axes3, axes4 = axes.ravel()\n",
        "plot_gray_image(axes1, noisy_image, 'Noisy image')\n",
        "plot_gray_image(axes2, median(noisy_image, disk(1)), 'Median $r=1$')\n",
        "plot_gray_image(axes3, median(noisy_image, disk(5)), 'Median $r=5$')\n",
        "plot_gray_image(axes4, median(noisy_image, disk(20)), 'Median $r=20$')"
      ],
      "execution_count": 0,
      "outputs": []
    },
    {
      "cell_type": "markdown",
      "metadata": {
        "id": "JE4-cjhZQT2Y",
        "colab_type": "text"
      },
      "source": [
        "### Computing the local entropy"
      ]
    },
    {
      "cell_type": "code",
      "metadata": {
        "id": "PGarvsh5QT2Y",
        "colab_type": "code",
        "colab": {}
      },
      "source": [
        "from skimage.morphology import disk\n",
        "from skimage.filters.rank import entropy\n",
        "image = rgb2gray(imread('../images/birds.png'))\n",
        "fig, (axes1, axes2) = pylab.subplots(1, 2, figsize=(18, 10), sharex=True, sharey=True)\n",
        "fig.colorbar(axes1.imshow(image, cmap=pylab.cm.gray), ax=axes1)\n",
        "axes1.axis('off'), axes1.set_title('Image', size=20), axes1.set_adjustable('box')\n",
        "fig.colorbar(axes2.imshow(entropy(image, disk(5)), cmap=pylab.cm.inferno), ax=axes2)\n",
        "axes2.axis('off'), axes2.set_title('Entropy', size=20), axes2.set_adjustable('box')\n",
        "pylab.show()"
      ],
      "execution_count": 0,
      "outputs": []
    },
    {
      "cell_type": "markdown",
      "metadata": {
        "id": "NYJeovoKQT2b",
        "colab_type": "text"
      },
      "source": [
        "### Filling holes in binary objects"
      ]
    },
    {
      "cell_type": "code",
      "metadata": {
        "id": "B9S5V9jrQT2b",
        "colab_type": "code",
        "colab": {}
      },
      "source": [
        "from scipy.ndimage.morphology import binary_fill_holes\n",
        "im = rgb2gray(imread('../images/text1.png'))\n",
        "im[im <= 0.5] = 0\n",
        "im[im > 0.5] = 1\n",
        "pylab.figure(figsize=(20,15))\n",
        "pylab.subplot(221), pylab.imshow(im), pylab.title('original', size=20),pylab.axis('off')\n",
        "i = 2\n",
        "for n in [3,5,7]:\n",
        "    pylab.subplot(2, 2, i)\n",
        "    im1 = binary_fill_holes(im, structure=np.ones((n,n)))\n",
        "    pylab.imshow(im1), pylab.title('binary_fill_holes with structure square side ' + str(n), size=20)\n",
        "    pylab.axis('off')\n",
        "    i += 1\n",
        "pylab.show()"
      ],
      "execution_count": 0,
      "outputs": []
    },
    {
      "cell_type": "markdown",
      "metadata": {
        "id": "Kzu-Gq9IQT2d",
        "colab_type": "text"
      },
      "source": [
        "### Using opening and closing to remove noise"
      ]
    },
    {
      "cell_type": "code",
      "metadata": {
        "id": "sfXCrc80QT2e",
        "colab_type": "code",
        "colab": {}
      },
      "source": [
        "from scipy import ndimage\n",
        "im = rgb2gray(imread('../images/mandrill_spnoise_0.1.jpg'))\n",
        "im_o = ndimage.grey_opening(im, size=(2,2))\n",
        "im_c = ndimage.grey_closing(im, size=(2,2))\n",
        "im_oc = ndimage.grey_closing(ndimage.grey_opening(im, size=(2,2)), size=(2,2))\n",
        "pylab.figure(figsize=(20,20))\n",
        "pylab.subplot(221), pylab.imshow(im), pylab.title('original', size=20), pylab.axis('off')\n",
        "pylab.subplot(222), pylab.imshow(im_o), pylab.title('opening (removes salt)', size=20), pylab.axis('off')\n",
        "pylab.subplot(223), pylab.imshow(im_c), pylab.title('closing (removes pepper)', size=20),pylab.axis('off')\n",
        "pylab.subplot(224), pylab.imshow(im_oc), pylab.title('opening + closing (removes salt + pepper)', size=20)\n",
        "pylab.axis('off')\n",
        "pylab.show()"
      ],
      "execution_count": 0,
      "outputs": []
    },
    {
      "cell_type": "markdown",
      "metadata": {
        "id": "jO-ZzfiHQT2f",
        "colab_type": "text"
      },
      "source": [
        "### Computing the morphological Beucher gradient"
      ]
    },
    {
      "cell_type": "code",
      "metadata": {
        "id": "03kT54K-QT2g",
        "colab_type": "code",
        "colab": {}
      },
      "source": [
        "from scipy import ndimage\n",
        "im = rgb2gray(imread('../images/einstein.jpg'))\n",
        "im_d = ndimage.grey_dilation(im, size=(3,3))\n",
        "im_e = ndimage.grey_erosion(im, size=(3,3))\n",
        "im_bg = im_d - im_e\n",
        "im_g = ndimage.morphological_gradient(im, size=(3,3))\n",
        "pylab.gray()\n",
        "pylab.figure(figsize=(20,18))\n",
        "pylab.subplot(231), pylab.imshow(im), pylab.title('original', size=20),\n",
        "pylab.axis('off')\n",
        "pylab.subplot(232), pylab.imshow(im_d), pylab.title('dilation', size=20),\n",
        "pylab.axis('off')\n",
        "pylab.subplot(233), pylab.imshow(im_e), pylab.title('erosion', size=20),\n",
        "pylab.axis('off')\n",
        "pylab.subplot(234), pylab.imshow(im_bg), pylab.title('Beucher gradient (bg)', size=20), pylab.axis('off')\n",
        "pylab.subplot(235), pylab.imshow(im_g), pylab.title('ndimage gradient (g)', size=20), pylab.axis('off')\n",
        "pylab.subplot(236), pylab.title('diff gradients (bg - g)', size=20), pylab.imshow(im_bg - im_g) \n",
        "pylab.axis('off')\n",
        "pylab.show()"
      ],
      "execution_count": 0,
      "outputs": []
    },
    {
      "cell_type": "markdown",
      "metadata": {
        "id": "lO44V6OeQT2i",
        "colab_type": "text"
      },
      "source": [
        "### Computing the morphological Laplace"
      ]
    },
    {
      "cell_type": "code",
      "metadata": {
        "id": "hvRwN4xpQT2i",
        "colab_type": "code",
        "colab": {}
      },
      "source": [
        "im = imread('../images/tagore.png')[...,3]\n",
        "im_g = ndimage.morphological_gradient(im, size=(3,3))\n",
        "im_l = ndimage.morphological_laplace(im, size=(5,5))\n",
        "pylab.figure(figsize=(15,10))\n",
        "pylab.subplot(121), pylab.title('ndimage morphological laplace', size=20), pylab.imshow(im_l)\n",
        "pylab.axis('off')\n",
        "pylab.subplot(122), pylab.title('ndimage morphological gradient', size=20),\n",
        "pylab.imshow(im_g)\n",
        "pylab.axis('off')\n",
        "pylab.show()"
      ],
      "execution_count": 0,
      "outputs": []
    },
    {
      "cell_type": "code",
      "metadata": {
        "id": "YRTnQrRIQT2l",
        "colab_type": "code",
        "colab": {}
      },
      "source": [
        ""
      ],
      "execution_count": 0,
      "outputs": []
    }
  ]
}